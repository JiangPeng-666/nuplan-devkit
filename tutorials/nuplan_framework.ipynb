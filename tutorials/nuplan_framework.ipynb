{
 "cells": [
  {
   "cell_type": "markdown",
   "id": "fcb4d62d",
   "metadata": {},
   "source": [
    "![](https://www.nuplan.org/static/media/nuPlan_final.3fde7586.png)"
   ]
  },
  {
   "cell_type": "markdown",
   "id": "8d454a26",
   "metadata": {},
   "source": [
    "### Contents\n",
    "\n",
    "1. [Introduction to nuPlan](#introduction)\n",
    "2. [Training an ML planner](#training)\n",
    "3. [Simulating a planner](#simulation)\n",
    "4. [Visualizing metrics and scenarios](#dashboard)"
   ]
  },
  {
   "cell_type": "markdown",
   "id": "a3422a43",
   "metadata": {},
   "source": [
    "# Introduction to nuPlan <a name=\"introduction\"></a>\n"
   ]
  },
  {
   "cell_type": "markdown",
   "id": "2b27eb25",
   "metadata": {},
   "source": [
    "Welcome to nuPlan! This notebook will explore the nuPlan simulation framework, training platform as well as the nuBoard metrics/scenarios visualization dashboard."
   ]
  },
  {
   "cell_type": "markdown",
   "id": "afead152",
   "metadata": {},
   "source": [
    "## What is nuPlan\n",
    "\n",
    "nuPlan is the world’s first closed-loop ML-based planning benchmark for autonomous driving.\n",
    "\n",
    "It provides a high quality dataset with 1500h of human driving data from 4 cities across the US and Asia with widely varying traffic patterns (Boston, Pittsburgh, Las Vegas and Singapore). In addition, it provides a closed-loop simulation framework with reactive agents, a training platform as well as a large set of both general and scenario-specific planning metrics.\n",
    "\n",
    "![](https://www.nuscenes.org/static/media/framework_steps.2d4642df.png)"
   ]
  },
  {
   "cell_type": "markdown",
   "id": "d4ece3a3",
   "metadata": {},
   "source": [
    "## Training & simulation framework\n",
    "\n",
    "The nuPlan training and simulation framework aims to:\n",
    "* create a simulation pipeline to evaluate a planner on large dataset with various scenarios\n",
    "* score planner performance with common and scenario-dependent metrics\n",
    "* compare planners based on measured metrics and provide intuitive visualizations\n",
    "* train planners with the provided framework to allow quick implementation and iteration\n",
    "* support closed-loop simulation and training\n",
    "\n",
    "<br />\n",
    "\n",
    "![](https://www.nuplan.org/static/media/planning_framework.ca3c2969.png)"
   ]
  },
  {
   "cell_type": "markdown",
   "id": "a1d23188",
   "metadata": {},
   "source": [
    "## Scenarios in nuPlan\n",
    "\n",
    "nuPlan aims to capture challenging yet representative scenarios from real-world encounters. This enables the benchmarking of planning systems both in expert imitation (open-loop) and reactive planning (closed-loop) settings.\n",
    "\n",
    "These scenarios includes:\n",
    "* highly interactive scenes with traffic participants (e.g. tailgating, high-velocity overtakes, double parked cars, jaywalking)\n",
    "* various ego behaviors (e.g. vehicle following, yielding, lane merging) and dynamics (e.g. mixed speed profiles, abrupt braking, speed bumps, high jerk maneuvers)\n",
    "* scene layouts of varied complexity (e.g. pudos, traffic/stop controlled intersections, unprotected turns) and temporary zones (e.g. construction areas)\n",
    "\n",
    "The dataset is automatically tagged with scenario labels based on certain primitive attributes.\n",
    "These scenario tags can then be used to extract representative metrics for the planner's evaluation.\n",
    "\n",
    "Example mined scenarios in nuPlan:\n",
    "\n",
    "| | | |\n",
    "| :-: | :-: | :-: |\n",
    "| Unprotected cross turn | Dense vehicle interactions | Jaywalker in front |\n",
    "| ![](https://www.nuscenes.org/static/media/unprotected-cross.51feef7e.webp) | ![](https://www.nuscenes.org/static/media/dense-interactions.16de47ec.webp) | ![](https://www.nuscenes.org/static/media/jaywalker.03083823.webp) |\n",
    "| Lane change | Ego at pickup/dropoff area | Ego following vehicle |\n",
    "| ![](https://www.nuscenes.org/static/media/lane-change.54bfca1c.webp) | ![](https://www.nuscenes.org/static/media/pickup-dropoff.4dd1c418.webp) | ![](https://www.nuscenes.org/static/media/following-vehicle.4cacd559.webp) |"
   ]
  },
  {
   "cell_type": "markdown",
   "id": "652ebd82",
   "metadata": {},
   "source": [
    "## Database\n",
    "\n",
    "Download a database for training/simulation from [here](https://nuplan.org/nuplan#download).\n",
    "\n",
    "| Database | Size | Duration | Num Logs | Cities | Num Scenarios | Sensor Data | Description |\n",
    "| :-- | :-- | :-- | :-- | :-- | :-- | :-- | :-- |\n",
    "| nuplan_v0.1_mini (recommended) | ~5GB | 2.5h | 8 | Las Vegas | 14 | N/A | nuPlan teaser database (mini version) |\n",
    "| nuplan_v0.1 | ~500GB | ~230h | 380 | Las Vegas | 14 | N/A | nuPlan teaser database |\n",
    "\n",
    "The full 1500h dataset with driving data from 4 cities (Boston, Pittsburgh, Las Vegas and Singapore) as well as sensor data will be released in Q1 2022."
   ]
  },
  {
   "cell_type": "markdown",
   "id": "2064bbc1",
   "metadata": {},
   "source": [
    "## Setup\n",
    "\n",
    "To be able to access all resources within this notebook, make sure Jupyter is launched at the root of this repo. The path of the notebook should be `/notebook/<repo_root>`."
   ]
  },
  {
   "cell_type": "code",
   "execution_count": 1,
   "id": "1dcf36e4",
   "metadata": {},
   "outputs": [
    {
     "name": "stderr",
     "output_type": "stream",
     "text": [
      "/tmp/ipykernel_20701/4180358289.py:2: DeprecationWarning: Importing display from IPython.core.display is deprecated since IPython 7.14, please import from IPython display\n",
      "  from IPython.core.display import display, HTML\n"
     ]
    },
    {
     "data": {
      "text/html": [
       "<style>.output_result { max-width:100% !important; }</style>"
      ],
      "text/plain": [
       "<IPython.core.display.HTML object>"
      ]
     },
     "metadata": {},
     "output_type": "display_data"
    },
    {
     "data": {
      "text/html": [
       "<style>.container { width:100% !important; }</style>"
      ],
      "text/plain": [
       "<IPython.core.display.HTML object>"
      ]
     },
     "metadata": {},
     "output_type": "display_data"
    }
   ],
   "source": [
    "# (Optional) Increase notebook width for all embedded cells to display properly\n",
    "from IPython.core.display import display, HTML\n",
    "display(HTML(\"<style>.output_result { max-width:100% !important; }</style>\"))\n",
    "display(HTML(\"<style>.container { width:100% !important; }</style>\"))"
   ]
  },
  {
   "cell_type": "code",
   "execution_count": 2,
   "id": "12e18a2e",
   "metadata": {},
   "outputs": [],
   "source": [
    "# Useful imports\n",
    "import os\n",
    "from pathlib import Path\n",
    "import tempfile\n",
    "\n",
    "import hydra"
   ]
  },
  {
   "cell_type": "markdown",
   "id": "288d8db0",
   "metadata": {},
   "source": [
    "# Training an ML planner <a name=\"training\"></a>"
   ]
  },
  {
   "cell_type": "markdown",
   "id": "15d80acc",
   "metadata": {},
   "source": [
    "## Imitation learning\n",
    "In the following section we will train an ML planning policy with the aim estimate the ego's future trajectory and control the vehicle.\n",
    "\n",
    "The policy is learned through imitation learning, a supervised learning approach in which - in the context of autonomous driving - the behavior of an expert human driver is used as a target signal to supervise the model.\n",
    "\n",
    "## Model features & targets\n",
    "A planning policy consumes a set of episodic observations and encodes them through a deep neural network to regress a future trajectory.\n",
    "\n",
    "The observations can be historic or present ego and agent poses as well as static/dynamic map information across different map layers.<br />\n",
    "These signals can be encoded through various representations, such as raster or vector format for the map signal, each with their pros and cons for each model flavor.\n",
    "\n",
    "Using these input features the model predicts a discretized future trajectory across a fixed time horizon.<br />\n",
    "The trajectory consists of a set of discrete future states (position, heading and velocity) sampled at fixed intervals which express the likelihood of the vehicle being at that state in the future.<br />\n",
    "For example, a predicted trajectory may consist of 10 future poses sampled at intervals of 0.5s across a 5s horizon.\n",
    "\n",
    "## Learning objectives\n",
    "The policy is trained to maximize a set of aggregated objectives such as imitation, collision avoidance, traffic rule violation etc.<br />\n",
    "Imitation is the core training objective which indicates how close the predicted trajectory is to the expert ground truth and penalizes model predictions that deviate in space and time from the demonstration."
   ]
  },
  {
   "cell_type": "markdown",
   "id": "d0800a03",
   "metadata": {},
   "source": [
    "## Training parameters"
   ]
  },
  {
   "cell_type": "markdown",
   "id": "602e5324",
   "metadata": {},
   "source": [
    "The following parameter categories define the training protocol which includes the model, metrics, objectives etc.\n",
    "\n",
    "A working example composition of these parameters can be found in the next section.\n",
    "\n",
    "---\n",
    "\n",
    "### ML models\n",
    "\n",
    "Change the training model with `model=X` where `X` is a config yaml defined in the table below. \n",
    "\n",
    "| Model | Description | Config |\n",
    "| --- | --- | --- |\n",
    "| Raster model (CNN) | Raster-based model that uses a CNN backbone to encode ego, agent and map information as raster layers<br />Any (pretrained) backbone from the TIMM library can be used (e.g. ResNet50, EfficientNetB3) | `raster_model` |\n",
    "| Vector model (LaneGCN) | Vector-based model that uses a series of MLPs to encode ego and agent signals, a lane graph to encode vector-map elements and a fusion network to capture lane & agent intra/inter-interactions through attention layers<br />Implementation of LaneGCN paper (\"Learning Lane Graph Representations for Motion Forecasting\") | `vector_model` |\n",
    "| Simple vector model | Toy vector-based model that consumes ego, agent and lane signals through a series of MLPs | `simple_vector_model` |\n",
    "\n",
    "<br />\n",
    "\n",
    "### Training objectives\n",
    "\n",
    "Change the training objectives with `objective=[X, ...]` where `X` is a config yaml defined in the table below. \n",
    "\n",
    "| Objective | Description | Config |\n",
    "| --- | --- | --- |\n",
    "| Imitation objective | Penalizes the predicted trajectory that deviates from the expert demonstration | `imitation_objective` |\n",
    "\n",
    "<br />\n",
    "\n",
    "### Training metrics\n",
    "\n",
    "Change the training objectives with `training_metric=[X, ...]` where `X` is a config yaml defined in the table below. \n",
    "\n",
    "| Metric | Description | Config |\n",
    "| --- | --- | --- |\n",
    "| Average displacement error | RMSE translation error across full predicted trajectory | `avg_displacement_error` |\n",
    "| Average heading error | RMSE heading error across full predicted trajectory | `avg_heading_error` |\n",
    "| Final displacement error | L2 error of predicted trajectory's final pose translation | `final_displacement_error` |\n",
    "| Final heading error | L2 error of predicted trajectory's final pose heading | `final_heading_error` |"
   ]
  },
  {
   "cell_type": "markdown",
   "id": "3ee66b84",
   "metadata": {},
   "source": [
    "## Prepare the training config"
   ]
  },
  {
   "cell_type": "code",
   "execution_count": 3,
   "id": "05860753",
   "metadata": {},
   "outputs": [
    {
     "name": "stderr",
     "output_type": "stream",
     "text": [
      "/home/fla/anaconda3/envs/nuplan/lib/python3.9/site-packages/hydra/_internal/defaults_list.py:251: UserWarning: In 'default_training': Defaults list is missing `_self_`. See https://hydra.cc/docs/upgrades/1.0_to_1.1/default_composition_order for more information\n",
      "  warnings.warn(msg, UserWarning)\n"
     ]
    }
   ],
   "source": [
    "# Location of path with all training configs\n",
    "CONFIG_PATH = '../nuplan/planning/script/config/training'\n",
    "CONFIG_NAME = 'default_training'\n",
    "\n",
    "# Create a temporary directory to store the cache and experiment artifacts\n",
    "SAVE_DIR = Path('/home/fla/temp') / 'tutorial_nuplan_framework'  # optionally replace with persistent dir\n",
    "EXPERIMENT = 'training_raster_experiment'\n",
    "LOG_DIR = str(SAVE_DIR / EXPERIMENT)\n",
    "\n",
    "# Initialize configuration management system\n",
    "hydra.core.global_hydra.GlobalHydra.instance().clear()\n",
    "hydra.initialize(config_path=CONFIG_PATH)\n",
    "\n",
    "# Compose the configuration\n",
    "cfg = hydra.compose(config_name=CONFIG_NAME, overrides=[\n",
    "    f'group={str(SAVE_DIR)}',\n",
    "    f'cache_dir={str(SAVE_DIR)}/cache',\n",
    "    f'experiment_name={EXPERIMENT}',\n",
    "    'py_func=train',\n",
    "    '+training=training_raster_model',  # raster model that consumes ego, agents and map raster layers and regresses the ego's trajectory\n",
    "    'scenario_builder=nuplan_mini',  # use nuplan mini database\n",
    "    'scenario_builder.nuplan.scenario_filter.limit_scenarios_per_type=500',  # Choose 500 scenarios to train with\n",
    "    'scenario_builder.nuplan.scenario_filter.subsample_ratio=0.01',  # subsample scenarios from 20Hz to 0.2Hz\n",
    "    'lightning.trainer.params.accelerator=ddp_spawn',  # ddp is not allowed in interactive environment, using ddp_spawn instead - this can bottleneck the data pipeline, it is recommended to run training outside the notebook\n",
    "    'lightning.trainer.params.max_epochs=10',\n",
    "    'data_loader.params.batch_size=8',\n",
    "    'data_loader.params.num_workers=8'\n",
    "])\n"
   ]
  },
  {
   "cell_type": "markdown",
   "id": "162273a1",
   "metadata": {},
   "source": [
    "## Launch tensorboard for visualizing training artifacts"
   ]
  },
  {
   "cell_type": "code",
   "execution_count": 4,
   "id": "5acfc262",
   "metadata": {},
   "outputs": [
    {
     "data": {
      "text/html": [
       "\n",
       "      <iframe id=\"tensorboard-frame-893f72c1ce4424b8\" width=\"100%\" height=\"800\" frameborder=\"0\">\n",
       "      </iframe>\n",
       "      <script>\n",
       "        (function() {\n",
       "          const frame = document.getElementById(\"tensorboard-frame-893f72c1ce4424b8\");\n",
       "          const url = new URL(\"/\", window.location);\n",
       "          const port = 6007;\n",
       "          if (port) {\n",
       "            url.port = port;\n",
       "          }\n",
       "          frame.src = url;\n",
       "        })();\n",
       "      </script>\n",
       "    "
      ],
      "text/plain": [
       "<IPython.core.display.HTML object>"
      ]
     },
     "metadata": {},
     "output_type": "display_data"
    }
   ],
   "source": [
    "%load_ext tensorboard\n",
    "%tensorboard --logdir {LOG_DIR}"
   ]
  },
  {
   "cell_type": "markdown",
   "id": "ff5edf94",
   "metadata": {},
   "source": [
    "## Launch training (within the notebook)"
   ]
  },
  {
   "cell_type": "code",
   "execution_count": 5,
   "id": "62fb9600",
   "metadata": {},
   "outputs": [
    {
     "name": "stderr",
     "output_type": "stream",
     "text": [
      "INFO:nuplan.planning.script.default_path:Setting default NUPLAN_DATA_ROOT: /home/fla/nuplan/dataset\n",
      "INFO:nuplan.planning.script.default_path:Setting default NUPLAN_EXP_ROOT: /home/fla/nuplan/exp\n",
      "Global seed set to 0\n",
      "INFO:nuplan.planning.script.builders.worker_pool_builder:Building WorkerPool...\n",
      "INFO:nuplan.planning.utils.multithreading.worker_ray:Starting ray local!\n",
      "E0222 16:16:41.013782922   20701 fork_posix.cc:70]           Fork support is only compatible with the epoll1 and poll polling strategies\n",
      "E0222 16:16:41.177251709   20701 fork_posix.cc:70]           Fork support is only compatible with the epoll1 and poll polling strategies\n",
      "2022-02-22 16:16:41,799\tINFO services.py:1374 -- View the Ray dashboard at \u001b[1m\u001b[32mhttp://172.21.2.20:8265\u001b[39m\u001b[22m\n",
      "E0222 16:16:41.802963354   20701 fork_posix.cc:70]           Fork support is only compatible with the epoll1 and poll polling strategies\n",
      "E0222 16:16:41.820575653   20701 fork_posix.cc:70]           Fork support is only compatible with the epoll1 and poll polling strategies\n",
      "INFO:nuplan.planning.utils.multithreading.worker_pool:Worker: RayDistributed\n",
      "INFO:nuplan.planning.utils.multithreading.worker_pool:Number of nodes: 1\n",
      "Number of CPUs per node: 12\n",
      "Number of GPUs per node: 1\n",
      "Number of threads across all nodes: 12\n",
      "INFO:nuplan.planning.script.builders.worker_pool_builder:Building WorkerPool...DONE!\n"
     ]
    },
    {
     "name": "stdout",
     "output_type": "stream",
     "text": [
      "2022-02-22 16:16:43,101 INFO {/home/fla/nuplan-devkit/nuplan/planning/script/builders/folder_builder.py:16}  Building experiment folders...\n",
      "2022-02-22 16:16:43,102 INFO {/home/fla/nuplan-devkit/nuplan/planning/script/builders/folder_builder.py:18}  Experimental folder: /home/fla/temp/tutorial_nuplan_framework/training_raster_experiment/2022.02.22.16.16.43\n",
      "2022-02-22 16:16:43,103 INFO {/home/fla/nuplan-devkit/nuplan/planning/script/builders/scenario_building_builder.py:17}  Building AbstractScenarioBuilder...\n",
      "2022-02-22 16:16:43,235 INFO {/home/fla/nuplan-devkit/nuplan/planning/script/builders/scenario_building_builder.py:20}  Building AbstractScenarioBuilder...DONE!\n",
      "2022-02-22 16:16:43,235 INFO {/home/fla/nuplan-devkit/nuplan/planning/training/experiments/training.py:43}  Building training engine...\n",
      "2022-02-22 16:16:43,235 INFO {/home/fla/nuplan-devkit/nuplan/planning/script/builders/model_builder.py:18}  Building NNModule...\n",
      "2022-02-22 16:16:43,540 INFO {/home/fla/anaconda3/envs/nuplan/lib/python3.9/site-packages/timm/models/helpers.py:188}  Loading pretrained weights from url (https://github.com/rwightman/pytorch-image-models/releases/download/v0.1-rsb-weights/resnet50_a1_0-14fe96d1.pth)\n",
      "2022-02-22 16:16:43,744 INFO {/home/fla/anaconda3/envs/nuplan/lib/python3.9/site-packages/timm/models/helpers.py:208}  Converted input conv conv1 pretrained weights from 3 to 4 channel(s)\n",
      "2022-02-22 16:16:43,769 INFO {/home/fla/nuplan-devkit/nuplan/planning/script/builders/model_builder.py:21}  Building NNModule...DONE!\n",
      "2022-02-22 16:16:43,769 INFO {/home/fla/nuplan-devkit/nuplan/planning/script/builders/splitter_builder.py:19}  Building Splitter...\n",
      "2022-02-22 16:16:43,786 INFO {/home/fla/nuplan-devkit/nuplan/planning/script/builders/splitter_builder.py:22}  Building Splitter...DONE!\n",
      "2022-02-22 16:16:43,786 INFO {/home/fla/nuplan-devkit/nuplan/planning/script/builders/scenario_filter_builder.py:19}  Building ScenarioFilter...\n",
      "2022-02-22 16:16:43,787 INFO {/home/fla/nuplan-devkit/nuplan/planning/script/builders/scenario_filter_builder.py:22}  Building ScenarioFilter...DONE!\n",
      "2022-02-22 16:16:43,787 INFO {/home/fla/nuplan-devkit/nuplan/planning/script/builders/training_builder.py:56}  Extracting all scenarios...\n",
      "2022-02-22 16:16:43,787 INFO {/home/fla/nuplan-devkit/nuplan/planning/scenario_builder/nuplan_db/nuplan_scenario_builder.py:121}  Initial scenario filtering...\n",
      "2022-02-22 16:16:46,869 INFO {/home/fla/nuplan-devkit/nuplan/planning/scenario_builder/nuplan_db/nuplan_scenario_builder.py:142}  Initial scenario filtering...DONE\n",
      "2022-02-22 16:16:46,869 INFO {/home/fla/nuplan-devkit/nuplan/planning/scenario_builder/nuplan_db/nuplan_scenario_builder.py:155}  Shuffling scenarios for each scenario type...\n",
      "2022-02-22 16:16:46,932 INFO {/home/fla/nuplan-devkit/nuplan/planning/scenario_builder/nuplan_db/nuplan_scenario_builder.py:158}  Shuffling scenarios for each scenario type...DONE\n",
      "2022-02-22 16:16:46,932 INFO {/home/fla/nuplan-devkit/nuplan/planning/scenario_builder/nuplan_db/nuplan_scenario_builder.py:162}  Limit scenario number by scenario type...\n",
      "2022-02-22 16:16:46,934 INFO {/home/fla/nuplan-devkit/nuplan/planning/scenario_builder/nuplan_db/nuplan_scenario_builder.py:174}  Limit scenario number by scenario type...DONE\n",
      "2022-02-22 16:16:46,935 INFO {/home/fla/nuplan-devkit/nuplan/planning/scenario_builder/nuplan_db/nuplan_scenario_builder.py:184}  Converting scenarios to AbstractScenario...\n",
      "2022-02-22 16:16:46,935 INFO {/home/fla/nuplan-devkit/nuplan/planning/utils/multithreading/worker_pool.py:107}  Submitting 12 tasks!\n"
     ]
    },
    {
     "name": "stderr",
     "output_type": "stream",
     "text": [
      "Ray objects: 100%|████████████████████████████████████████████████████████████████████████████████████████████████████████| 12/12 [00:01<00:00,  6.06it/s]\n"
     ]
    },
    {
     "name": "stdout",
     "output_type": "stream",
     "text": [
      "2022-02-22 16:16:48,922 INFO {/home/fla/nuplan-devkit/nuplan/planning/scenario_builder/nuplan_db/nuplan_scenario_builder.py:195}  Converting scenarios to AbstractScenario...DONE\n",
      "2022-02-22 16:16:48,922 INFO {/home/fla/nuplan-devkit/nuplan/planning/scenario_builder/nuplan_db/nuplan_scenario_builder.py:199}  Flattening multi-sample scenarios to single-sample scenarios...\n",
      "2022-02-22 16:16:48,922 INFO {/home/fla/nuplan-devkit/nuplan/planning/utils/multithreading/worker_pool.py:107}  Submitting 12 tasks!\n"
     ]
    },
    {
     "name": "stderr",
     "output_type": "stream",
     "text": [
      "Ray objects: 100%|██████████████████████████████████████████████████████████████████████████████████████████████████████| 12/12 [00:00<00:00, 1890.96it/s]\n"
     ]
    },
    {
     "name": "stdout",
     "output_type": "stream",
     "text": [
      "2022-02-22 16:16:48,937 INFO {/home/fla/nuplan-devkit/nuplan/planning/scenario_builder/nuplan_db/nuplan_scenario_builder.py:201}  Flattening multi-sample scenarios to single-sample scenarios...DONE\n",
      "2022-02-22 16:16:48,938 INFO {/home/fla/nuplan-devkit/nuplan/planning/scenario_builder/nuplan_db/nuplan_scenario_builder.py:226}  Total number of extracted scenarios: 500!\n"
     ]
    },
    {
     "name": "stderr",
     "output_type": "stream",
     "text": [
      "GPU available: True, used: True\n",
      "TPU available: False, using: 0 TPU cores\n",
      "Using native 16bit precision.\n",
      "Global seed set to 0\n",
      "initializing ddp: GLOBAL_RANK: 0, MEMBER: 1/1\n",
      "----------------------------------------------------------------------------------------------------\n",
      "distributed_backend=nccl\n",
      "All DDP processes registered. Starting ddp with 1 processes\n",
      "----------------------------------------------------------------------------------------------------\n",
      "\n"
     ]
    },
    {
     "name": "stdout",
     "output_type": "stream",
     "text": [
      "2022-02-22 16:16:49,171 INFO {/home/fla/nuplan-devkit/nuplan/planning/script/builders/training_builder.py:58}  Extracting all scenarios...DONE\n",
      "2022-02-22 16:16:49,176 INFO {/home/fla/nuplan-devkit/nuplan/planning/script/run_training.py:59}  Starting training...\n",
      "2022-02-22 16:16:49,182 INFO {/home/fla/anaconda3/envs/nuplan/lib/python3.9/site-packages/torch/distributed/distributed_c10d.py:194}  Added key: store_based_barrier_key:1 to store for rank: 0\n",
      "2022-02-22 16:16:49,182 INFO {/home/fla/anaconda3/envs/nuplan/lib/python3.9/site-packages/torch/distributed/distributed_c10d.py:224}  Rank 0: Completed store-based barrier for 1 nodes.\n"
     ]
    },
    {
     "name": "stderr",
     "output_type": "stream",
     "text": [
      "LOCAL_RANK: 0 - CUDA_VISIBLE_DEVICES: [0]\n",
      "\n",
      "  | Name  | Type        | Params\n",
      "--------------------------------------\n",
      "0 | model | RasterModel | 23.6 M\n",
      "--------------------------------------\n",
      "23.6 M    Trainable params\n",
      "0         Non-trainable params\n",
      "23.6 M    Total params\n",
      "94.340    Total estimated model params size (MB)\n"
     ]
    },
    {
     "name": "stdout",
     "output_type": "stream",
     "text": [
      "2022-02-22 16:16:51,724 INFO {/home/fla/nuplan-devkit/nuplan/planning/training/data_loader/datamodule.py:37}  Number of samples in train set: 368\n",
      "2022-02-22 16:16:51,724 INFO {/home/fla/nuplan-devkit/nuplan/planning/training/data_loader/datamodule.py:37}  Number of samples in validation set: 54\n"
     ]
    },
    {
     "name": "stderr",
     "output_type": "stream",
     "text": [
      "/home/fla/anaconda3/envs/nuplan/lib/python3.9/site-packages/pytorch_lightning/trainer/data_loading.py:73: UserWarning: num_workers>0, persistent_workers=False, and accelerator=ddp_spawn may result in data loading bottlenecks. Consider setting persistent_workers=True (this is a limitation of Python .spawn() and PyTorch)\n",
      "  rank_zero_warn(\n",
      "/home/fla/anaconda3/envs/nuplan/lib/python3.9/site-packages/pytorch_lightning/callbacks/lr_monitor.py:97: RuntimeWarning: You are using `LearningRateMonitor` callback with models that have no learning rate schedulers. Please see documentation for `configure_optimizers` method.\n",
      "  rank_zero_warn(\n"
     ]
    },
    {
     "data": {
      "application/vnd.jupyter.widget-view+json": {
       "model_id": "77bf0fd864cd44aa8427c2a2b4f6df63",
       "version_major": 2,
       "version_minor": 0
      },
      "text/plain": [
       "Training: 0it [00:00, ?it/s]"
      ]
     },
     "metadata": {},
     "output_type": "display_data"
    },
    {
     "name": "stderr",
     "output_type": "stream",
     "text": [
      "E0222 16:16:51.789976248   20701 fork_posix.cc:70]           Fork support is only compatible with the epoll1 and poll polling strategies\n",
      "E0222 16:16:51.835428668   20701 fork_posix.cc:70]           Fork support is only compatible with the epoll1 and poll polling strategies\n",
      "E0222 16:16:51.881431907   20701 fork_posix.cc:70]           Fork support is only compatible with the epoll1 and poll polling strategies\n",
      "E0222 16:16:51.923023450   20701 fork_posix.cc:70]           Fork support is only compatible with the epoll1 and poll polling strategies\n",
      "E0222 16:16:51.965298283   20701 fork_posix.cc:70]           Fork support is only compatible with the epoll1 and poll polling strategies\n",
      "E0222 16:16:52.007117692   20701 fork_posix.cc:70]           Fork support is only compatible with the epoll1 and poll polling strategies\n",
      "E0222 16:16:52.052710522   20701 fork_posix.cc:70]           Fork support is only compatible with the epoll1 and poll polling strategies\n",
      "E0222 16:16:52.098742179   20701 fork_posix.cc:70]           Fork support is only compatible with the epoll1 and poll polling strategies\n",
      "/home/fla/anaconda3/envs/nuplan/lib/python3.9/site-packages/torch/nn/functional.py:718: UserWarning: Named tensors and all their associated APIs are an experimental feature and subject to change. Please do not use them for anything important until they are released as stable. (Triggered internally at  /pytorch/c10/core/TensorImpl.h:1156.)\n",
      "  return torch.max_pool2d(input, kernel_size, stride, padding, dilation, ceil_mode)\n"
     ]
    },
    {
     "name": "stdout",
     "output_type": "stream",
     "text": [
      "2022-02-22 16:16:52,399 INFO {/home/fla/anaconda3/envs/nuplan/lib/python3.9/site-packages/torch/nn/parallel/distributed.py:788}  Reducer buckets have been rebuilt in this iteration.\n"
     ]
    },
    {
     "name": "stderr",
     "output_type": "stream",
     "text": [
      "/home/fla/anaconda3/envs/nuplan/lib/python3.9/site-packages/pytorch_lightning/trainer/callback_hook.py:100: LightningDeprecationWarning: The signature of `Callback.on_train_epoch_end` has changed in v1.3. `outputs` parameter has been removed. Support for the old signature will be removed in v1.5\n",
      "  warning_cache.deprecation(\n"
     ]
    },
    {
     "data": {
      "application/vnd.jupyter.widget-view+json": {
       "model_id": "",
       "version_major": 2,
       "version_minor": 0
      },
      "text/plain": [
       "Validating: 0it [00:00, ?it/s]"
      ]
     },
     "metadata": {},
     "output_type": "display_data"
    },
    {
     "name": "stderr",
     "output_type": "stream",
     "text": [
      "E0222 16:16:56.078629892   20701 fork_posix.cc:70]           Fork support is only compatible with the epoll1 and poll polling strategies\n",
      "[W pthreadpool-cpp.cc:90] Warning: Leaking Caffe2 thread-pool after fork. (function pthreadpool)\n",
      "E0222 16:16:56.121295357   20701 fork_posix.cc:70]           Fork support is only compatible with the epoll1 and poll polling strategies\n",
      "[W pthreadpool-cpp.cc:90] Warning: Leaking Caffe2 thread-pool after fork. (function pthreadpool)\n",
      "E0222 16:16:56.164050431   20701 fork_posix.cc:70]           Fork support is only compatible with the epoll1 and poll polling strategies\n",
      "[W pthreadpool-cpp.cc:90] Warning: Leaking Caffe2 thread-pool after fork. (function pthreadpool)\n",
      "E0222 16:16:56.206762932   20701 fork_posix.cc:70]           Fork support is only compatible with the epoll1 and poll polling strategies\n",
      "[W pthreadpool-cpp.cc:90] Warning: Leaking Caffe2 thread-pool after fork. (function pthreadpool)\n",
      "E0222 16:16:56.249312997   20701 fork_posix.cc:70]           Fork support is only compatible with the epoll1 and poll polling strategies\n",
      "[W pthreadpool-cpp.cc:90] Warning: Leaking Caffe2 thread-pool after fork. (function pthreadpool)\n",
      "E0222 16:16:56.292041421   20701 fork_posix.cc:70]           Fork support is only compatible with the epoll1 and poll polling strategies\n",
      "[W pthreadpool-cpp.cc:90] Warning: Leaking Caffe2 thread-pool after fork. (function pthreadpool)\n",
      "E0222 16:16:56.334481300   20701 fork_posix.cc:70]           Fork support is only compatible with the epoll1 and poll polling strategies\n",
      "[W pthreadpool-cpp.cc:90] Warning: Leaking Caffe2 thread-pool after fork. (function pthreadpool)\n",
      "E0222 16:16:56.377333416   20701 fork_posix.cc:70]           Fork support is only compatible with the epoll1 and poll polling strategies\n",
      "[W pthreadpool-cpp.cc:90] Warning: Leaking Caffe2 thread-pool after fork. (function pthreadpool)\n",
      "[W pthreadpool-cpp.cc:90] Warning: Leaking Caffe2 thread-pool after fork. (function pthreadpool)\n",
      "[W pthreadpool-cpp.cc:90] Warning: Leaking Caffe2 thread-pool after fork. (function pthreadpool)\n",
      "E0222 16:16:56.121295357   20701 fork_posix.cc:70]           Fork support is only compatible with the epoll1 and poll polling strategies\n",
      "[W pthreadpool-cpp.cc:90] Warning: Leaking Caffe2 thread-pool after fork. (function pthreadpool)\n",
      "[W pthreadpool-cpp.cc:90] Warning: Leaking Caffe2 thread-pool after fork. (function pthreadpool)\n",
      "E0222 16:16:58.380197154   20701 fork_posix.cc:70]           Fork support is only compatible with the epoll1 and poll polling strategies\n",
      "[W pthreadpool-cpp.cc:90] Warning: Leaking Caffe2 thread-pool after fork. (function pthreadpool)\n",
      "E0222 16:16:58.422472098   20701 fork_posix.cc:70]           Fork support is only compatible with the epoll1 and poll polling strategies\n",
      "[W pthreadpool-cpp.cc:90] Warning: Leaking Caffe2 thread-pool after fork. (function pthreadpool)\n",
      "E0222 16:16:58.464981923   20701 fork_posix.cc:70]           Fork support is only compatible with the epoll1 and poll polling strategies\n",
      "[W pthreadpool-cpp.cc:90] Warning: Leaking Caffe2 thread-pool after fork. (function pthreadpool)\n",
      "E0222 16:16:58.508281747   20701 fork_posix.cc:70]           Fork support is only compatible with the epoll1 and poll polling strategies\n",
      "[W pthreadpool-cpp.cc:90] Warning: Leaking Caffe2 thread-pool after fork. (function pthreadpool)\n",
      "E0222 16:16:58.550654679   20701 fork_posix.cc:70]           Fork support is only compatible with the epoll1 and poll polling strategies\n",
      "[W pthreadpool-cpp.cc:90] Warning: Leaking Caffe2 thread-pool after fork. (function pthreadpool)\n",
      "E0222 16:16:58.595825563   20701 fork_posix.cc:70]           Fork support is only compatible with the epoll1 and poll polling strategies\n",
      "[W pthreadpool-cpp.cc:90] Warning: Leaking Caffe2 thread-pool after fork. (function pthreadpool)\n",
      "E0222 16:16:58.638184266   20701 fork_posix.cc:70]           Fork support is only compatible with the epoll1 and poll polling strategies\n",
      "[W pthreadpool-cpp.cc:90] Warning: Leaking Caffe2 thread-pool after fork. (function pthreadpool)\n",
      "E0222 16:16:58.681232651   20701 fork_posix.cc:70]           Fork support is only compatible with the epoll1 and poll polling strategies\n",
      "[W pthreadpool-cpp.cc:90] Warning: Leaking Caffe2 thread-pool after fork. (function pthreadpool)\n",
      "E0222 16:16:58.973602632   20701 fork_posix.cc:70]           Fork support is only compatible with the epoll1 and poll polling strategies\n",
      "E0222 16:16:59.134015046   20701 fork_posix.cc:70]           Fork support is only compatible with the epoll1 and poll polling strategies\n",
      "[W pthreadpool-cpp.cc:90] Warning: Leaking Caffe2 thread-pool after fork. (function pthreadpool)\n"
     ]
    },
    {
     "data": {
      "application/vnd.jupyter.widget-view+json": {
       "model_id": "",
       "version_major": 2,
       "version_minor": 0
      },
      "text/plain": [
       "Validating: 0it [00:00, ?it/s]"
      ]
     },
     "metadata": {},
     "output_type": "display_data"
    },
    {
     "name": "stderr",
     "output_type": "stream",
     "text": [
      "E0222 16:17:02.731908460   20701 fork_posix.cc:70]           Fork support is only compatible with the epoll1 and poll polling strategies\n",
      "[W pthreadpool-cpp.cc:90] Warning: Leaking Caffe2 thread-pool after fork. (function pthreadpool)\n",
      "E0222 16:17:02.774184748   20701 fork_posix.cc:70]           Fork support is only compatible with the epoll1 and poll polling strategies\n",
      "[W pthreadpool-cpp.cc:90] Warning: Leaking Caffe2 thread-pool after fork. (function pthreadpool)\n",
      "E0222 16:17:02.816799965   20701 fork_posix.cc:70]           Fork support is only compatible with the epoll1 and poll polling strategies\n",
      "[W pthreadpool-cpp.cc:90] Warning: Leaking Caffe2 thread-pool after fork. (function pthreadpool)\n",
      "E0222 16:17:02.859850968   20701 fork_posix.cc:70]           Fork support is only compatible with the epoll1 and poll polling strategies\n",
      "[W pthreadpool-cpp.cc:90] Warning: Leaking Caffe2 thread-pool after fork. (function pthreadpool)\n",
      "E0222 16:17:02.902460647   20701 fork_posix.cc:70]           Fork support is only compatible with the epoll1 and poll polling strategies\n",
      "[W pthreadpool-cpp.cc:90] Warning: Leaking Caffe2 thread-pool after fork. (function pthreadpool)\n",
      "E0222 16:17:02.945709088   20701 fork_posix.cc:70]           Fork support is only compatible with the epoll1 and poll polling strategies\n",
      "[W pthreadpool-cpp.cc:90] Warning: Leaking Caffe2 thread-pool after fork. (function pthreadpool)\n",
      "E0222 16:17:02.988154273   20701 fork_posix.cc:70]           Fork support is only compatible with the epoll1 and poll polling strategies\n",
      "[W pthreadpool-cpp.cc:90] Warning: Leaking Caffe2 thread-pool after fork. (function pthreadpool)\n",
      "E0222 16:17:03.030996504   20701 fork_posix.cc:70]           Fork support is only compatible with the epoll1 and poll polling strategies\n",
      "[W pthreadpool-cpp.cc:90] Warning: Leaking Caffe2 thread-pool after fork. (function pthreadpool)\n",
      "[W pthreadpool-cpp.cc:90] Warning: Leaking Caffe2 thread-pool after fork. (function pthreadpool)\n",
      "E0222 16:17:02.945709088   20701 fork_posix.cc:70]           Fork support is only compatible with the epoll1 and poll polling strategies\n",
      "[W pthreadpool-cpp.cc:90] Warning: Leaking Caffe2 thread-pool after fork. (function pthreadpool)\n",
      "E0222 16:17:02.988154273   20701 fork_posix.cc:70]           Fork support is only compatible with the epoll1 and poll polling strategies\n",
      "[W pthreadpool-cpp.cc:90] Warning: Leaking Caffe2 thread-pool after fork. (function pthreadpool)\n",
      "E0222 16:17:04.962263834   20701 fork_posix.cc:70]           Fork support is only compatible with the epoll1 and poll polling strategies\n",
      "[W pthreadpool-cpp.cc:90] Warning: Leaking Caffe2 thread-pool after fork. (function pthreadpool)\n",
      "E0222 16:17:05.004876714   20701 fork_posix.cc:70]           Fork support is only compatible with the epoll1 and poll polling strategies\n",
      "[W pthreadpool-cpp.cc:90] Warning: Leaking Caffe2 thread-pool after fork. (function pthreadpool)\n",
      "E0222 16:17:05.047504507   20701 fork_posix.cc:70]           Fork support is only compatible with the epoll1 and poll polling strategies\n",
      "[W pthreadpool-cpp.cc:90] Warning: Leaking Caffe2 thread-pool after fork. (function pthreadpool)\n",
      "E0222 16:17:05.089743898   20701 fork_posix.cc:70]           Fork support is only compatible with the epoll1 and poll polling strategies\n",
      "[W pthreadpool-cpp.cc:90] Warning: Leaking Caffe2 thread-pool after fork. (function pthreadpool)\n",
      "E0222 16:17:05.132374505   20701 fork_posix.cc:70]           Fork support is only compatible with the epoll1 and poll polling strategies\n",
      "[W pthreadpool-cpp.cc:90] Warning: Leaking Caffe2 thread-pool after fork. (function pthreadpool)\n",
      "E0222 16:17:05.174140195   20701 fork_posix.cc:70]           Fork support is only compatible with the epoll1 and poll polling strategies\n",
      "[W pthreadpool-cpp.cc:90] Warning: Leaking Caffe2 thread-pool after fork. (function pthreadpool)\n",
      "E0222 16:17:05.216491001   20701 fork_posix.cc:70]           Fork support is only compatible with the epoll1 and poll polling strategies\n",
      "[W pthreadpool-cpp.cc:90] Warning: Leaking Caffe2 thread-pool after fork. (function pthreadpool)\n",
      "E0222 16:17:05.258973820   20701 fork_posix.cc:70]           Fork support is only compatible with the epoll1 and poll polling strategies\n",
      "[W pthreadpool-cpp.cc:90] Warning: Leaking Caffe2 thread-pool after fork. (function pthreadpool)\n",
      "E0222 16:17:05.809665141   20701 fork_posix.cc:70]           Fork support is only compatible with the epoll1 and poll polling strategies\n",
      "E0222 16:17:05.970858817   20701 fork_posix.cc:70]           Fork support is only compatible with the epoll1 and poll polling strategies\n",
      "[W pthreadpool-cpp.cc:90] Warning: Leaking Caffe2 thread-pool after fork. (function pthreadpool)\n",
      "[W pthreadpool-cpp.cc:90] Warning: Leaking Caffe2 thread-pool after fork. (function pthreadpool)\n",
      "[W pthreadpool-cpp.cc:90] Warning: Leaking Caffe2 thread-pool after fork. (function pthreadpool)\n"
     ]
    },
    {
     "data": {
      "application/vnd.jupyter.widget-view+json": {
       "model_id": "",
       "version_major": 2,
       "version_minor": 0
      },
      "text/plain": [
       "Validating: 0it [00:00, ?it/s]"
      ]
     },
     "metadata": {},
     "output_type": "display_data"
    },
    {
     "name": "stderr",
     "output_type": "stream",
     "text": [
      "E0222 16:17:09.332213466   20701 fork_posix.cc:70]           Fork support is only compatible with the epoll1 and poll polling strategies\n",
      "[W pthreadpool-cpp.cc:90] Warning: Leaking Caffe2 thread-pool after fork. (function pthreadpool)\n",
      "E0222 16:17:09.374472012   20701 fork_posix.cc:70]           Fork support is only compatible with the epoll1 and poll polling strategies\n",
      "E0222 16:17:09.416614779   20701 fork_posix.cc:70]           Fork support is only compatible with the epoll1 and poll polling strategies\n",
      "[W pthreadpool-cpp.cc:90] Warning: Leaking Caffe2 thread-pool after fork. (function pthreadpool)\n",
      "[W pthreadpool-cpp.cc:90] Warning: Leaking Caffe2 thread-pool after fork. (function pthreadpool)\n",
      "E0222 16:17:09.459048551   20701 fork_posix.cc:70]           Fork support is only compatible with the epoll1 and poll polling strategies\n",
      "[W pthreadpool-cpp.cc:90] Warning: Leaking Caffe2 thread-pool after fork. (function pthreadpool)\n",
      "E0222 16:17:09.501477856   20701 fork_posix.cc:70]           Fork support is only compatible with the epoll1 and poll polling strategies\n",
      "[W pthreadpool-cpp.cc:90] Warning: Leaking Caffe2 thread-pool after fork. (function pthreadpool)\n",
      "E0222 16:17:09.543836057   20701 fork_posix.cc:70]           Fork support is only compatible with the epoll1 and poll polling strategies\n",
      "[W pthreadpool-cpp.cc:90] Warning: Leaking Caffe2 thread-pool after fork. (function pthreadpool)\n",
      "E0222 16:17:09.586098428   20701 fork_posix.cc:70]           Fork support is only compatible with the epoll1 and poll polling strategies\n",
      "[W pthreadpool-cpp.cc:90] Warning: Leaking Caffe2 thread-pool after fork. (function pthreadpool)\n",
      "E0222 16:17:09.628727290   20701 fork_posix.cc:70]           Fork support is only compatible with the epoll1 and poll polling strategies\n",
      "[W pthreadpool-cpp.cc:90] Warning: Leaking Caffe2 thread-pool after fork. (function pthreadpool)\n",
      "[W pthreadpool-cpp.cc:90] Warning: Leaking Caffe2 thread-pool after fork. (function pthreadpool)\n",
      "E0222 16:17:09.501477856   20701 fork_posix.cc:70]           Fork support is only compatible with the epoll1 and poll polling strategies\n",
      "[W pthreadpool-cpp.cc:90] Warning: Leaking Caffe2 thread-pool after fork. (function pthreadpool)\n",
      "E0222 16:17:11.543447209   20701 fork_posix.cc:70]           Fork support is only compatible with the epoll1 and poll polling strategies\n",
      "[W pthreadpool-cpp.cc:90] Warning: Leaking Caffe2 thread-pool after fork. (function pthreadpool)\n",
      "E0222 16:17:11.586201610   20701 fork_posix.cc:70]           Fork support is only compatible with the epoll1 and poll polling strategies\n",
      "[W pthreadpool-cpp.cc:90] Warning: Leaking Caffe2 thread-pool after fork. (function pthreadpool)\n",
      "E0222 16:17:11.630068341   20701 fork_posix.cc:70]           Fork support is only compatible with the epoll1 and poll polling strategies\n",
      "[W pthreadpool-cpp.cc:90] Warning: Leaking Caffe2 thread-pool after fork. (function pthreadpool)\n",
      "E0222 16:17:11.672925427   20701 fork_posix.cc:70]           Fork support is only compatible with the epoll1 and poll polling strategies\n",
      "[W pthreadpool-cpp.cc:90] Warning: Leaking Caffe2 thread-pool after fork. (function pthreadpool)\n",
      "E0222 16:17:11.715462414   20701 fork_posix.cc:70]           Fork support is only compatible with the epoll1 and poll polling strategies\n",
      "[W pthreadpool-cpp.cc:90] Warning: Leaking Caffe2 thread-pool after fork. (function pthreadpool)\n",
      "E0222 16:17:11.758470226   20701 fork_posix.cc:70]           Fork support is only compatible with the epoll1 and poll polling strategies\n",
      "[W pthreadpool-cpp.cc:90] Warning: Leaking Caffe2 thread-pool after fork. (function pthreadpool)\n",
      "E0222 16:17:11.801450853   20701 fork_posix.cc:70]           Fork support is only compatible with the epoll1 and poll polling strategies\n",
      "[W pthreadpool-cpp.cc:90] Warning: Leaking Caffe2 thread-pool after fork. (function pthreadpool)\n",
      "E0222 16:17:11.844544901   20701 fork_posix.cc:70]           Fork support is only compatible with the epoll1 and poll polling strategies\n",
      "[W pthreadpool-cpp.cc:90] Warning: Leaking Caffe2 thread-pool after fork. (function pthreadpool)\n",
      "E0222 16:17:12.656251984   20701 fork_posix.cc:70]           Fork support is only compatible with the epoll1 and poll polling strategies\n",
      "E0222 16:17:12.818239719   20701 fork_posix.cc:70]           Fork support is only compatible with the epoll1 and poll polling strategies\n",
      "E0222 16:17:11.630068341   20701 fork_posix.cc:70]           Fork support is only compatible with the epoll1 and poll polling strategies\n",
      "[W pthreadpool-cpp.cc:90] Warning: Leaking Caffe2 thread-pool after fork. (function pthreadpool)\n"
     ]
    },
    {
     "data": {
      "application/vnd.jupyter.widget-view+json": {
       "model_id": "",
       "version_major": 2,
       "version_minor": 0
      },
      "text/plain": [
       "Validating: 0it [00:00, ?it/s]"
      ]
     },
     "metadata": {},
     "output_type": "display_data"
    },
    {
     "name": "stderr",
     "output_type": "stream",
     "text": [
      "E0222 16:17:15.894824322   20701 fork_posix.cc:70]           Fork support is only compatible with the epoll1 and poll polling strategies\n",
      "[W pthreadpool-cpp.cc:90] Warning: Leaking Caffe2 thread-pool after fork. (function pthreadpool)\n",
      "E0222 16:17:15.937751601   20701 fork_posix.cc:70]           Fork support is only compatible with the epoll1 and poll polling strategies\n",
      "[W pthreadpool-cpp.cc:90] Warning: Leaking Caffe2 thread-pool after fork. (function pthreadpool)\n",
      "E0222 16:17:15.980069460   20701 fork_posix.cc:70]           Fork support is only compatible with the epoll1 and poll polling strategies\n",
      "[W pthreadpool-cpp.cc:90] Warning: Leaking Caffe2 thread-pool after fork. (function pthreadpool)\n",
      "E0222 16:17:16.022672162   20701 fork_posix.cc:70]           Fork support is only compatible with the epoll1 and poll polling strategies\n",
      "[W pthreadpool-cpp.cc:90] Warning: Leaking Caffe2 thread-pool after fork. (function pthreadpool)\n",
      "E0222 16:17:16.064475148   20701 fork_posix.cc:70]           Fork support is only compatible with the epoll1 and poll polling strategies\n",
      "[W pthreadpool-cpp.cc:90] Warning: Leaking Caffe2 thread-pool after fork. (function pthreadpool)\n",
      "E0222 16:17:16.106643116   20701 fork_posix.cc:70]           Fork support is only compatible with the epoll1 and poll polling strategies\n",
      "[W pthreadpool-cpp.cc:90] Warning: Leaking Caffe2 thread-pool after fork. (function pthreadpool)\n",
      "E0222 16:17:16.148467483   20701 fork_posix.cc:70]           Fork support is only compatible with the epoll1 and poll polling strategies\n",
      "[W pthreadpool-cpp.cc:90] Warning: Leaking Caffe2 thread-pool after fork. (function pthreadpool)\n",
      "E0222 16:17:16.190841079   20701 fork_posix.cc:70]           Fork support is only compatible with the epoll1 and poll polling strategies\n",
      "[W pthreadpool-cpp.cc:90] Warning: Leaking Caffe2 thread-pool after fork. (function pthreadpool)\n",
      "[W pthreadpool-cpp.cc:90] Warning: Leaking Caffe2 thread-pool after fork. (function pthreadpool)\n",
      "E0222 16:17:18.090483610   20701 fork_posix.cc:70]           Fork support is only compatible with the epoll1 and poll polling strategies\n",
      "[W pthreadpool-cpp.cc:90] Warning: Leaking Caffe2 thread-pool after fork. (function pthreadpool)\n",
      "E0222 16:17:18.133502049   20701 fork_posix.cc:70]           Fork support is only compatible with the epoll1 and poll polling strategies\n",
      "[W pthreadpool-cpp.cc:90] Warning: Leaking Caffe2 thread-pool after fork. (function pthreadpool)\n",
      "E0222 16:17:18.176199672   20701 fork_posix.cc:70]           Fork support is only compatible with the epoll1 and poll polling strategies\n",
      "[W pthreadpool-cpp.cc:90] Warning: Leaking Caffe2 thread-pool after fork. (function pthreadpool)\n",
      "E0222 16:17:18.218882855   20701 fork_posix.cc:70]           Fork support is only compatible with the epoll1 and poll polling strategies\n",
      "[W pthreadpool-cpp.cc:90] Warning: Leaking Caffe2 thread-pool after fork. (function pthreadpool)\n",
      "E0222 16:17:18.261792851   20701 fork_posix.cc:70]           Fork support is only compatible with the epoll1 and poll polling strategies\n",
      "[W pthreadpool-cpp.cc:90] Warning: Leaking Caffe2 thread-pool after fork. (function pthreadpool)\n",
      "E0222 16:17:18.304547449   20701 fork_posix.cc:70]           Fork support is only compatible with the epoll1 and poll polling strategies\n",
      "[W pthreadpool-cpp.cc:90] Warning: Leaking Caffe2 thread-pool after fork. (function pthreadpool)\n",
      "E0222 16:17:18.347244099   20701 fork_posix.cc:70]           Fork support is only compatible with the epoll1 and poll polling strategies\n",
      "[W pthreadpool-cpp.cc:90] Warning: Leaking Caffe2 thread-pool after fork. (function pthreadpool)\n",
      "E0222 16:17:18.389948090   20701 fork_posix.cc:70]           Fork support is only compatible with the epoll1 and poll polling strategies\n",
      "[W pthreadpool-cpp.cc:90] Warning: Leaking Caffe2 thread-pool after fork. (function pthreadpool)\n",
      "E0222 16:17:19.460519930   20701 fork_posix.cc:70]           Fork support is only compatible with the epoll1 and poll polling strategies\n",
      "E0222 16:17:19.620920074   20701 fork_posix.cc:70]           Fork support is only compatible with the epoll1 and poll polling strategies\n",
      "[W pthreadpool-cpp.cc:90] Warning: Leaking Caffe2 thread-pool after fork. (function pthreadpool)\n",
      "[W pthreadpool-cpp.cc:90] Warning: Leaking Caffe2 thread-pool after fork. (function pthreadpool)\n"
     ]
    },
    {
     "data": {
      "application/vnd.jupyter.widget-view+json": {
       "model_id": "",
       "version_major": 2,
       "version_minor": 0
      },
      "text/plain": [
       "Validating: 0it [00:00, ?it/s]"
      ]
     },
     "metadata": {},
     "output_type": "display_data"
    },
    {
     "name": "stderr",
     "output_type": "stream",
     "text": [
      "E0222 16:17:22.430278702   20701 fork_posix.cc:70]           Fork support is only compatible with the epoll1 and poll polling strategies\n",
      "[W pthreadpool-cpp.cc:90] Warning: Leaking Caffe2 thread-pool after fork. (function pthreadpool)\n",
      "E0222 16:17:22.472060405   20701 fork_posix.cc:70]           Fork support is only compatible with the epoll1 and poll polling strategies\n",
      "[W pthreadpool-cpp.cc:90] Warning: Leaking Caffe2 thread-pool after fork. (function pthreadpool)\n",
      "E0222 16:17:22.513926308   20701 fork_posix.cc:70]           Fork support is only compatible with the epoll1 and poll polling strategies\n",
      "[W pthreadpool-cpp.cc:90] Warning: Leaking Caffe2 thread-pool after fork. (function pthreadpool)\n",
      "E0222 16:17:22.555664446   20701 fork_posix.cc:70]           Fork support is only compatible with the epoll1 and poll polling strategies\n",
      "[W pthreadpool-cpp.cc:90] Warning: Leaking Caffe2 thread-pool after fork. (function pthreadpool)\n",
      "E0222 16:17:22.597842288   20701 fork_posix.cc:70]           Fork support is only compatible with the epoll1 and poll polling strategies\n",
      "[W pthreadpool-cpp.cc:90] Warning: Leaking Caffe2 thread-pool after fork. (function pthreadpool)\n",
      "E0222 16:17:22.639839529   20701 fork_posix.cc:70]           Fork support is only compatible with the epoll1 and poll polling strategies\n",
      "[W pthreadpool-cpp.cc:90] Warning: Leaking Caffe2 thread-pool after fork. (function pthreadpool)\n",
      "E0222 16:17:22.682004557   20701 fork_posix.cc:70]           Fork support is only compatible with the epoll1 and poll polling strategies\n",
      "[W pthreadpool-cpp.cc:90] Warning: Leaking Caffe2 thread-pool after fork. (function pthreadpool)\n",
      "E0222 16:17:22.727339872   20701 fork_posix.cc:70]           Fork support is only compatible with the epoll1 and poll polling strategies\n",
      "[W pthreadpool-cpp.cc:90] Warning: Leaking Caffe2 thread-pool after fork. (function pthreadpool)\n",
      "[W pthreadpool-cpp.cc:90] Warning: Leaking Caffe2 thread-pool after fork. (function pthreadpool)\n",
      "[W pthreadpool-cpp.cc:90] Warning: Leaking Caffe2 thread-pool after fork. (function pthreadpool)\n",
      "E0222 16:17:24.575888755   20701 fork_posix.cc:70]           Fork support is only compatible with the epoll1 and poll polling strategies\n",
      "[W pthreadpool-cpp.cc:90] Warning: Leaking Caffe2 thread-pool after fork. (function pthreadpool)\n",
      "E0222 16:17:24.619987762   20701 fork_posix.cc:70]           Fork support is only compatible with the epoll1 and poll polling strategies\n",
      "[W pthreadpool-cpp.cc:90] Warning: Leaking Caffe2 thread-pool after fork. (function pthreadpool)\n",
      "E0222 16:17:24.661968489   20701 fork_posix.cc:70]           Fork support is only compatible with the epoll1 and poll polling strategies\n",
      "[W pthreadpool-cpp.cc:90] Warning: Leaking Caffe2 thread-pool after fork. (function pthreadpool)\n",
      "E0222 16:17:24.704117185   20701 fork_posix.cc:70]           Fork support is only compatible with the epoll1 and poll polling strategies\n",
      "[W pthreadpool-cpp.cc:90] Warning: Leaking Caffe2 thread-pool after fork. (function pthreadpool)\n",
      "E0222 16:17:24.746207600   20701 fork_posix.cc:70]           Fork support is only compatible with the epoll1 and poll polling strategies\n",
      "[W pthreadpool-cpp.cc:90] Warning: Leaking Caffe2 thread-pool after fork. (function pthreadpool)\n",
      "E0222 16:17:24.788488864   20701 fork_posix.cc:70]           Fork support is only compatible with the epoll1 and poll polling strategies\n",
      "[W pthreadpool-cpp.cc:90] Warning: Leaking Caffe2 thread-pool after fork. (function pthreadpool)\n",
      "E0222 16:17:24.830650602   20701 fork_posix.cc:70]           Fork support is only compatible with the epoll1 and poll polling strategies\n",
      "[W pthreadpool-cpp.cc:90] Warning: Leaking Caffe2 thread-pool after fork. (function pthreadpool)\n",
      "E0222 16:17:24.873408525   20701 fork_posix.cc:70]           Fork support is only compatible with the epoll1 and poll polling strategies\n",
      "[W pthreadpool-cpp.cc:90] Warning: Leaking Caffe2 thread-pool after fork. (function pthreadpool)\n",
      "E0222 16:17:26.197790566   20701 fork_posix.cc:70]           Fork support is only compatible with the epoll1 and poll polling strategies\n",
      "E0222 16:17:26.358160688   20701 fork_posix.cc:70]           Fork support is only compatible with the epoll1 and poll polling strategies\n",
      "[W pthreadpool-cpp.cc:90] Warning: Leaking Caffe2 thread-pool after fork. (function pthreadpool)\n",
      "[W pthreadpool-cpp.cc:90] Warning: Leaking Caffe2 thread-pool after fork. (function pthreadpool)\n",
      "[W pthreadpool-cpp.cc:90] Warning: Leaking Caffe2 thread-pool after fork. (function pthreadpool)\n",
      "[W pthreadpool-cpp.cc:90] Warning: Leaking Caffe2 thread-pool after fork. (function pthreadpool)\n"
     ]
    },
    {
     "data": {
      "application/vnd.jupyter.widget-view+json": {
       "model_id": "",
       "version_major": 2,
       "version_minor": 0
      },
      "text/plain": [
       "Validating: 0it [00:00, ?it/s]"
      ]
     },
     "metadata": {},
     "output_type": "display_data"
    },
    {
     "name": "stderr",
     "output_type": "stream",
     "text": [
      "E0222 16:17:28.922450437   20701 fork_posix.cc:70]           Fork support is only compatible with the epoll1 and poll polling strategies\n",
      "[W pthreadpool-cpp.cc:90] Warning: Leaking Caffe2 thread-pool after fork. (function pthreadpool)\n",
      "E0222 16:17:28.964395159   20701 fork_posix.cc:70]           Fork support is only compatible with the epoll1 and poll polling strategies\n",
      "[W pthreadpool-cpp.cc:90] Warning: Leaking Caffe2 thread-pool after fork. (function pthreadpool)\n",
      "E0222 16:17:29.006366909   20701 fork_posix.cc:70]           Fork support is only compatible with the epoll1 and poll polling strategies\n",
      "[W pthreadpool-cpp.cc:90] Warning: Leaking Caffe2 thread-pool after fork. (function pthreadpool)\n",
      "E0222 16:17:29.048336063   20701 fork_posix.cc:70]           Fork support is only compatible with the epoll1 and poll polling strategies\n",
      "E0222 16:17:29.090351471   20701 fork_posix.cc:70]           Fork support is only compatible with the epoll1 and poll polling strategies\n",
      "[W pthreadpool-cpp.cc:90] Warning: Leaking Caffe2 thread-pool after fork. (function pthreadpool)\n",
      "[W pthreadpool-cpp.cc:90] Warning: Leaking Caffe2 thread-pool after fork. (function pthreadpool)\n",
      "E0222 16:17:29.133311835   20701 fork_posix.cc:70]           Fork support is only compatible with the epoll1 and poll polling strategies\n",
      "[W pthreadpool-cpp.cc:90] Warning: Leaking Caffe2 thread-pool after fork. (function pthreadpool)\n",
      "E0222 16:17:29.175677472   20701 fork_posix.cc:70]           Fork support is only compatible with the epoll1 and poll polling strategies\n",
      "[W pthreadpool-cpp.cc:90] Warning: Leaking Caffe2 thread-pool after fork. (function pthreadpool)\n",
      "E0222 16:17:29.218377049   20701 fork_posix.cc:70]           Fork support is only compatible with the epoll1 and poll polling strategies\n",
      "[W pthreadpool-cpp.cc:90] Warning: Leaking Caffe2 thread-pool after fork. (function pthreadpool)\n",
      "[W pthreadpool-cpp.cc:90] Warning: Leaking Caffe2 thread-pool after fork. (function pthreadpool)\n",
      "[W pthreadpool-cpp.cc:90] Warning: Leaking Caffe2 thread-pool after fork. (function pthreadpool)\n",
      "[W pthreadpool-cpp.cc:90] Warning: Leaking Caffe2 thread-pool after fork. (function pthreadpool)\n",
      "[W pthreadpool-cpp.cc:90] Warning: Leaking Caffe2 thread-pool after fork. (function pthreadpool)\n",
      "E0222 16:17:31.010199044   20701 fork_posix.cc:70]           Fork support is only compatible with the epoll1 and poll polling strategies\n",
      "[W pthreadpool-cpp.cc:90] Warning: Leaking Caffe2 thread-pool after fork. (function pthreadpool)\n",
      "E0222 16:17:31.053506670   20701 fork_posix.cc:70]           Fork support is only compatible with the epoll1 and poll polling strategies\n",
      "[W pthreadpool-cpp.cc:90] Warning: Leaking Caffe2 thread-pool after fork. (function pthreadpool)\n",
      "E0222 16:17:31.096909915   20701 fork_posix.cc:70]           Fork support is only compatible with the epoll1 and poll polling strategies\n",
      "[W pthreadpool-cpp.cc:90] Warning: Leaking Caffe2 thread-pool after fork. (function pthreadpool)\n",
      "E0222 16:17:31.139333839   20701 fork_posix.cc:70]           Fork support is only compatible with the epoll1 and poll polling strategies\n",
      "[W pthreadpool-cpp.cc:90] Warning: Leaking Caffe2 thread-pool after fork. (function pthreadpool)\n",
      "E0222 16:17:31.181327503   20701 fork_posix.cc:70]           Fork support is only compatible with the epoll1 and poll polling strategies\n",
      "[W pthreadpool-cpp.cc:90] Warning: Leaking Caffe2 thread-pool after fork. (function pthreadpool)\n",
      "E0222 16:17:31.223572108   20701 fork_posix.cc:70]           Fork support is only compatible with the epoll1 and poll polling strategies\n",
      "[W pthreadpool-cpp.cc:90] Warning: Leaking Caffe2 thread-pool after fork. (function pthreadpool)\n",
      "E0222 16:17:31.265725838   20701 fork_posix.cc:70]           Fork support is only compatible with the epoll1 and poll polling strategies\n",
      "[W pthreadpool-cpp.cc:90] Warning: Leaking Caffe2 thread-pool after fork. (function pthreadpool)\n",
      "E0222 16:17:31.308016031   20701 fork_posix.cc:70]           Fork support is only compatible with the epoll1 and poll polling strategies\n",
      "[W pthreadpool-cpp.cc:90] Warning: Leaking Caffe2 thread-pool after fork. (function pthreadpool)\n",
      "E0222 16:17:32.886252902   20701 fork_posix.cc:70]           Fork support is only compatible with the epoll1 and poll polling strategies\n",
      "E0222 16:17:33.048681507   20701 fork_posix.cc:70]           Fork support is only compatible with the epoll1 and poll polling strategies\n",
      "[W pthreadpool-cpp.cc:90] Warning: Leaking Caffe2 thread-pool after fork. (function pthreadpool)\n",
      "E0222 16:17:31.139333839   20701 fork_posix.cc:70]           Fork support is only compatible with the epoll1 and poll polling strategies\n",
      "[W pthreadpool-cpp.cc:90] Warning: Leaking Caffe2 thread-pool after fork. (function pthreadpool)\n"
     ]
    },
    {
     "data": {
      "application/vnd.jupyter.widget-view+json": {
       "model_id": "",
       "version_major": 2,
       "version_minor": 0
      },
      "text/plain": [
       "Validating: 0it [00:00, ?it/s]"
      ]
     },
     "metadata": {},
     "output_type": "display_data"
    },
    {
     "name": "stderr",
     "output_type": "stream",
     "text": [
      "E0222 16:17:35.336963793   20701 fork_posix.cc:70]           Fork support is only compatible with the epoll1 and poll polling strategies\n",
      "[W pthreadpool-cpp.cc:90] Warning: Leaking Caffe2 thread-pool after fork. (function pthreadpool)\n",
      "E0222 16:17:35.379120804   20701 fork_posix.cc:70]           Fork support is only compatible with the epoll1 and poll polling strategies\n",
      "[W pthreadpool-cpp.cc:90] Warning: Leaking Caffe2 thread-pool after fork. (function pthreadpool)\n",
      "E0222 16:17:35.421535738   20701 fork_posix.cc:70]           Fork support is only compatible with the epoll1 and poll polling strategies\n",
      "[W pthreadpool-cpp.cc:90] Warning: Leaking Caffe2 thread-pool after fork. (function pthreadpool)\n",
      "E0222 16:17:35.464973340   20701 fork_posix.cc:70]           Fork support is only compatible with the epoll1 and poll polling strategies\n",
      "[W pthreadpool-cpp.cc:90] Warning: Leaking Caffe2 thread-pool after fork. (function pthreadpool)\n",
      "E0222 16:17:35.509171498   20701 fork_posix.cc:70]           Fork support is only compatible with the epoll1 and poll polling strategies\n",
      "[W pthreadpool-cpp.cc:90] Warning: Leaking Caffe2 thread-pool after fork. (function pthreadpool)\n",
      "E0222 16:17:35.552348519   20701 fork_posix.cc:70]           Fork support is only compatible with the epoll1 and poll polling strategies\n",
      "[W pthreadpool-cpp.cc:90] Warning: Leaking Caffe2 thread-pool after fork. (function pthreadpool)\n",
      "E0222 16:17:35.595219016   20701 fork_posix.cc:70]           Fork support is only compatible with the epoll1 and poll polling strategies\n",
      "[W pthreadpool-cpp.cc:90] Warning: Leaking Caffe2 thread-pool after fork. (function pthreadpool)\n",
      "E0222 16:17:35.637646994   20701 fork_posix.cc:70]           Fork support is only compatible with the epoll1 and poll polling strategies\n",
      "[W pthreadpool-cpp.cc:90] Warning: Leaking Caffe2 thread-pool after fork. (function pthreadpool)\n",
      "[W pthreadpool-cpp.cc:90] Warning: Leaking Caffe2 thread-pool after fork. (function pthreadpool)\n",
      "[W pthreadpool-cpp.cc:90] Warning: Leaking Caffe2 thread-pool after fork. (function pthreadpool)\n",
      "[W pthreadpool-cpp.cc:90] Warning: Leaking Caffe2 thread-pool after fork. (function pthreadpool)\n",
      "E0222 16:17:37.517738734   20701 fork_posix.cc:70]           Fork support is only compatible with the epoll1 and poll polling strategies\n",
      "[W pthreadpool-cpp.cc:90] Warning: Leaking Caffe2 thread-pool after fork. (function pthreadpool)\n",
      "E0222 16:17:37.560565652   20701 fork_posix.cc:70]           Fork support is only compatible with the epoll1 and poll polling strategies\n",
      "[W pthreadpool-cpp.cc:90] Warning: Leaking Caffe2 thread-pool after fork. (function pthreadpool)\n",
      "E0222 16:17:37.603388352   20701 fork_posix.cc:70]           Fork support is only compatible with the epoll1 and poll polling strategies\n",
      "[W pthreadpool-cpp.cc:90] Warning: Leaking Caffe2 thread-pool after fork. (function pthreadpool)\n",
      "E0222 16:17:37.645950136   20701 fork_posix.cc:70]           Fork support is only compatible with the epoll1 and poll polling strategies\n",
      "[W pthreadpool-cpp.cc:90] Warning: Leaking Caffe2 thread-pool after fork. (function pthreadpool)\n",
      "E0222 16:17:37.688499440   20701 fork_posix.cc:70]           Fork support is only compatible with the epoll1 and poll polling strategies\n",
      "[W pthreadpool-cpp.cc:90] Warning: Leaking Caffe2 thread-pool after fork. (function pthreadpool)\n",
      "E0222 16:17:37.730572005   20701 fork_posix.cc:70]           Fork support is only compatible with the epoll1 and poll polling strategies\n",
      "[W pthreadpool-cpp.cc:90] Warning: Leaking Caffe2 thread-pool after fork. (function pthreadpool)\n",
      "E0222 16:17:37.772517232   20701 fork_posix.cc:70]           Fork support is only compatible with the epoll1 and poll polling strategies\n",
      "[W pthreadpool-cpp.cc:90] Warning: Leaking Caffe2 thread-pool after fork. (function pthreadpool)\n",
      "E0222 16:17:37.815407658   20701 fork_posix.cc:70]           Fork support is only compatible with the epoll1 and poll polling strategies\n",
      "[W pthreadpool-cpp.cc:90] Warning: Leaking Caffe2 thread-pool after fork. (function pthreadpool)\n",
      "E0222 16:17:39.627013503   20701 fork_posix.cc:70]           Fork support is only compatible with the epoll1 and poll polling strategies\n",
      "E0222 16:17:39.788895260   20701 fork_posix.cc:70]           Fork support is only compatible with the epoll1 and poll polling strategies\n",
      "E0222 16:17:37.645950136   20701 fork_posix.cc:70]           Fork support is only compatible with the epoll1 and poll polling strategies\n",
      "[W pthreadpool-cpp.cc:90] Warning: Leaking Caffe2 thread-pool after fork. (function pthreadpool)\n",
      "[W pthreadpool-cpp.cc:90] Warning: Leaking Caffe2 thread-pool after fork. (function pthreadpool)\n",
      "[W pthreadpool-cpp.cc:90] Warning: Leaking Caffe2 thread-pool after fork. (function pthreadpool)\n"
     ]
    },
    {
     "data": {
      "application/vnd.jupyter.widget-view+json": {
       "model_id": "",
       "version_major": 2,
       "version_minor": 0
      },
      "text/plain": [
       "Validating: 0it [00:00, ?it/s]"
      ]
     },
     "metadata": {},
     "output_type": "display_data"
    },
    {
     "name": "stderr",
     "output_type": "stream",
     "text": [
      "E0222 16:17:41.829521688   20701 fork_posix.cc:70]           Fork support is only compatible with the epoll1 and poll polling strategies\n",
      "[W pthreadpool-cpp.cc:90] Warning: Leaking Caffe2 thread-pool after fork. (function pthreadpool)\n",
      "E0222 16:17:41.871547714   20701 fork_posix.cc:70]           Fork support is only compatible with the epoll1 and poll polling strategies\n",
      "[W pthreadpool-cpp.cc:90] Warning: Leaking Caffe2 thread-pool after fork. (function pthreadpool)\n",
      "E0222 16:17:41.913478160   20701 fork_posix.cc:70]           Fork support is only compatible with the epoll1 and poll polling strategies\n",
      "[W pthreadpool-cpp.cc:90] Warning: Leaking Caffe2 thread-pool after fork. (function pthreadpool)\n",
      "E0222 16:17:41.955597603   20701 fork_posix.cc:70]           Fork support is only compatible with the epoll1 and poll polling strategies\n",
      "[W pthreadpool-cpp.cc:90] Warning: Leaking Caffe2 thread-pool after fork. (function pthreadpool)\n",
      "E0222 16:17:41.997870474   20701 fork_posix.cc:70]           Fork support is only compatible with the epoll1 and poll polling strategies\n",
      "[W pthreadpool-cpp.cc:90] Warning: Leaking Caffe2 thread-pool after fork. (function pthreadpool)\n",
      "E0222 16:17:42.040724238   20701 fork_posix.cc:70]           Fork support is only compatible with the epoll1 and poll polling strategies\n",
      "[W pthreadpool-cpp.cc:90] Warning: Leaking Caffe2 thread-pool after fork. (function pthreadpool)\n",
      "E0222 16:17:42.082929599   20701 fork_posix.cc:70]           Fork support is only compatible with the epoll1 and poll polling strategies\n",
      "[W pthreadpool-cpp.cc:90] Warning: Leaking Caffe2 thread-pool after fork. (function pthreadpool)\n",
      "E0222 16:17:42.125022168   20701 fork_posix.cc:70]           Fork support is only compatible with the epoll1 and poll polling strategies\n",
      "[W pthreadpool-cpp.cc:90] Warning: Leaking Caffe2 thread-pool after fork. (function pthreadpool)\n",
      "E0222 16:17:42.082929599   20701 fork_posix.cc:70]           Fork support is only compatible with the epoll1 and poll polling strategies\n",
      "[W pthreadpool-cpp.cc:90] Warning: Leaking Caffe2 thread-pool after fork. (function pthreadpool)\n",
      "E0222 16:17:44.037417809   20701 fork_posix.cc:70]           Fork support is only compatible with the epoll1 and poll polling strategies\n",
      "[W pthreadpool-cpp.cc:90] Warning: Leaking Caffe2 thread-pool after fork. (function pthreadpool)\n",
      "E0222 16:17:44.080164987   20701 fork_posix.cc:70]           Fork support is only compatible with the epoll1 and poll polling strategies\n",
      "[W pthreadpool-cpp.cc:90] Warning: Leaking Caffe2 thread-pool after fork. (function pthreadpool)\n",
      "E0222 16:17:44.122604879   20701 fork_posix.cc:70]           Fork support is only compatible with the epoll1 and poll polling strategies\n",
      "[W pthreadpool-cpp.cc:90] Warning: Leaking Caffe2 thread-pool after fork. (function pthreadpool)\n",
      "E0222 16:17:44.164906778   20701 fork_posix.cc:70]           Fork support is only compatible with the epoll1 and poll polling strategies\n",
      "[W pthreadpool-cpp.cc:90] Warning: Leaking Caffe2 thread-pool after fork. (function pthreadpool)\n",
      "E0222 16:17:44.207947543   20701 fork_posix.cc:70]           Fork support is only compatible with the epoll1 and poll polling strategies\n",
      "[W pthreadpool-cpp.cc:90] Warning: Leaking Caffe2 thread-pool after fork. (function pthreadpool)\n",
      "E0222 16:17:44.250564405   20701 fork_posix.cc:70]           Fork support is only compatible with the epoll1 and poll polling strategies\n",
      "[W pthreadpool-cpp.cc:90] Warning: Leaking Caffe2 thread-pool after fork. (function pthreadpool)\n",
      "E0222 16:17:44.293189611   20701 fork_posix.cc:70]           Fork support is only compatible with the epoll1 and poll polling strategies\n",
      "[W pthreadpool-cpp.cc:90] Warning: Leaking Caffe2 thread-pool after fork. (function pthreadpool)\n",
      "E0222 16:17:44.335742561   20701 fork_posix.cc:70]           Fork support is only compatible with the epoll1 and poll polling strategies\n",
      "[W pthreadpool-cpp.cc:90] Warning: Leaking Caffe2 thread-pool after fork. (function pthreadpool)\n",
      "E0222 16:17:46.420012216   20701 fork_posix.cc:70]           Fork support is only compatible with the epoll1 and poll polling strategies\n",
      "E0222 16:17:46.580830174   20701 fork_posix.cc:70]           Fork support is only compatible with the epoll1 and poll polling strategies\n",
      "[W pthreadpool-cpp.cc:90] Warning: Leaking Caffe2 thread-pool after fork. (function pthreadpool)\n"
     ]
    },
    {
     "data": {
      "application/vnd.jupyter.widget-view+json": {
       "model_id": "",
       "version_major": 2,
       "version_minor": 0
      },
      "text/plain": [
       "Validating: 0it [00:00, ?it/s]"
      ]
     },
     "metadata": {},
     "output_type": "display_data"
    },
    {
     "name": "stderr",
     "output_type": "stream",
     "text": [
      "E0222 16:17:48.368282068   20701 fork_posix.cc:70]           Fork support is only compatible with the epoll1 and poll polling strategies\n",
      "[W pthreadpool-cpp.cc:90] Warning: Leaking Caffe2 thread-pool after fork. (function pthreadpool)\n",
      "E0222 16:17:48.410470900   20701 fork_posix.cc:70]           Fork support is only compatible with the epoll1 and poll polling strategies\n",
      "[W pthreadpool-cpp.cc:90] Warning: Leaking Caffe2 thread-pool after fork. (function pthreadpool)\n",
      "E0222 16:17:48.453267181   20701 fork_posix.cc:70]           Fork support is only compatible with the epoll1 and poll polling strategies\n",
      "[W pthreadpool-cpp.cc:90] Warning: Leaking Caffe2 thread-pool after fork. (function pthreadpool)\n",
      "E0222 16:17:48.495400670   20701 fork_posix.cc:70]           Fork support is only compatible with the epoll1 and poll polling strategies\n",
      "[W pthreadpool-cpp.cc:90] Warning: Leaking Caffe2 thread-pool after fork. (function pthreadpool)\n",
      "E0222 16:17:48.537392658   20701 fork_posix.cc:70]           Fork support is only compatible with the epoll1 and poll polling strategies\n",
      "[W pthreadpool-cpp.cc:90] Warning: Leaking Caffe2 thread-pool after fork. (function pthreadpool)\n",
      "E0222 16:17:48.579459551   20701 fork_posix.cc:70]           Fork support is only compatible with the epoll1 and poll polling strategies\n",
      "[W pthreadpool-cpp.cc:90] Warning: Leaking Caffe2 thread-pool after fork. (function pthreadpool)\n",
      "E0222 16:17:48.623166629   20701 fork_posix.cc:70]           Fork support is only compatible with the epoll1 and poll polling strategies\n",
      "[W pthreadpool-cpp.cc:90] Warning: Leaking Caffe2 thread-pool after fork. (function pthreadpool)\n",
      "E0222 16:17:48.669253727   20701 fork_posix.cc:70]           Fork support is only compatible with the epoll1 and poll polling strategies\n",
      "[W pthreadpool-cpp.cc:90] Warning: Leaking Caffe2 thread-pool after fork. (function pthreadpool)\n",
      "[W pthreadpool-cpp.cc:90] Warning: Leaking Caffe2 thread-pool after fork. (function pthreadpool)\n",
      "[W pthreadpool-cpp.cc:90] Warning: Leaking Caffe2 thread-pool after fork. (function pthreadpool)\n",
      "E0222 16:17:50.530267973   20701 fork_posix.cc:70]           Fork support is only compatible with the epoll1 and poll polling strategies\n",
      "[W pthreadpool-cpp.cc:90] Warning: Leaking Caffe2 thread-pool after fork. (function pthreadpool)\n",
      "E0222 16:17:50.572733695   20701 fork_posix.cc:70]           Fork support is only compatible with the epoll1 and poll polling strategies\n",
      "[W pthreadpool-cpp.cc:90] Warning: Leaking Caffe2 thread-pool after fork. (function pthreadpool)\n",
      "E0222 16:17:50.615480853   20701 fork_posix.cc:70]           Fork support is only compatible with the epoll1 and poll polling strategies\n",
      "[W pthreadpool-cpp.cc:90] Warning: Leaking Caffe2 thread-pool after fork. (function pthreadpool)\n",
      "E0222 16:17:50.657396608   20701 fork_posix.cc:70]           Fork support is only compatible with the epoll1 and poll polling strategies\n",
      "[W pthreadpool-cpp.cc:90] Warning: Leaking Caffe2 thread-pool after fork. (function pthreadpool)\n",
      "E0222 16:17:50.699778430   20701 fork_posix.cc:70]           Fork support is only compatible with the epoll1 and poll polling strategies\n",
      "[W pthreadpool-cpp.cc:90] Warning: Leaking Caffe2 thread-pool after fork. (function pthreadpool)\n",
      "E0222 16:17:50.742384679   20701 fork_posix.cc:70]           Fork support is only compatible with the epoll1 and poll polling strategies\n",
      "[W pthreadpool-cpp.cc:90] Warning: Leaking Caffe2 thread-pool after fork. (function pthreadpool)\n",
      "E0222 16:17:50.784576598   20701 fork_posix.cc:70]           Fork support is only compatible with the epoll1 and poll polling strategies\n",
      "[W pthreadpool-cpp.cc:90] Warning: Leaking Caffe2 thread-pool after fork. (function pthreadpool)\n",
      "E0222 16:17:50.826782429   20701 fork_posix.cc:70]           Fork support is only compatible with the epoll1 and poll polling strategies\n",
      "[W pthreadpool-cpp.cc:90] Warning: Leaking Caffe2 thread-pool after fork. (function pthreadpool)\n",
      "E0222 16:17:53.170196127   20701 fork_posix.cc:70]           Fork support is only compatible with the epoll1 and poll polling strategies\n",
      "E0222 16:17:53.319489040   20701 fork_posix.cc:70]           Fork support is only compatible with the epoll1 and poll polling strategies\n",
      "[W pthreadpool-cpp.cc:90] Warning: Leaking Caffe2 thread-pool after fork. (function pthreadpool)\n"
     ]
    },
    {
     "data": {
      "application/vnd.jupyter.widget-view+json": {
       "model_id": "",
       "version_major": 2,
       "version_minor": 0
      },
      "text/plain": [
       "Validating: 0it [00:00, ?it/s]"
      ]
     },
     "metadata": {},
     "output_type": "display_data"
    },
    {
     "name": "stderr",
     "output_type": "stream",
     "text": [
      "E0222 16:17:54.834620965   20701 fork_posix.cc:70]           Fork support is only compatible with the epoll1 and poll polling strategies\n",
      "[W pthreadpool-cpp.cc:90] Warning: Leaking Caffe2 thread-pool after fork. (function pthreadpool)\n",
      "E0222 16:17:54.876847695   20701 fork_posix.cc:70]           Fork support is only compatible with the epoll1 and poll polling strategies\n",
      "[W pthreadpool-cpp.cc:90] Warning: Leaking Caffe2 thread-pool after fork. (function pthreadpool)\n",
      "E0222 16:17:54.919107837   20701 fork_posix.cc:70]           Fork support is only compatible with the epoll1 and poll polling strategies\n",
      "[W pthreadpool-cpp.cc:90] Warning: Leaking Caffe2 thread-pool after fork. (function pthreadpool)\n",
      "E0222 16:17:54.961124587   20701 fork_posix.cc:70]           Fork support is only compatible with the epoll1 and poll polling strategies\n",
      "E0222 16:17:55.002616362   20701 fork_posix.cc:70]           Fork support is only compatible with the epoll1 and poll polling strategies\n",
      "[W pthreadpool-cpp.cc:90] Warning: Leaking Caffe2 thread-pool after fork. (function pthreadpool)\n",
      "[W pthreadpool-cpp.cc:90] Warning: Leaking Caffe2 thread-pool after fork. (function pthreadpool)\n",
      "E0222 16:17:55.044738030   20701 fork_posix.cc:70]           Fork support is only compatible with the epoll1 and poll polling strategies\n",
      "[W pthreadpool-cpp.cc:90] Warning: Leaking Caffe2 thread-pool after fork. (function pthreadpool)\n",
      "E0222 16:17:55.086614380   20701 fork_posix.cc:70]           Fork support is only compatible with the epoll1 and poll polling strategies\n",
      "[W pthreadpool-cpp.cc:90] Warning: Leaking Caffe2 thread-pool after fork. (function pthreadpool)\n",
      "E0222 16:17:55.128825502   20701 fork_posix.cc:70]           Fork support is only compatible with the epoll1 and poll polling strategies\n",
      "[W pthreadpool-cpp.cc:90] Warning: Leaking Caffe2 thread-pool after fork. (function pthreadpool)\n",
      "E0222 16:17:54.961124587   20701 fork_posix.cc:70]           Fork support is only compatible with the epoll1 and poll polling strategies\n",
      "E0222 16:17:55.044738030   20701 fork_posix.cc:70]           Fork support is only compatible with the epoll1 and poll polling strategies\n",
      "E0222 16:17:54.876847695   20701 fork_posix.cc:70]           Fork support is only compatible with the epoll1 and poll polling strategies\n",
      "[W pthreadpool-cpp.cc:90] Warning: Leaking Caffe2 thread-pool after fork. (function pthreadpool)\n",
      "[W pthreadpool-cpp.cc:90] Warning: Leaking Caffe2 thread-pool after fork. (function pthreadpool)\n"
     ]
    },
    {
     "data": {
      "text/plain": [
       "<nuplan.planning.training.experiments.training.TrainingEngine object at 0x7f6851037670>"
      ]
     },
     "execution_count": 5,
     "metadata": {},
     "output_type": "execute_result"
    }
   ],
   "source": [
    "from nuplan.planning.script.run_training import main as main_train\n",
    "\n",
    "# Run the training loop, optionally inspect training artifacts through tensorboard (above cell)\n",
    "main_train(cfg)"
   ]
  },
  {
   "cell_type": "markdown",
   "id": "cd570621",
   "metadata": {},
   "source": [
    "## Launch training (command line - alternative)"
   ]
  },
  {
   "cell_type": "markdown",
   "id": "d6ad67e5",
   "metadata": {},
   "source": [
    "A training experiment with the above same parameters can be launched alternatively with:\n",
    "```\n",
    "$ python nuplan/planning/script/run_training.py \\\n",
    "    experiment_name=raster_experiment \\\n",
    "    py_func=train \\\n",
    "    +training=training_raster_model \\\n",
    "    scenario_builder=nuplan_mini \\\n",
    "    scenario_builder.nuplan.scenario_filter.limit_scenarios_per_type=500 \\\n",
    "    scenario_builder.nuplan.scenario_filter.subsample_ratio=0.01 \\\n",
    "    lightning.trainer.params.max_epochs=10 \\\n",
    "    data_loader.params.batch_size=8 \\\n",
    "    data_loader.params.num_workers=8\n",
    "```"
   ]
  },
  {
   "cell_type": "markdown",
   "id": "184dc002",
   "metadata": {},
   "source": [
    "# Simulating a planner <a name=\"simulation\"></a>"
   ]
  },
  {
   "cell_type": "markdown",
   "id": "49758620",
   "metadata": {},
   "source": [
    "## Open-loop simulation\n",
    "Open-loop simulation aims to evaluate the policy's capabilities to imitate the expert driver's behavior.<br />\n",
    "This is essentially done through log replay as the policy's predictions do not affect the state of the simulation.\n",
    "\n",
    "As the policy is not in full control of the vehicle, this type of simulation can only provide a high-level performance overview.\n",
    "\n",
    "## Closed-loop simulation\n",
    "Conversely, in closed-loop simulation the policy's actions alter the state of the simulation which tries to closely approximate the real-world system.\n",
    "\n",
    "The simulation's feedback loop enables a more in-depth evaluation of the policy as compounding errors can cause future observations to significantly diverge from the ground truth.<br />\n",
    "This is important in measuring distribution shifts introduced due to lack of variance in training examples through pure imitation learning.\n",
    "\n",
    "Closed-loop simulation is further divided into two categories:\n",
    "* ego closed-loop simulation with agents replayed from log (open-loop, non reactive)\n",
    "* ego closed-loop simulation with agents controlled by a rule-based or learned policy (closed-loop, reactive)\n",
    "\n",
    "## Measuring success\n",
    "Measuring the success of a planning task and comparing various planning policies is a complicated effort that involves defining metrics across different vertical dimensions and scenario categories.<br />\n",
    "These metrics include indicators such as vehicle dynamics, traffic rule violations, expert imitation, navigation success etc.<br />\n",
    "Overall, they aim to capture the policy's ability to control the autonomous vehicle safely yet efficiently without compromising the passenger's comfort."
   ]
  },
  {
   "cell_type": "markdown",
   "id": "04359006",
   "metadata": {},
   "source": [
    "## Simulation parameters"
   ]
  },
  {
   "cell_type": "markdown",
   "id": "ebef8382",
   "metadata": {},
   "source": [
    "### Planners\n",
    "\n",
    "Change the planner model with `planner=X` where `X` is a config yaml defined in the table below. \n",
    "\n",
    "| Planner | Description | Config |\n",
    "| --- | --- | --- |\n",
    "| Simple Planner | Naive planner that only plans a straight path | `simple_planner` |\n",
    "| ML Planner | Learning-based planner trained using the nuPlan training framework (see previous section) | `ml_planner` |"
   ]
  },
  {
   "cell_type": "markdown",
   "id": "db903632",
   "metadata": {},
   "source": [
    "## Prepare the simulation config"
   ]
  },
  {
   "cell_type": "code",
   "execution_count": 6,
   "id": "112d1965",
   "metadata": {},
   "outputs": [
    {
     "name": "stderr",
     "output_type": "stream",
     "text": [
      "/home/fla/anaconda3/envs/nuplan/lib/python3.9/site-packages/hydra/_internal/defaults_list.py:251: UserWarning: In 'default_simulation': Defaults list is missing `_self_`. See https://hydra.cc/docs/upgrades/1.0_to_1.1/default_composition_order for more information\n",
      "  warnings.warn(msg, UserWarning)\n"
     ]
    }
   ],
   "source": [
    "# Location of path with all simulation configs\n",
    "CONFIG_PATH = '../nuplan/planning/script/config/simulation'\n",
    "CONFIG_NAME = 'default_simulation'\n",
    "\n",
    "# Select the planner and simulation challenge\n",
    "PLANNER = 'simple_planner'  # [simple_planner, ml_planner]\n",
    "CHALLENGE = 'challenge_1_open_loop_boxes'  # [challenge_1_open_loop_boxes, challenge_3_closed_loop_nonreactive_agents, challenge_4_closed_loop_reactive_agents]\n",
    "DATASET_PARAMS = [\n",
    "    'scenario_builder=nuplan_mini',  # use nuplan mini database\n",
    "    'scenario_builder/nuplan/scenario_filter=all_scenarios',  # initially select all scenarios in the database\n",
    "    'scenario_builder.nuplan.scenario_filter.scenario_types=[nearby_dense_vehicle_traffic, ego_at_pudo, ego_starts_unprotected_cross_turn, ego_high_curvature]',  # select scenario types\n",
    "    'scenario_builder.nuplan.scenario_filter.limit_scenarios_per_type=10',  # use 10 scenarios per scenario type\n",
    "    'scenario_builder.nuplan.scenario_filter.subsample_ratio=0.05',  # subsample 20s scenario from 20Hz to 1Hz\n",
    "]\n",
    "\n",
    "# Name of the experiment\n",
    "EXPERIMENT = 'simulation_simple_experiment'\n",
    "\n",
    "# Initialize configuration management system\n",
    "hydra.core.global_hydra.GlobalHydra.instance().clear()  # reinitialize hydra if already initialized\n",
    "hydra.initialize(config_path=CONFIG_PATH)\n",
    "\n",
    "# Compose the configuration\n",
    "cfg = hydra.compose(config_name=CONFIG_NAME, overrides=[\n",
    "    f'experiment_name={EXPERIMENT}',\n",
    "    f'group={SAVE_DIR}',\n",
    "    f'planner={PLANNER}',\n",
    "    f'+simulation={CHALLENGE}',\n",
    "    *DATASET_PARAMS,\n",
    "])"
   ]
  },
  {
   "cell_type": "markdown",
   "id": "12e79a0a",
   "metadata": {},
   "source": [
    "## Launch simulation (within the notebook)"
   ]
  },
  {
   "cell_type": "code",
   "execution_count": 7,
   "id": "ba7aab5b",
   "metadata": {},
   "outputs": [
    {
     "name": "stderr",
     "output_type": "stream",
     "text": [
      "Global seed set to 0\n"
     ]
    },
    {
     "name": "stdout",
     "output_type": "stream",
     "text": [
      "2022-02-22 16:18:11,011 INFO {/home/fla/nuplan-devkit/nuplan/planning/script/run_simulation.py:126}  Building planners...\n",
      "2022-02-22 16:18:11,014 INFO {/home/fla/nuplan-devkit/nuplan/planning/script/run_simulation.py:128}  Building planners...DONE!\n",
      "2022-02-22 16:18:11,026 INFO {/home/fla/nuplan-devkit/nuplan/planning/script/builders/worker_pool_builder.py:18}  Building WorkerPool...\n",
      "2022-02-22 16:18:11,027 WARNING {/home/fla/nuplan-devkit/nuplan/planning/utils/multithreading/worker_ray.py:98}  Ray is running, we will shut it down before starting again!\n",
      "2022-02-22 16:18:13,357 INFO {/home/fla/nuplan-devkit/nuplan/planning/utils/multithreading/worker_ray.py:63}  Starting ray local!\n"
     ]
    },
    {
     "name": "stderr",
     "output_type": "stream",
     "text": [
      "E0222 16:18:13.365531927   20701 fork_posix.cc:70]           Fork support is only compatible with the epoll1 and poll polling strategies\n",
      "E0222 16:18:13.470419593   20701 fork_posix.cc:70]           Fork support is only compatible with the epoll1 and poll polling strategies\n",
      "E0222 16:18:13.574445577   20701 fork_posix.cc:70]           Fork support is only compatible with the epoll1 and poll polling strategies\n",
      "E0222 16:18:14.671689939   20701 fork_posix.cc:70]           Fork support is only compatible with the epoll1 and poll polling strategies\n",
      "E0222 16:18:14.763375485   20701 fork_posix.cc:70]           Fork support is only compatible with the epoll1 and poll polling strategies\n",
      "2022-02-22 16:18:15,463\tINFO services.py:1374 -- View the Ray dashboard at \u001b[1m\u001b[32mhttp://172.21.2.20:8265\u001b[39m\u001b[22m\n",
      "E0222 16:18:15.476607122   20701 fork_posix.cc:70]           Fork support is only compatible with the epoll1 and poll polling strategies\n",
      "E0222 16:18:15.570297745   20701 fork_posix.cc:70]           Fork support is only compatible with the epoll1 and poll polling strategies\n"
     ]
    },
    {
     "name": "stdout",
     "output_type": "stream",
     "text": [
      "2022-02-22 16:18:16,818 INFO {/home/fla/nuplan-devkit/nuplan/planning/utils/multithreading/worker_pool.py:95}  Worker: RayDistributed\n",
      "2022-02-22 16:18:16,821 INFO {/home/fla/nuplan-devkit/nuplan/planning/utils/multithreading/worker_pool.py:96}  Number of nodes: 1\n",
      "Number of CPUs per node: 12\n",
      "Number of GPUs per node: 1\n",
      "Number of threads across all nodes: 12\n",
      "2022-02-22 16:18:16,822 INFO {/home/fla/nuplan-devkit/nuplan/planning/script/builders/worker_pool_builder.py:21}  Building WorkerPool...DONE!\n",
      "2022-02-22 16:18:16,824 INFO {/home/fla/nuplan-devkit/nuplan/planning/script/builders/folder_builder.py:28}  Building experiment folders...\n",
      "2022-02-22 16:18:16,828 INFO {/home/fla/nuplan-devkit/nuplan/planning/script/builders/folder_builder.py:30}  \n",
      "\n",
      "\tFolder where all results are stored: /home/fla/temp/tutorial_nuplan_framework/simulation_simple_experiment/2022.02.22.16.18.11\n",
      "\n",
      "2022-02-22 16:18:16,831 INFO {/home/fla/nuplan-devkit/nuplan/planning/script/builders/folder_builder.py:42}  Building experiment folders...DONE!\n",
      "2022-02-22 16:18:16,831 INFO {/home/fla/nuplan-devkit/nuplan/planning/script/builders/simulation_callback_builder.py:23}  Building AbstractCallback...\n",
      "2022-02-22 16:18:16,845 INFO {/home/fla/nuplan-devkit/nuplan/planning/script/builders/simulation_callback_builder.py:36}  Building AbstractCallback...DONE!\n",
      "2022-02-22 16:18:16,846 INFO {/home/fla/nuplan-devkit/nuplan/planning/script/builders/scenario_building_builder.py:17}  Building AbstractScenarioBuilder...\n",
      "2022-02-22 16:18:16,858 INFO {/home/fla/nuplan-devkit/nuplan/planning/script/builders/scenario_building_builder.py:20}  Building AbstractScenarioBuilder...DONE!\n",
      "2022-02-22 16:18:16,859 INFO {/home/fla/nuplan-devkit/nuplan/planning/script/builders/simulation_builder.py:37}  Building simulations...\n",
      "2022-02-22 16:18:16,860 INFO {/home/fla/nuplan-devkit/nuplan/planning/script/builders/scenario_filter_builder.py:19}  Building ScenarioFilter...\n",
      "2022-02-22 16:18:16,865 INFO {/home/fla/nuplan-devkit/nuplan/planning/script/builders/scenario_filter_builder.py:22}  Building ScenarioFilter...DONE!\n",
      "2022-02-22 16:18:16,866 INFO {/home/fla/nuplan-devkit/nuplan/planning/script/builders/simulation_builder.py:44}  Extracting scenarios...\n",
      "2022-02-22 16:18:16,866 INFO {/home/fla/nuplan-devkit/nuplan/planning/scenario_builder/nuplan_db/nuplan_scenario_builder.py:121}  Initial scenario filtering...\n",
      "2022-02-22 16:18:16,884 INFO {/home/fla/nuplan-devkit/nuplan/planning/scenario_builder/nuplan_db/nuplan_scenario_builder.py:142}  Initial scenario filtering...DONE\n",
      "2022-02-22 16:18:16,884 INFO {/home/fla/nuplan-devkit/nuplan/planning/scenario_builder/nuplan_db/nuplan_scenario_builder.py:162}  Limit scenario number by scenario type...\n",
      "2022-02-22 16:18:16,885 INFO {/home/fla/nuplan-devkit/nuplan/planning/scenario_builder/nuplan_db/nuplan_scenario_builder.py:174}  Limit scenario number by scenario type...DONE\n",
      "2022-02-22 16:18:16,885 INFO {/home/fla/nuplan-devkit/nuplan/planning/scenario_builder/nuplan_db/nuplan_scenario_builder.py:184}  Converting scenarios to AbstractScenario...\n",
      "2022-02-22 16:18:16,885 INFO {/home/fla/nuplan-devkit/nuplan/planning/utils/multithreading/worker_pool.py:107}  Submitting 12 tasks!\n"
     ]
    },
    {
     "name": "stderr",
     "output_type": "stream",
     "text": [
      "Ray objects: 100%|████████████████████████████████████████████████████████████████████████████████████████████████████████| 12/12 [00:01<00:00,  6.12it/s]\n"
     ]
    },
    {
     "name": "stdout",
     "output_type": "stream",
     "text": [
      "2022-02-22 16:18:18,866 INFO {/home/fla/nuplan-devkit/nuplan/planning/scenario_builder/nuplan_db/nuplan_scenario_builder.py:195}  Converting scenarios to AbstractScenario...DONE\n",
      "2022-02-22 16:18:18,867 INFO {/home/fla/nuplan-devkit/nuplan/planning/scenario_builder/nuplan_db/nuplan_scenario_builder.py:226}  Total number of extracted scenarios: 27!\n",
      "2022-02-22 16:18:18,867 INFO {/home/fla/nuplan-devkit/nuplan/planning/script/builders/simulation_builder.py:46}  Extracting scenarios...DONE!\n",
      "2022-02-22 16:18:18,867 INFO {/home/fla/nuplan-devkit/nuplan/planning/script/builders/simulation_builder.py:48}  Building metric engines...\n",
      "2022-02-22 16:18:19,021 INFO {/home/fla/nuplan-devkit/nuplan/planning/script/builders/simulation_builder.py:50}  Building metric engines...DONE\n",
      "2022-02-22 16:18:19,022 INFO {/home/fla/nuplan-devkit/nuplan/planning/script/builders/simulation_builder.py:52}  Building simulations from 1 planners and 27 scenarios...\n",
      "2022-02-22 16:18:19,147 INFO {/home/fla/nuplan-devkit/nuplan/planning/script/builders/simulation_builder.py:85}  Building simulations...DONE!\n",
      "2022-02-22 16:18:19,148 INFO {/home/fla/nuplan-devkit/nuplan/planning/script/run_simulation.py:96}  Running simulation...\n",
      "2022-02-22 16:18:19,148 INFO {/home/fla/nuplan-devkit/nuplan/planning/simulation/runner.py:68}  Starting 27 simulations using RayDistributed!\n",
      "2022-02-22 16:18:19,148 INFO {/home/fla/nuplan-devkit/nuplan/planning/utils/multithreading/worker_pool.py:107}  Submitting 27 tasks!\n"
     ]
    },
    {
     "name": "stderr",
     "output_type": "stream",
     "text": [
      "Ray objects: 100%|████████████████████████████████████████████████████████████████████████████████████████████████████████| 27/27 [00:09<00:00,  2.81it/s]"
     ]
    },
    {
     "name": "stdout",
     "output_type": "stream",
     "text": [
      "2022-02-22 16:18:28,782 INFO {/home/fla/nuplan-devkit/nuplan/planning/simulation/runner.py:74}  Number of successful simulations: 27\n",
      "2022-02-22 16:18:28,782 INFO {/home/fla/nuplan-devkit/nuplan/planning/simulation/runner.py:75}  Number of failed simulations: 0\n",
      "2022-02-22 16:18:28,782 INFO {/home/fla/nuplan-devkit/nuplan/planning/script/run_simulation.py:102}  Finished running simulation!\n",
      "2022-02-22 16:18:28,783 INFO {/home/fla/nuplan-devkit/nuplan/planning/script/run_simulation.py:111}  Simulation duration: 00:00:17 [HH:MM:SS]\n"
     ]
    },
    {
     "name": "stderr",
     "output_type": "stream",
     "text": [
      "\n"
     ]
    }
   ],
   "source": [
    "from nuplan.planning.script.run_simulation import main as main_simulation\n",
    "\n",
    "# Run the simulation loop (real-time visualization not yet supported, see next section for visualization)\n",
    "main_simulation(cfg)\n",
    "\n",
    "# Fetch the filesystem location of the simulation results file for visualization in nuBoard (next section)\n",
    "parent_dir = Path(SAVE_DIR) / EXPERIMENT\n",
    "results_dir = list(parent_dir.iterdir())[0]  # get the child dir\n",
    "nuboard_file_1 = [str(file) for file in results_dir.iterdir() if file.is_file() and file.suffix == '.nuboard'][0]"
   ]
  },
  {
   "cell_type": "markdown",
   "id": "8b6c1fb9",
   "metadata": {},
   "source": [
    "## Launch simulation (command line - alternative)"
   ]
  },
  {
   "cell_type": "markdown",
   "id": "cc9b23af",
   "metadata": {},
   "source": [
    "A simulation experiment can be launched alternatively with:\n",
    "```\n",
    "$ python nuplan/planning/script/run_simulation.py \\\n",
    "    +simulation=challenge_1_open_loop_boxes \\\n",
    "    planner=simple_planner \\\n",
    "    scenario_builder=nuplan_mini \\\n",
    "    scenario_builder/nuplan/scenario_filter=all_scenarios \\\n",
    "    scenario_builder.nuplan.scenario_filter.scenario_types=\"[nearby_dense_vehicle_traffic, ego_at_pudo, ego_starts_unprotected_cross_turn, ego_high_curvature]\" \\\n",
    "    scenario_builder.nuplan.scenario_filter.limit_scenarios_per_type=10 \\\n",
    "    scenario_builder.nuplan.scenario_filter.subsample_ratio=0.05\n",
    "```"
   ]
  },
  {
   "cell_type": "markdown",
   "id": "557a181f",
   "metadata": {},
   "source": [
    "## Simulate a trained ML planner for comparison\n",
    "\n",
    "Using the same simulation settings as before, we can simulate a pretrained ML planner and compare the two.\n",
    "\n",
    "In this example you can take the model you trained earlier."
   ]
  },
  {
   "cell_type": "code",
   "execution_count": 8,
   "id": "ba4dc68c",
   "metadata": {
    "pycharm": {
     "name": "#%%\n"
    }
   },
   "outputs": [
    {
     "name": "stdout",
     "output_type": "stream",
     "text": [
      "2022-02-22 16:18:41,095 INFO {/home/fla/nuplan-devkit/nuplan/planning/script/run_simulation.py:126}  Building planners...\n",
      "2022-02-22 16:18:41,095 INFO {/home/fla/nuplan-devkit/nuplan/planning/script/builders/model_builder.py:18}  Building NNModule...\n"
     ]
    },
    {
     "name": "stderr",
     "output_type": "stream",
     "text": [
      "Global seed set to 0\n"
     ]
    },
    {
     "name": "stdout",
     "output_type": "stream",
     "text": [
      "2022-02-22 16:18:41,314 INFO {/home/fla/anaconda3/envs/nuplan/lib/python3.9/site-packages/timm/models/helpers.py:188}  Loading pretrained weights from url (https://github.com/rwightman/pytorch-image-models/releases/download/v0.1-rsb-weights/resnet50_a1_0-14fe96d1.pth)\n",
      "2022-02-22 16:18:41,351 INFO {/home/fla/anaconda3/envs/nuplan/lib/python3.9/site-packages/timm/models/helpers.py:208}  Converted input conv conv1 pretrained weights from 3 to 4 channel(s)\n",
      "2022-02-22 16:18:41,375 INFO {/home/fla/nuplan-devkit/nuplan/planning/script/builders/model_builder.py:21}  Building NNModule...DONE!\n",
      "2022-02-22 16:18:41,491 INFO {/home/fla/nuplan-devkit/nuplan/planning/script/run_simulation.py:128}  Building planners...DONE!\n",
      "2022-02-22 16:18:41,500 INFO {/home/fla/nuplan-devkit/nuplan/planning/script/builders/worker_pool_builder.py:18}  Building WorkerPool...\n",
      "2022-02-22 16:18:41,500 INFO {/home/fla/nuplan-devkit/nuplan/planning/script/builders/worker_pool_builder.py:18}  Building WorkerPool...\n",
      "2022-02-22 16:18:41,501 WARNING {/home/fla/nuplan-devkit/nuplan/planning/utils/multithreading/worker_ray.py:98}  Ray is running, we will shut it down before starting again!\n",
      "2022-02-22 16:18:41,501 WARNING {/home/fla/nuplan-devkit/nuplan/planning/utils/multithreading/worker_ray.py:98}  Ray is running, we will shut it down before starting again!\n",
      "2022-02-22 16:18:43,177 INFO {/home/fla/nuplan-devkit/nuplan/planning/utils/multithreading/worker_ray.py:63}  Starting ray local!\n",
      "2022-02-22 16:18:43,177 INFO {/home/fla/nuplan-devkit/nuplan/planning/utils/multithreading/worker_ray.py:63}  Starting ray local!\n"
     ]
    },
    {
     "name": "stderr",
     "output_type": "stream",
     "text": [
      "E0222 16:18:43.181259153   20701 fork_posix.cc:70]           Fork support is only compatible with the epoll1 and poll polling strategies\n",
      "E0222 16:18:43.291623121   20701 fork_posix.cc:70]           Fork support is only compatible with the epoll1 and poll polling strategies\n",
      "E0222 16:18:43.400982963   20701 fork_posix.cc:70]           Fork support is only compatible with the epoll1 and poll polling strategies\n",
      "E0222 16:18:44.500833583   20701 fork_posix.cc:70]           Fork support is only compatible with the epoll1 and poll polling strategies\n",
      "E0222 16:18:44.601882351   20701 fork_posix.cc:70]           Fork support is only compatible with the epoll1 and poll polling strategies\n",
      "2022-02-22 16:18:45,307\tINFO services.py:1374 -- View the Ray dashboard at \u001b[1m\u001b[32mhttp://172.21.2.20:8265\u001b[39m\u001b[22m\n",
      "E0222 16:18:45.321087199   20701 fork_posix.cc:70]           Fork support is only compatible with the epoll1 and poll polling strategies\n",
      "E0222 16:18:45.418150699   20701 fork_posix.cc:70]           Fork support is only compatible with the epoll1 and poll polling strategies\n"
     ]
    },
    {
     "name": "stdout",
     "output_type": "stream",
     "text": [
      "2022-02-22 16:18:46,697 INFO {/home/fla/nuplan-devkit/nuplan/planning/utils/multithreading/worker_pool.py:95}  Worker: RayDistributed\n",
      "2022-02-22 16:18:46,697 INFO {/home/fla/nuplan-devkit/nuplan/planning/utils/multithreading/worker_pool.py:95}  Worker: RayDistributed\n",
      "2022-02-22 16:18:46,700 INFO {/home/fla/nuplan-devkit/nuplan/planning/utils/multithreading/worker_pool.py:96}  Number of nodes: 1\n",
      "Number of CPUs per node: 12\n",
      "Number of GPUs per node: 1\n",
      "Number of threads across all nodes: 12\n",
      "2022-02-22 16:18:46,700 INFO {/home/fla/nuplan-devkit/nuplan/planning/utils/multithreading/worker_pool.py:96}  Number of nodes: 1\n",
      "Number of CPUs per node: 12\n",
      "Number of GPUs per node: 1\n",
      "Number of threads across all nodes: 12\n",
      "2022-02-22 16:18:46,702 INFO {/home/fla/nuplan-devkit/nuplan/planning/script/builders/worker_pool_builder.py:21}  Building WorkerPool...DONE!\n",
      "2022-02-22 16:18:46,702 INFO {/home/fla/nuplan-devkit/nuplan/planning/script/builders/worker_pool_builder.py:21}  Building WorkerPool...DONE!\n",
      "2022-02-22 16:18:46,702 INFO {/home/fla/nuplan-devkit/nuplan/planning/script/builders/folder_builder.py:28}  Building experiment folders...\n",
      "2022-02-22 16:18:46,702 INFO {/home/fla/nuplan-devkit/nuplan/planning/script/builders/folder_builder.py:28}  Building experiment folders...\n",
      "2022-02-22 16:18:46,708 INFO {/home/fla/nuplan-devkit/nuplan/planning/script/builders/folder_builder.py:30}  \n",
      "\n",
      "\tFolder where all results are stored: /home/fla/temp/tutorial_nuplan_framework/simulation_raster_experiment/2022.02.22.16.18.41\n",
      "\n",
      "2022-02-22 16:18:46,708 INFO {/home/fla/nuplan-devkit/nuplan/planning/script/builders/folder_builder.py:30}  \n",
      "\n",
      "\tFolder where all results are stored: /home/fla/temp/tutorial_nuplan_framework/simulation_raster_experiment/2022.02.22.16.18.41\n",
      "\n",
      "2022-02-22 16:18:46,710 INFO {/home/fla/nuplan-devkit/nuplan/planning/script/builders/folder_builder.py:42}  Building experiment folders...DONE!\n",
      "2022-02-22 16:18:46,710 INFO {/home/fla/nuplan-devkit/nuplan/planning/script/builders/folder_builder.py:42}  Building experiment folders...DONE!\n",
      "2022-02-22 16:18:46,711 INFO {/home/fla/nuplan-devkit/nuplan/planning/script/builders/simulation_callback_builder.py:23}  Building AbstractCallback...\n",
      "2022-02-22 16:18:46,711 INFO {/home/fla/nuplan-devkit/nuplan/planning/script/builders/simulation_callback_builder.py:23}  Building AbstractCallback...\n",
      "2022-02-22 16:18:46,719 INFO {/home/fla/nuplan-devkit/nuplan/planning/script/builders/simulation_callback_builder.py:36}  Building AbstractCallback...DONE!\n",
      "2022-02-22 16:18:46,719 INFO {/home/fla/nuplan-devkit/nuplan/planning/script/builders/simulation_callback_builder.py:36}  Building AbstractCallback...DONE!\n",
      "2022-02-22 16:18:46,719 INFO {/home/fla/nuplan-devkit/nuplan/planning/script/builders/scenario_building_builder.py:17}  Building AbstractScenarioBuilder...\n",
      "2022-02-22 16:18:46,719 INFO {/home/fla/nuplan-devkit/nuplan/planning/script/builders/scenario_building_builder.py:17}  Building AbstractScenarioBuilder...\n",
      "2022-02-22 16:18:46,724 INFO {/home/fla/nuplan-devkit/nuplan/planning/script/builders/scenario_building_builder.py:20}  Building AbstractScenarioBuilder...DONE!\n",
      "2022-02-22 16:18:46,724 INFO {/home/fla/nuplan-devkit/nuplan/planning/script/builders/scenario_building_builder.py:20}  Building AbstractScenarioBuilder...DONE!\n",
      "2022-02-22 16:18:46,724 INFO {/home/fla/nuplan-devkit/nuplan/planning/script/builders/simulation_builder.py:37}  Building simulations...\n",
      "2022-02-22 16:18:46,724 INFO {/home/fla/nuplan-devkit/nuplan/planning/script/builders/simulation_builder.py:37}  Building simulations...\n",
      "2022-02-22 16:18:46,724 INFO {/home/fla/nuplan-devkit/nuplan/planning/script/builders/scenario_filter_builder.py:19}  Building ScenarioFilter...\n",
      "2022-02-22 16:18:46,724 INFO {/home/fla/nuplan-devkit/nuplan/planning/script/builders/scenario_filter_builder.py:19}  Building ScenarioFilter...\n",
      "2022-02-22 16:18:46,727 INFO {/home/fla/nuplan-devkit/nuplan/planning/script/builders/scenario_filter_builder.py:22}  Building ScenarioFilter...DONE!\n",
      "2022-02-22 16:18:46,727 INFO {/home/fla/nuplan-devkit/nuplan/planning/script/builders/scenario_filter_builder.py:22}  Building ScenarioFilter...DONE!\n",
      "2022-02-22 16:18:46,727 INFO {/home/fla/nuplan-devkit/nuplan/planning/script/builders/simulation_builder.py:44}  Extracting scenarios...\n",
      "2022-02-22 16:18:46,727 INFO {/home/fla/nuplan-devkit/nuplan/planning/script/builders/simulation_builder.py:44}  Extracting scenarios...\n",
      "2022-02-22 16:18:46,727 INFO {/home/fla/nuplan-devkit/nuplan/planning/scenario_builder/nuplan_db/nuplan_scenario_builder.py:121}  Initial scenario filtering...\n",
      "2022-02-22 16:18:46,727 INFO {/home/fla/nuplan-devkit/nuplan/planning/scenario_builder/nuplan_db/nuplan_scenario_builder.py:121}  Initial scenario filtering...\n",
      "2022-02-22 16:18:46,740 INFO {/home/fla/nuplan-devkit/nuplan/planning/scenario_builder/nuplan_db/nuplan_scenario_builder.py:142}  Initial scenario filtering...DONE\n",
      "2022-02-22 16:18:46,740 INFO {/home/fla/nuplan-devkit/nuplan/planning/scenario_builder/nuplan_db/nuplan_scenario_builder.py:142}  Initial scenario filtering...DONE\n",
      "2022-02-22 16:18:46,740 INFO {/home/fla/nuplan-devkit/nuplan/planning/scenario_builder/nuplan_db/nuplan_scenario_builder.py:162}  Limit scenario number by scenario type...\n",
      "2022-02-22 16:18:46,740 INFO {/home/fla/nuplan-devkit/nuplan/planning/scenario_builder/nuplan_db/nuplan_scenario_builder.py:162}  Limit scenario number by scenario type...\n",
      "2022-02-22 16:18:46,740 INFO {/home/fla/nuplan-devkit/nuplan/planning/scenario_builder/nuplan_db/nuplan_scenario_builder.py:174}  Limit scenario number by scenario type...DONE\n",
      "2022-02-22 16:18:46,740 INFO {/home/fla/nuplan-devkit/nuplan/planning/scenario_builder/nuplan_db/nuplan_scenario_builder.py:174}  Limit scenario number by scenario type...DONE\n",
      "2022-02-22 16:18:46,740 INFO {/home/fla/nuplan-devkit/nuplan/planning/scenario_builder/nuplan_db/nuplan_scenario_builder.py:184}  Converting scenarios to AbstractScenario...\n",
      "2022-02-22 16:18:46,740 INFO {/home/fla/nuplan-devkit/nuplan/planning/scenario_builder/nuplan_db/nuplan_scenario_builder.py:184}  Converting scenarios to AbstractScenario...\n",
      "2022-02-22 16:18:46,741 INFO {/home/fla/nuplan-devkit/nuplan/planning/utils/multithreading/worker_pool.py:107}  Submitting 12 tasks!\n",
      "2022-02-22 16:18:46,741 INFO {/home/fla/nuplan-devkit/nuplan/planning/utils/multithreading/worker_pool.py:107}  Submitting 12 tasks!\n"
     ]
    },
    {
     "name": "stderr",
     "output_type": "stream",
     "text": [
      "Ray objects: 100%|████████████████████████████████████████████████████████████████████████████████████████████████████████| 12/12 [00:01<00:00,  6.16it/s]\n"
     ]
    },
    {
     "name": "stdout",
     "output_type": "stream",
     "text": [
      "2022-02-22 16:18:48,699 INFO {/home/fla/nuplan-devkit/nuplan/planning/scenario_builder/nuplan_db/nuplan_scenario_builder.py:195}  Converting scenarios to AbstractScenario...DONE\n",
      "2022-02-22 16:18:48,699 INFO {/home/fla/nuplan-devkit/nuplan/planning/scenario_builder/nuplan_db/nuplan_scenario_builder.py:195}  Converting scenarios to AbstractScenario...DONE\n",
      "2022-02-22 16:18:48,699 INFO {/home/fla/nuplan-devkit/nuplan/planning/scenario_builder/nuplan_db/nuplan_scenario_builder.py:226}  Total number of extracted scenarios: 27!\n",
      "2022-02-22 16:18:48,699 INFO {/home/fla/nuplan-devkit/nuplan/planning/scenario_builder/nuplan_db/nuplan_scenario_builder.py:226}  Total number of extracted scenarios: 27!\n",
      "2022-02-22 16:18:48,700 INFO {/home/fla/nuplan-devkit/nuplan/planning/script/builders/simulation_builder.py:46}  Extracting scenarios...DONE!\n",
      "2022-02-22 16:18:48,700 INFO {/home/fla/nuplan-devkit/nuplan/planning/script/builders/simulation_builder.py:46}  Extracting scenarios...DONE!\n",
      "2022-02-22 16:18:48,700 INFO {/home/fla/nuplan-devkit/nuplan/planning/script/builders/simulation_builder.py:48}  Building metric engines...\n",
      "2022-02-22 16:18:48,700 INFO {/home/fla/nuplan-devkit/nuplan/planning/script/builders/simulation_builder.py:48}  Building metric engines...\n",
      "2022-02-22 16:18:48,730 INFO {/home/fla/nuplan-devkit/nuplan/planning/script/builders/simulation_builder.py:50}  Building metric engines...DONE\n",
      "2022-02-22 16:18:48,730 INFO {/home/fla/nuplan-devkit/nuplan/planning/script/builders/simulation_builder.py:50}  Building metric engines...DONE\n",
      "2022-02-22 16:18:48,730 INFO {/home/fla/nuplan-devkit/nuplan/planning/script/builders/simulation_builder.py:52}  Building simulations from 1 planners and 27 scenarios...\n",
      "2022-02-22 16:18:48,730 INFO {/home/fla/nuplan-devkit/nuplan/planning/script/builders/simulation_builder.py:52}  Building simulations from 1 planners and 27 scenarios...\n",
      "2022-02-22 16:18:48,858 INFO {/home/fla/nuplan-devkit/nuplan/planning/script/builders/simulation_builder.py:85}  Building simulations...DONE!\n",
      "2022-02-22 16:18:48,858 INFO {/home/fla/nuplan-devkit/nuplan/planning/script/builders/simulation_builder.py:85}  Building simulations...DONE!\n",
      "2022-02-22 16:18:48,859 INFO {/home/fla/nuplan-devkit/nuplan/planning/script/run_simulation.py:96}  Running simulation...\n",
      "2022-02-22 16:18:48,859 INFO {/home/fla/nuplan-devkit/nuplan/planning/script/run_simulation.py:96}  Running simulation...\n",
      "2022-02-22 16:18:48,859 INFO {/home/fla/nuplan-devkit/nuplan/planning/simulation/runner.py:68}  Starting 27 simulations using RayDistributed!\n",
      "2022-02-22 16:18:48,859 INFO {/home/fla/nuplan-devkit/nuplan/planning/simulation/runner.py:68}  Starting 27 simulations using RayDistributed!\n",
      "2022-02-22 16:18:48,859 INFO {/home/fla/nuplan-devkit/nuplan/planning/utils/multithreading/worker_pool.py:107}  Submitting 27 tasks!\n",
      "2022-02-22 16:18:48,859 INFO {/home/fla/nuplan-devkit/nuplan/planning/utils/multithreading/worker_pool.py:107}  Submitting 27 tasks!\n"
     ]
    },
    {
     "name": "stderr",
     "output_type": "stream",
     "text": [
      "Ray objects: 100%|████████████████████████████████████████████████████████████████████████████████████████████████████████| 27/27 [01:44<00:00,  3.87s/it]"
     ]
    },
    {
     "name": "stdout",
     "output_type": "stream",
     "text": [
      "2022-02-22 16:20:36,950 INFO {/home/fla/nuplan-devkit/nuplan/planning/simulation/runner.py:74}  Number of successful simulations: 27\n",
      "2022-02-22 16:20:36,950 INFO {/home/fla/nuplan-devkit/nuplan/planning/simulation/runner.py:74}  Number of successful simulations: 27\n",
      "2022-02-22 16:20:36,950 INFO {/home/fla/nuplan-devkit/nuplan/planning/simulation/runner.py:75}  Number of failed simulations: 0\n",
      "2022-02-22 16:20:36,950 INFO {/home/fla/nuplan-devkit/nuplan/planning/simulation/runner.py:75}  Number of failed simulations: 0\n",
      "2022-02-22 16:20:36,951 INFO {/home/fla/nuplan-devkit/nuplan/planning/script/run_simulation.py:102}  Finished running simulation!\n",
      "2022-02-22 16:20:36,951 INFO {/home/fla/nuplan-devkit/nuplan/planning/script/run_simulation.py:102}  Finished running simulation!\n",
      "2022-02-22 16:20:36,951 INFO {/home/fla/nuplan-devkit/nuplan/planning/script/run_simulation.py:111}  Simulation duration: 00:01:55 [HH:MM:SS]\n",
      "2022-02-22 16:20:36,951 INFO {/home/fla/nuplan-devkit/nuplan/planning/script/run_simulation.py:111}  Simulation duration: 00:01:55 [HH:MM:SS]\n"
     ]
    },
    {
     "name": "stderr",
     "output_type": "stream",
     "text": [
      "\n"
     ]
    }
   ],
   "source": [
    "# Location of path with all simulation configs\n",
    "CONFIG_PATH = '../nuplan/planning/script/config/simulation'\n",
    "CONFIG_NAME = 'default_simulation'\n",
    "\n",
    "# Get the checkpoint of the trained model\n",
    "last_experiment = sorted(os.listdir(LOG_DIR))[-1]\n",
    "train_experiment_dir = sorted(Path(LOG_DIR).iterdir())[-1]\n",
    "checkpoint = sorted((train_experiment_dir / 'checkpoints').iterdir())[-1]\n",
    "\n",
    "MODEL_PATH = str(checkpoint).replace(\"=\", \"\\=\")\n",
    "\n",
    "# Name of the experiment\n",
    "EXPERIMENT = 'simulation_raster_experiment'\n",
    "\n",
    "# Initialize configuration management system\n",
    "hydra.core.global_hydra.GlobalHydra.instance().clear()  # reinitialize hydra if already initialized\n",
    "hydra.initialize(config_path=CONFIG_PATH)\n",
    "\n",
    "# Compose the configuration\n",
    "cfg = hydra.compose(config_name=CONFIG_NAME, overrides=[\n",
    "    f'experiment_name={EXPERIMENT}',\n",
    "    f'group={SAVE_DIR}',\n",
    "    'planner=ml_planner',\n",
    "    'model=raster_model',\n",
    "    'planner.model_config=${model}',  # hydra notation to select model config\n",
    "    f'planner.checkpoint_path={MODEL_PATH}',  # this path can be replaced by the checkpoint of the model trained in the previous section\n",
    "    f'+simulation={CHALLENGE}',\n",
    "    *DATASET_PARAMS,\n",
    "])\n",
    "\n",
    "# Run the simulation loop\n",
    "main_simulation(cfg)\n",
    "\n",
    "# Fetch the filesystem location of the simulation results file for visualization in nuBoard (next section)\n",
    "parent_dir = Path(SAVE_DIR) / EXPERIMENT\n",
    "results_dir = list(parent_dir.iterdir())[0]  # get the child dir\n",
    "nuboard_file_2 = [str(file) for file in results_dir.iterdir() if file.is_file() and file.suffix == '.nuboard'][0]"
   ]
  },
  {
   "cell_type": "markdown",
   "id": "ae7a31f9",
   "metadata": {},
   "source": [
    "# Visualizing metrics and scenarios <a name=\"dashboard\"></a>"
   ]
  },
  {
   "cell_type": "markdown",
   "id": "fa24ae5b",
   "metadata": {},
   "source": [
    "## nuBoard summary\n",
    "\n",
    "Having trained and simulated planners across various scenarios and driving behaviors, it's time to evaluate them:\n",
    "* quantitatively, through common and scenario dependent metrics\n",
    "* qualitatively, through visualization of scenario progression\n",
    "\n",
    "### nuBoard tabs\n",
    "To achieve that, nuBoard has 3 core evaluation tabs:\n",
    "1. Overview - Scalar metrics summary of common and scenario metrics across the following categories:\n",
    "    * Ego dynamics\n",
    "    * Traffic violations\n",
    "    * Expert imitation\n",
    "    * Planning & navigation\n",
    "    * Scenario performance\n",
    "2. Histograms - Histograms over metric statistics for more a granular peek inside each metric focusing on:\n",
    "    * Metric statistics (e.g. min, max, p90)\n",
    "3. Scenarios - Low-level scenario visualizations:\n",
    "    * Time-series progression of a specific metric across a scenario\n",
    "    * Top-down visualization of the scenario across time for comparing predicted vs. expert trajectories\n",
    "\n",
    "In addition, there is a main configuration tab for selecting different simulation files for comparing planners/experiments.\n",
    "\n",
    "<br />\n",
    "\n",
    "**NOTE**: nuBoard is under heavy developement, overall functionality and aesthetics do not represent the final product!"
   ]
  },
  {
   "cell_type": "markdown",
   "id": "1d8edb17",
   "metadata": {},
   "source": [
    "## Prepare the nuBoard config"
   ]
  },
  {
   "cell_type": "code",
   "execution_count": 10,
   "id": "42434f46",
   "metadata": {},
   "outputs": [
    {
     "name": "stderr",
     "output_type": "stream",
     "text": [
      "/home/fla/anaconda3/envs/nuplan/lib/python3.9/site-packages/hydra/_internal/defaults_list.py:251: UserWarning: In 'default_nuboard': Defaults list is missing `_self_`. See https://hydra.cc/docs/upgrades/1.0_to_1.1/default_composition_order for more information\n",
      "  warnings.warn(msg, UserWarning)\n"
     ]
    }
   ],
   "source": [
    "# Location of path with all nuBoard configs\n",
    "CONFIG_PATH = '../nuplan/planning/script/config/nuboard'\n",
    "CONFIG_NAME = 'default_nuboard'\n",
    "\n",
    "# Initialize configuration management system\n",
    "hydra.core.global_hydra.GlobalHydra.instance().clear()  # reinitialize hydra if already initialized\n",
    "hydra.initialize(config_path=CONFIG_PATH)\n",
    "\n",
    "# Compose the configuration\n",
    "cfg = hydra.compose(config_name=CONFIG_NAME, overrides=[\n",
    "    'scenario_builder=nuplan_mini',  # set the database (same as simulation) used to fetch data for visualization\n",
    "    f'simulation_path={[nuboard_file_1, nuboard_file_2]}',  # nuboard file path(s), if left empty the user can open the file inside nuBoard\n",
    "])"
   ]
  },
  {
   "cell_type": "markdown",
   "id": "3420d0c5",
   "metadata": {},
   "source": [
    "## Launch nuBoard (open in new tab - recommended)"
   ]
  },
  {
   "cell_type": "code",
   "execution_count": 11,
   "id": "f114e9bf",
   "metadata": {
    "scrolled": false
   },
   "outputs": [
    {
     "name": "stdout",
     "output_type": "stream",
     "text": [
      "2022-02-22 16:27:13,019 INFO {/home/fla/nuplan-devkit/nuplan/planning/script/builders/scenario_building_builder.py:17}  Building AbstractScenarioBuilder...\n",
      "2022-02-22 16:27:13,019 INFO {/home/fla/nuplan-devkit/nuplan/planning/script/builders/scenario_building_builder.py:17}  Building AbstractScenarioBuilder...\n",
      "2022-02-22 16:27:13,021 INFO {/home/fla/nuplan-devkit/nuplan/planning/script/builders/scenario_building_builder.py:20}  Building AbstractScenarioBuilder...DONE!\n",
      "2022-02-22 16:27:13,021 INFO {/home/fla/nuplan-devkit/nuplan/planning/script/builders/scenario_building_builder.py:20}  Building AbstractScenarioBuilder...DONE!\n",
      "2022-02-22 16:27:13,022 INFO {/home/fla/nuplan-devkit/nuplan/planning/script/builders/metric_builder.py:15}  Building metric categories...\n",
      "2022-02-22 16:27:13,022 INFO {/home/fla/nuplan-devkit/nuplan/planning/script/builders/metric_builder.py:15}  Building metric categories...\n",
      "2022-02-22 16:27:13,022 INFO {/home/fla/nuplan-devkit/nuplan/planning/script/builders/metric_builder.py:24}  Building metric categories...Done!\n",
      "2022-02-22 16:27:13,022 INFO {/home/fla/nuplan-devkit/nuplan/planning/script/builders/metric_builder.py:24}  Building metric categories...Done!\n",
      "2022-02-22 16:27:13,023 INFO {/home/fla/nuplan-devkit/nuplan/planning/nuboard/nuboard.py:69}  Opening Bokeh application on http://localhost:5006/\n",
      "2022-02-22 16:27:13,023 INFO {/home/fla/nuplan-devkit/nuplan/planning/nuboard/nuboard.py:69}  Opening Bokeh application on http://localhost:5006/\n",
      "2022-02-22 16:27:13,024 INFO {/home/fla/anaconda3/envs/nuplan/lib/python3.9/site-packages/bokeh/server/server.py:403}  Starting Bokeh server version 2.4.2 (running on Tornado 6.1)\n",
      "2022-02-22 16:27:13,024 INFO {/home/fla/anaconda3/envs/nuplan/lib/python3.9/site-packages/bokeh/server/server.py:403}  Starting Bokeh server version 2.4.2 (running on Tornado 6.1)\n",
      "2022-02-22 16:27:13,029 INFO {/home/fla/anaconda3/envs/nuplan/lib/python3.9/site-packages/bokeh/server/tornado.py:360}  User authentication hooks NOT provided (default user enabled)\n",
      "2022-02-22 16:27:13,029 INFO {/home/fla/anaconda3/envs/nuplan/lib/python3.9/site-packages/bokeh/server/tornado.py:360}  User authentication hooks NOT provided (default user enabled)\n"
     ]
    },
    {
     "ename": "RuntimeError",
     "evalue": "This event loop is already running",
     "output_type": "error",
     "traceback": [
      "\u001b[0;31m---------------------------------------------------------------------------\u001b[0m",
      "\u001b[0;31mRuntimeError\u001b[0m                              Traceback (most recent call last)",
      "Input \u001b[0;32mIn [11]\u001b[0m, in \u001b[0;36m<module>\u001b[0;34m\u001b[0m\n\u001b[1;32m      1\u001b[0m \u001b[38;5;28;01mfrom\u001b[39;00m \u001b[38;5;21;01mnuplan\u001b[39;00m\u001b[38;5;21;01m.\u001b[39;00m\u001b[38;5;21;01mplanning\u001b[39;00m\u001b[38;5;21;01m.\u001b[39;00m\u001b[38;5;21;01mscript\u001b[39;00m\u001b[38;5;21;01m.\u001b[39;00m\u001b[38;5;21;01mrun_nuboard\u001b[39;00m \u001b[38;5;28;01mimport\u001b[39;00m main \u001b[38;5;28;01mas\u001b[39;00m main_nuboard\n\u001b[1;32m      3\u001b[0m \u001b[38;5;66;03m# Run nuBoard\u001b[39;00m\n\u001b[0;32m----> 4\u001b[0m \u001b[43mmain_nuboard\u001b[49m\u001b[43m(\u001b[49m\u001b[43mcfg\u001b[49m\u001b[43m)\u001b[49m\n",
      "File \u001b[0;32m~/anaconda3/envs/nuplan/lib/python3.9/site-packages/hydra/main.py:43\u001b[0m, in \u001b[0;36mmain.<locals>.main_decorator.<locals>.decorated_main\u001b[0;34m(cfg_passthrough)\u001b[0m\n\u001b[1;32m     40\u001b[0m \u001b[38;5;129m@functools\u001b[39m\u001b[38;5;241m.\u001b[39mwraps(task_function)\n\u001b[1;32m     41\u001b[0m \u001b[38;5;28;01mdef\u001b[39;00m \u001b[38;5;21mdecorated_main\u001b[39m(cfg_passthrough: Optional[DictConfig] \u001b[38;5;241m=\u001b[39m \u001b[38;5;28;01mNone\u001b[39;00m) \u001b[38;5;241m-\u001b[39m\u001b[38;5;241m>\u001b[39m Any:\n\u001b[1;32m     42\u001b[0m     \u001b[38;5;28;01mif\u001b[39;00m cfg_passthrough \u001b[38;5;129;01mis\u001b[39;00m \u001b[38;5;129;01mnot\u001b[39;00m \u001b[38;5;28;01mNone\u001b[39;00m:\n\u001b[0;32m---> 43\u001b[0m         \u001b[38;5;28;01mreturn\u001b[39;00m \u001b[43mtask_function\u001b[49m\u001b[43m(\u001b[49m\u001b[43mcfg_passthrough\u001b[49m\u001b[43m)\u001b[49m\n\u001b[1;32m     44\u001b[0m     \u001b[38;5;28;01melse\u001b[39;00m:\n\u001b[1;32m     45\u001b[0m         args \u001b[38;5;241m=\u001b[39m get_args_parser()\n",
      "File \u001b[0;32m~/nuplan-devkit/nuplan/planning/script/run_nuboard.py:64\u001b[0m, in \u001b[0;36mmain\u001b[0;34m(cfg)\u001b[0m\n\u001b[1;32m     59\u001b[0m \u001b[38;5;124;03m\"\"\"\u001b[39;00m\n\u001b[1;32m     60\u001b[0m \u001b[38;5;124;03mExecute all available challenges simultaneously on the same scenario.\u001b[39;00m\n\u001b[1;32m     61\u001b[0m \u001b[38;5;124;03m:param cfg: DictConfig. Configuration that is used to run the experiment.\u001b[39;00m\n\u001b[1;32m     62\u001b[0m \u001b[38;5;124;03m\"\"\"\u001b[39;00m\n\u001b[1;32m     63\u001b[0m nuboard \u001b[38;5;241m=\u001b[39m initialize_nuboard(cfg)\n\u001b[0;32m---> 64\u001b[0m \u001b[43mnuboard\u001b[49m\u001b[38;5;241;43m.\u001b[39;49m\u001b[43mrun\u001b[49m\u001b[43m(\u001b[49m\u001b[43m)\u001b[49m\n",
      "File \u001b[0;32m~/nuplan-devkit/nuplan/planning/nuboard/nuboard.py:89\u001b[0m, in \u001b[0;36mNuBoard.run\u001b[0;34m(self)\u001b[0m\n\u001b[1;32m     86\u001b[0m server\u001b[38;5;241m.\u001b[39mstart()\n\u001b[1;32m     88\u001b[0m io_loop\u001b[38;5;241m.\u001b[39madd_callback(server\u001b[38;5;241m.\u001b[39mshow, \u001b[38;5;124m\"\u001b[39m\u001b[38;5;124m/\u001b[39m\u001b[38;5;124m\"\u001b[39m)\n\u001b[0;32m---> 89\u001b[0m \u001b[43mio_loop\u001b[49m\u001b[38;5;241;43m.\u001b[39;49m\u001b[43mstart\u001b[49m\u001b[43m(\u001b[49m\u001b[43m)\u001b[49m\n",
      "File \u001b[0;32m~/anaconda3/envs/nuplan/lib/python3.9/site-packages/tornado/platform/asyncio.py:199\u001b[0m, in \u001b[0;36mBaseAsyncIOLoop.start\u001b[0;34m(self)\u001b[0m\n\u001b[1;32m    197\u001b[0m     \u001b[38;5;28mself\u001b[39m\u001b[38;5;241m.\u001b[39m_setup_logging()\n\u001b[1;32m    198\u001b[0m     asyncio\u001b[38;5;241m.\u001b[39mset_event_loop(\u001b[38;5;28mself\u001b[39m\u001b[38;5;241m.\u001b[39masyncio_loop)\n\u001b[0;32m--> 199\u001b[0m     \u001b[38;5;28;43mself\u001b[39;49m\u001b[38;5;241;43m.\u001b[39;49m\u001b[43masyncio_loop\u001b[49m\u001b[38;5;241;43m.\u001b[39;49m\u001b[43mrun_forever\u001b[49m\u001b[43m(\u001b[49m\u001b[43m)\u001b[49m\n\u001b[1;32m    200\u001b[0m \u001b[38;5;28;01mfinally\u001b[39;00m:\n\u001b[1;32m    201\u001b[0m     asyncio\u001b[38;5;241m.\u001b[39mset_event_loop(old_loop)\n",
      "File \u001b[0;32m~/anaconda3/envs/nuplan/lib/python3.9/asyncio/base_events.py:586\u001b[0m, in \u001b[0;36mBaseEventLoop.run_forever\u001b[0;34m(self)\u001b[0m\n\u001b[1;32m    584\u001b[0m \u001b[38;5;124;03m\"\"\"Run until stop() is called.\"\"\"\u001b[39;00m\n\u001b[1;32m    585\u001b[0m \u001b[38;5;28mself\u001b[39m\u001b[38;5;241m.\u001b[39m_check_closed()\n\u001b[0;32m--> 586\u001b[0m \u001b[38;5;28;43mself\u001b[39;49m\u001b[38;5;241;43m.\u001b[39;49m\u001b[43m_check_running\u001b[49m\u001b[43m(\u001b[49m\u001b[43m)\u001b[49m\n\u001b[1;32m    587\u001b[0m \u001b[38;5;28mself\u001b[39m\u001b[38;5;241m.\u001b[39m_set_coroutine_origin_tracking(\u001b[38;5;28mself\u001b[39m\u001b[38;5;241m.\u001b[39m_debug)\n\u001b[1;32m    588\u001b[0m \u001b[38;5;28mself\u001b[39m\u001b[38;5;241m.\u001b[39m_thread_id \u001b[38;5;241m=\u001b[39m threading\u001b[38;5;241m.\u001b[39mget_ident()\n",
      "File \u001b[0;32m~/anaconda3/envs/nuplan/lib/python3.9/asyncio/base_events.py:578\u001b[0m, in \u001b[0;36mBaseEventLoop._check_running\u001b[0;34m(self)\u001b[0m\n\u001b[1;32m    576\u001b[0m \u001b[38;5;28;01mdef\u001b[39;00m \u001b[38;5;21m_check_running\u001b[39m(\u001b[38;5;28mself\u001b[39m):\n\u001b[1;32m    577\u001b[0m     \u001b[38;5;28;01mif\u001b[39;00m \u001b[38;5;28mself\u001b[39m\u001b[38;5;241m.\u001b[39mis_running():\n\u001b[0;32m--> 578\u001b[0m         \u001b[38;5;28;01mraise\u001b[39;00m \u001b[38;5;167;01mRuntimeError\u001b[39;00m(\u001b[38;5;124m'\u001b[39m\u001b[38;5;124mThis event loop is already running\u001b[39m\u001b[38;5;124m'\u001b[39m)\n\u001b[1;32m    579\u001b[0m     \u001b[38;5;28;01mif\u001b[39;00m events\u001b[38;5;241m.\u001b[39m_get_running_loop() \u001b[38;5;129;01mis\u001b[39;00m \u001b[38;5;129;01mnot\u001b[39;00m \u001b[38;5;28;01mNone\u001b[39;00m:\n\u001b[1;32m    580\u001b[0m         \u001b[38;5;28;01mraise\u001b[39;00m \u001b[38;5;167;01mRuntimeError\u001b[39;00m(\n\u001b[1;32m    581\u001b[0m             \u001b[38;5;124m'\u001b[39m\u001b[38;5;124mCannot run the event loop while another loop is running\u001b[39m\u001b[38;5;124m'\u001b[39m)\n",
      "\u001b[0;31mRuntimeError\u001b[0m: This event loop is already running"
     ]
    }
   ],
   "source": [
    "from nuplan.planning.script.run_nuboard import main as main_nuboard\n",
    "\n",
    "# Run nuBoard\n",
    "main_nuboard(cfg)"
   ]
  },
  {
   "cell_type": "markdown",
   "id": "177cd444",
   "metadata": {},
   "source": [
    "## Launch nuBoard (embedded within the notebook - alternative)"
   ]
  },
  {
   "cell_type": "code",
   "execution_count": 12,
   "id": "cd4b6454",
   "metadata": {},
   "outputs": [
    {
     "ename": "ConfigAttributeError",
     "evalue": "Key 'bokeh' is not in struct\n    full_key: bokeh\n    object_type=dict",
     "output_type": "error",
     "traceback": [
      "\u001b[0;31m---------------------------------------------------------------------------\u001b[0m",
      "\u001b[0;31mConfigAttributeError\u001b[0m                      Traceback (most recent call last)",
      "Input \u001b[0;32mIn [12]\u001b[0m, in \u001b[0;36m<module>\u001b[0;34m\u001b[0m\n\u001b[1;32m      2\u001b[0m \u001b[38;5;28;01mfrom\u001b[39;00m \u001b[38;5;21;01mnuplan\u001b[39;00m\u001b[38;5;21;01m.\u001b[39;00m\u001b[38;5;21;01mplanning\u001b[39;00m\u001b[38;5;21;01m.\u001b[39;00m\u001b[38;5;21;01mscript\u001b[39;00m\u001b[38;5;21;01m.\u001b[39;00m\u001b[38;5;21;01mrun_nuboard\u001b[39;00m \u001b[38;5;28;01mimport\u001b[39;00m initialize_nuboard\n\u001b[1;32m      4\u001b[0m \u001b[38;5;66;03m# Make sure that the notebook working directory is \"/notebooks\" and that Jupyter was launched at the root of the repo\u001b[39;00m\n\u001b[0;32m----> 5\u001b[0m \u001b[43mcfg\u001b[49m\u001b[38;5;241;43m.\u001b[39;49m\u001b[43mbokeh\u001b[49m\u001b[38;5;241m.\u001b[39mresource_prefix \u001b[38;5;241m=\u001b[39m \u001b[38;5;124m'\u001b[39m\u001b[38;5;124m/notebooks/nuplan/planning/metrics/board/\u001b[39m\u001b[38;5;124m'\u001b[39m  \u001b[38;5;66;03m# pass CSS resources to the notebook\u001b[39;00m\n\u001b[1;32m      7\u001b[0m \u001b[38;5;66;03m# Run the nuBoard\u001b[39;00m\n\u001b[1;32m      8\u001b[0m output_notebook()\n",
      "File \u001b[0;32m~/anaconda3/envs/nuplan/lib/python3.9/site-packages/omegaconf/dictconfig.py:357\u001b[0m, in \u001b[0;36mDictConfig.__getattr__\u001b[0;34m(self, key)\u001b[0m\n\u001b[1;32m    353\u001b[0m     \u001b[38;5;28mself\u001b[39m\u001b[38;5;241m.\u001b[39m_format_and_raise(\n\u001b[1;32m    354\u001b[0m         key\u001b[38;5;241m=\u001b[39mkey, value\u001b[38;5;241m=\u001b[39m\u001b[38;5;28;01mNone\u001b[39;00m, cause\u001b[38;5;241m=\u001b[39me, type_override\u001b[38;5;241m=\u001b[39mConfigAttributeError\n\u001b[1;32m    355\u001b[0m     )\n\u001b[1;32m    356\u001b[0m \u001b[38;5;28;01mexcept\u001b[39;00m \u001b[38;5;167;01mException\u001b[39;00m \u001b[38;5;28;01mas\u001b[39;00m e:\n\u001b[0;32m--> 357\u001b[0m     \u001b[38;5;28;43mself\u001b[39;49m\u001b[38;5;241;43m.\u001b[39;49m\u001b[43m_format_and_raise\u001b[49m\u001b[43m(\u001b[49m\u001b[43mkey\u001b[49m\u001b[38;5;241;43m=\u001b[39;49m\u001b[43mkey\u001b[49m\u001b[43m,\u001b[49m\u001b[43m \u001b[49m\u001b[43mvalue\u001b[49m\u001b[38;5;241;43m=\u001b[39;49m\u001b[38;5;28;43;01mNone\u001b[39;49;00m\u001b[43m,\u001b[49m\u001b[43m \u001b[49m\u001b[43mcause\u001b[49m\u001b[38;5;241;43m=\u001b[39;49m\u001b[43me\u001b[49m\u001b[43m)\u001b[49m\n",
      "File \u001b[0;32m~/anaconda3/envs/nuplan/lib/python3.9/site-packages/omegaconf/base.py:190\u001b[0m, in \u001b[0;36mNode._format_and_raise\u001b[0;34m(self, key, value, cause, type_override)\u001b[0m\n\u001b[1;32m    187\u001b[0m \u001b[38;5;28;01mdef\u001b[39;00m \u001b[38;5;21m_format_and_raise\u001b[39m(\n\u001b[1;32m    188\u001b[0m     \u001b[38;5;28mself\u001b[39m, key: Any, value: Any, cause: \u001b[38;5;167;01mException\u001b[39;00m, type_override: Any \u001b[38;5;241m=\u001b[39m \u001b[38;5;28;01mNone\u001b[39;00m\n\u001b[1;32m    189\u001b[0m ) \u001b[38;5;241m-\u001b[39m\u001b[38;5;241m>\u001b[39m \u001b[38;5;28;01mNone\u001b[39;00m:\n\u001b[0;32m--> 190\u001b[0m     \u001b[43mformat_and_raise\u001b[49m\u001b[43m(\u001b[49m\n\u001b[1;32m    191\u001b[0m \u001b[43m        \u001b[49m\u001b[43mnode\u001b[49m\u001b[38;5;241;43m=\u001b[39;49m\u001b[38;5;28;43mself\u001b[39;49m\u001b[43m,\u001b[49m\n\u001b[1;32m    192\u001b[0m \u001b[43m        \u001b[49m\u001b[43mkey\u001b[49m\u001b[38;5;241;43m=\u001b[39;49m\u001b[43mkey\u001b[49m\u001b[43m,\u001b[49m\n\u001b[1;32m    193\u001b[0m \u001b[43m        \u001b[49m\u001b[43mvalue\u001b[49m\u001b[38;5;241;43m=\u001b[39;49m\u001b[43mvalue\u001b[49m\u001b[43m,\u001b[49m\n\u001b[1;32m    194\u001b[0m \u001b[43m        \u001b[49m\u001b[43mmsg\u001b[49m\u001b[38;5;241;43m=\u001b[39;49m\u001b[38;5;28;43mstr\u001b[39;49m\u001b[43m(\u001b[49m\u001b[43mcause\u001b[49m\u001b[43m)\u001b[49m\u001b[43m,\u001b[49m\n\u001b[1;32m    195\u001b[0m \u001b[43m        \u001b[49m\u001b[43mcause\u001b[49m\u001b[38;5;241;43m=\u001b[39;49m\u001b[43mcause\u001b[49m\u001b[43m,\u001b[49m\n\u001b[1;32m    196\u001b[0m \u001b[43m        \u001b[49m\u001b[43mtype_override\u001b[49m\u001b[38;5;241;43m=\u001b[39;49m\u001b[43mtype_override\u001b[49m\u001b[43m,\u001b[49m\n\u001b[1;32m    197\u001b[0m \u001b[43m    \u001b[49m\u001b[43m)\u001b[49m\n\u001b[1;32m    198\u001b[0m     \u001b[38;5;28;01massert\u001b[39;00m \u001b[38;5;28;01mFalse\u001b[39;00m\n",
      "File \u001b[0;32m~/anaconda3/envs/nuplan/lib/python3.9/site-packages/omegaconf/_utils.py:741\u001b[0m, in \u001b[0;36mformat_and_raise\u001b[0;34m(node, key, value, msg, cause, type_override)\u001b[0m\n\u001b[1;32m    739\u001b[0m         ex \u001b[38;5;241m=\u001b[39m type_override(\u001b[38;5;28mstr\u001b[39m(cause))\n\u001b[1;32m    740\u001b[0m         ex\u001b[38;5;241m.\u001b[39m\u001b[38;5;18m__dict__\u001b[39m \u001b[38;5;241m=\u001b[39m copy\u001b[38;5;241m.\u001b[39mdeepcopy(cause\u001b[38;5;241m.\u001b[39m\u001b[38;5;18m__dict__\u001b[39m)\n\u001b[0;32m--> 741\u001b[0m     \u001b[43m_raise\u001b[49m\u001b[43m(\u001b[49m\u001b[43mex\u001b[49m\u001b[43m,\u001b[49m\u001b[43m \u001b[49m\u001b[43mcause\u001b[49m\u001b[43m)\u001b[49m\n\u001b[1;32m    743\u001b[0m object_type: Optional[Type[Any]]\n\u001b[1;32m    744\u001b[0m object_type_str: Optional[\u001b[38;5;28mstr\u001b[39m] \u001b[38;5;241m=\u001b[39m \u001b[38;5;28;01mNone\u001b[39;00m\n",
      "File \u001b[0;32m~/anaconda3/envs/nuplan/lib/python3.9/site-packages/omegaconf/_utils.py:719\u001b[0m, in \u001b[0;36m_raise\u001b[0;34m(ex, cause)\u001b[0m\n\u001b[1;32m    717\u001b[0m \u001b[38;5;28;01melse\u001b[39;00m:\n\u001b[1;32m    718\u001b[0m     ex\u001b[38;5;241m.\u001b[39m__cause__ \u001b[38;5;241m=\u001b[39m \u001b[38;5;28;01mNone\u001b[39;00m\n\u001b[0;32m--> 719\u001b[0m \u001b[38;5;28;01mraise\u001b[39;00m ex\u001b[38;5;241m.\u001b[39mwith_traceback(sys\u001b[38;5;241m.\u001b[39mexc_info()[\u001b[38;5;241m2\u001b[39m])\n",
      "File \u001b[0;32m~/anaconda3/envs/nuplan/lib/python3.9/site-packages/omegaconf/dictconfig.py:351\u001b[0m, in \u001b[0;36mDictConfig.__getattr__\u001b[0;34m(self, key)\u001b[0m\n\u001b[1;32m    348\u001b[0m     \u001b[38;5;28;01mraise\u001b[39;00m \u001b[38;5;167;01mAttributeError\u001b[39;00m()\n\u001b[1;32m    350\u001b[0m \u001b[38;5;28;01mtry\u001b[39;00m:\n\u001b[0;32m--> 351\u001b[0m     \u001b[38;5;28;01mreturn\u001b[39;00m \u001b[38;5;28;43mself\u001b[39;49m\u001b[38;5;241;43m.\u001b[39;49m\u001b[43m_get_impl\u001b[49m\u001b[43m(\u001b[49m\u001b[43mkey\u001b[49m\u001b[38;5;241;43m=\u001b[39;49m\u001b[43mkey\u001b[49m\u001b[43m,\u001b[49m\u001b[43m \u001b[49m\u001b[43mdefault_value\u001b[49m\u001b[38;5;241;43m=\u001b[39;49m\u001b[43m_DEFAULT_MARKER_\u001b[49m\u001b[43m)\u001b[49m\n\u001b[1;32m    352\u001b[0m \u001b[38;5;28;01mexcept\u001b[39;00m ConfigKeyError \u001b[38;5;28;01mas\u001b[39;00m e:\n\u001b[1;32m    353\u001b[0m     \u001b[38;5;28mself\u001b[39m\u001b[38;5;241m.\u001b[39m_format_and_raise(\n\u001b[1;32m    354\u001b[0m         key\u001b[38;5;241m=\u001b[39mkey, value\u001b[38;5;241m=\u001b[39m\u001b[38;5;28;01mNone\u001b[39;00m, cause\u001b[38;5;241m=\u001b[39me, type_override\u001b[38;5;241m=\u001b[39mConfigAttributeError\n\u001b[1;32m    355\u001b[0m     )\n",
      "File \u001b[0;32m~/anaconda3/envs/nuplan/lib/python3.9/site-packages/omegaconf/dictconfig.py:438\u001b[0m, in \u001b[0;36mDictConfig._get_impl\u001b[0;34m(self, key, default_value)\u001b[0m\n\u001b[1;32m    436\u001b[0m \u001b[38;5;28;01mdef\u001b[39;00m \u001b[38;5;21m_get_impl\u001b[39m(\u001b[38;5;28mself\u001b[39m, key: DictKeyType, default_value: Any) \u001b[38;5;241m-\u001b[39m\u001b[38;5;241m>\u001b[39m Any:\n\u001b[1;32m    437\u001b[0m     \u001b[38;5;28;01mtry\u001b[39;00m:\n\u001b[0;32m--> 438\u001b[0m         node \u001b[38;5;241m=\u001b[39m \u001b[38;5;28;43mself\u001b[39;49m\u001b[38;5;241;43m.\u001b[39;49m\u001b[43m_get_node\u001b[49m\u001b[43m(\u001b[49m\u001b[43mkey\u001b[49m\u001b[38;5;241;43m=\u001b[39;49m\u001b[43mkey\u001b[49m\u001b[43m,\u001b[49m\u001b[43m \u001b[49m\u001b[43mthrow_on_missing_key\u001b[49m\u001b[38;5;241;43m=\u001b[39;49m\u001b[38;5;28;43;01mTrue\u001b[39;49;00m\u001b[43m)\u001b[49m\n\u001b[1;32m    439\u001b[0m     \u001b[38;5;28;01mexcept\u001b[39;00m (ConfigAttributeError, ConfigKeyError):\n\u001b[1;32m    440\u001b[0m         \u001b[38;5;28;01mif\u001b[39;00m default_value \u001b[38;5;129;01mis\u001b[39;00m \u001b[38;5;129;01mnot\u001b[39;00m _DEFAULT_MARKER_:\n",
      "File \u001b[0;32m~/anaconda3/envs/nuplan/lib/python3.9/site-packages/omegaconf/dictconfig.py:465\u001b[0m, in \u001b[0;36mDictConfig._get_node\u001b[0;34m(self, key, validate_access, throw_on_missing_value, throw_on_missing_key)\u001b[0m\n\u001b[1;32m    462\u001b[0m         \u001b[38;5;28;01mreturn\u001b[39;00m \u001b[38;5;28;01mNone\u001b[39;00m\n\u001b[1;32m    464\u001b[0m \u001b[38;5;28;01mif\u001b[39;00m validate_access:\n\u001b[0;32m--> 465\u001b[0m     \u001b[38;5;28;43mself\u001b[39;49m\u001b[38;5;241;43m.\u001b[39;49m\u001b[43m_validate_get\u001b[49m\u001b[43m(\u001b[49m\u001b[43mkey\u001b[49m\u001b[43m)\u001b[49m\n\u001b[1;32m    467\u001b[0m value: Optional[Node] \u001b[38;5;241m=\u001b[39m \u001b[38;5;28mself\u001b[39m\u001b[38;5;241m.\u001b[39m\u001b[38;5;18m__dict__\u001b[39m[\u001b[38;5;124m\"\u001b[39m\u001b[38;5;124m_content\u001b[39m\u001b[38;5;124m\"\u001b[39m]\u001b[38;5;241m.\u001b[39mget(key)\n\u001b[1;32m    468\u001b[0m \u001b[38;5;28;01mif\u001b[39;00m value \u001b[38;5;129;01mis\u001b[39;00m \u001b[38;5;28;01mNone\u001b[39;00m:\n",
      "File \u001b[0;32m~/anaconda3/envs/nuplan/lib/python3.9/site-packages/omegaconf/dictconfig.py:166\u001b[0m, in \u001b[0;36mDictConfig._validate_get\u001b[0;34m(self, key, value)\u001b[0m\n\u001b[1;32m    164\u001b[0m \u001b[38;5;28;01melse\u001b[39;00m:\n\u001b[1;32m    165\u001b[0m     msg \u001b[38;5;241m=\u001b[39m \u001b[38;5;124mf\u001b[39m\u001b[38;5;124m\"\u001b[39m\u001b[38;5;124mKey \u001b[39m\u001b[38;5;124m'\u001b[39m\u001b[38;5;132;01m{\u001b[39;00mkey\u001b[38;5;132;01m}\u001b[39;00m\u001b[38;5;124m'\u001b[39m\u001b[38;5;124m is not in struct\u001b[39m\u001b[38;5;124m\"\u001b[39m\n\u001b[0;32m--> 166\u001b[0m \u001b[38;5;28;43mself\u001b[39;49m\u001b[38;5;241;43m.\u001b[39;49m\u001b[43m_format_and_raise\u001b[49m\u001b[43m(\u001b[49m\n\u001b[1;32m    167\u001b[0m \u001b[43m    \u001b[49m\u001b[43mkey\u001b[49m\u001b[38;5;241;43m=\u001b[39;49m\u001b[43mkey\u001b[49m\u001b[43m,\u001b[49m\u001b[43m \u001b[49m\u001b[43mvalue\u001b[49m\u001b[38;5;241;43m=\u001b[39;49m\u001b[43mvalue\u001b[49m\u001b[43m,\u001b[49m\u001b[43m \u001b[49m\u001b[43mcause\u001b[49m\u001b[38;5;241;43m=\u001b[39;49m\u001b[43mConfigAttributeError\u001b[49m\u001b[43m(\u001b[49m\u001b[43mmsg\u001b[49m\u001b[43m)\u001b[49m\n\u001b[1;32m    168\u001b[0m \u001b[43m\u001b[49m\u001b[43m)\u001b[49m\n",
      "File \u001b[0;32m~/anaconda3/envs/nuplan/lib/python3.9/site-packages/omegaconf/base.py:190\u001b[0m, in \u001b[0;36mNode._format_and_raise\u001b[0;34m(self, key, value, cause, type_override)\u001b[0m\n\u001b[1;32m    187\u001b[0m \u001b[38;5;28;01mdef\u001b[39;00m \u001b[38;5;21m_format_and_raise\u001b[39m(\n\u001b[1;32m    188\u001b[0m     \u001b[38;5;28mself\u001b[39m, key: Any, value: Any, cause: \u001b[38;5;167;01mException\u001b[39;00m, type_override: Any \u001b[38;5;241m=\u001b[39m \u001b[38;5;28;01mNone\u001b[39;00m\n\u001b[1;32m    189\u001b[0m ) \u001b[38;5;241m-\u001b[39m\u001b[38;5;241m>\u001b[39m \u001b[38;5;28;01mNone\u001b[39;00m:\n\u001b[0;32m--> 190\u001b[0m     \u001b[43mformat_and_raise\u001b[49m\u001b[43m(\u001b[49m\n\u001b[1;32m    191\u001b[0m \u001b[43m        \u001b[49m\u001b[43mnode\u001b[49m\u001b[38;5;241;43m=\u001b[39;49m\u001b[38;5;28;43mself\u001b[39;49m\u001b[43m,\u001b[49m\n\u001b[1;32m    192\u001b[0m \u001b[43m        \u001b[49m\u001b[43mkey\u001b[49m\u001b[38;5;241;43m=\u001b[39;49m\u001b[43mkey\u001b[49m\u001b[43m,\u001b[49m\n\u001b[1;32m    193\u001b[0m \u001b[43m        \u001b[49m\u001b[43mvalue\u001b[49m\u001b[38;5;241;43m=\u001b[39;49m\u001b[43mvalue\u001b[49m\u001b[43m,\u001b[49m\n\u001b[1;32m    194\u001b[0m \u001b[43m        \u001b[49m\u001b[43mmsg\u001b[49m\u001b[38;5;241;43m=\u001b[39;49m\u001b[38;5;28;43mstr\u001b[39;49m\u001b[43m(\u001b[49m\u001b[43mcause\u001b[49m\u001b[43m)\u001b[49m\u001b[43m,\u001b[49m\n\u001b[1;32m    195\u001b[0m \u001b[43m        \u001b[49m\u001b[43mcause\u001b[49m\u001b[38;5;241;43m=\u001b[39;49m\u001b[43mcause\u001b[49m\u001b[43m,\u001b[49m\n\u001b[1;32m    196\u001b[0m \u001b[43m        \u001b[49m\u001b[43mtype_override\u001b[49m\u001b[38;5;241;43m=\u001b[39;49m\u001b[43mtype_override\u001b[49m\u001b[43m,\u001b[49m\n\u001b[1;32m    197\u001b[0m \u001b[43m    \u001b[49m\u001b[43m)\u001b[49m\n\u001b[1;32m    198\u001b[0m     \u001b[38;5;28;01massert\u001b[39;00m \u001b[38;5;28;01mFalse\u001b[39;00m\n",
      "File \u001b[0;32m~/anaconda3/envs/nuplan/lib/python3.9/site-packages/omegaconf/_utils.py:821\u001b[0m, in \u001b[0;36mformat_and_raise\u001b[0;34m(node, key, value, msg, cause, type_override)\u001b[0m\n\u001b[1;32m    818\u001b[0m     ex\u001b[38;5;241m.\u001b[39mref_type \u001b[38;5;241m=\u001b[39m ref_type\n\u001b[1;32m    819\u001b[0m     ex\u001b[38;5;241m.\u001b[39mref_type_str \u001b[38;5;241m=\u001b[39m ref_type_str\n\u001b[0;32m--> 821\u001b[0m \u001b[43m_raise\u001b[49m\u001b[43m(\u001b[49m\u001b[43mex\u001b[49m\u001b[43m,\u001b[49m\u001b[43m \u001b[49m\u001b[43mcause\u001b[49m\u001b[43m)\u001b[49m\n",
      "File \u001b[0;32m~/anaconda3/envs/nuplan/lib/python3.9/site-packages/omegaconf/_utils.py:719\u001b[0m, in \u001b[0;36m_raise\u001b[0;34m(ex, cause)\u001b[0m\n\u001b[1;32m    717\u001b[0m \u001b[38;5;28;01melse\u001b[39;00m:\n\u001b[1;32m    718\u001b[0m     ex\u001b[38;5;241m.\u001b[39m__cause__ \u001b[38;5;241m=\u001b[39m \u001b[38;5;28;01mNone\u001b[39;00m\n\u001b[0;32m--> 719\u001b[0m \u001b[38;5;28;01mraise\u001b[39;00m ex\u001b[38;5;241m.\u001b[39mwith_traceback(sys\u001b[38;5;241m.\u001b[39mexc_info()[\u001b[38;5;241m2\u001b[39m])\n",
      "\u001b[0;31mConfigAttributeError\u001b[0m: Key 'bokeh' is not in struct\n    full_key: bokeh\n    object_type=dict"
     ]
    },
    {
     "name": "stdout",
     "output_type": "stream",
     "text": [
      "2022-02-22 16:28:08,456 INFO {/home/fla/anaconda3/envs/nuplan/lib/python3.9/site-packages/tornado/web.py:2239}  200 GET / (172.21.6.84) 173.90ms\n",
      "2022-02-22 16:28:08,456 INFO {/home/fla/anaconda3/envs/nuplan/lib/python3.9/site-packages/tornado/web.py:2239}  200 GET / (172.21.6.84) 173.90ms\n"
     ]
    },
    {
     "name": "stderr",
     "output_type": "stream",
     "text": [
      "INFO:tornado.access:200 GET / (172.21.6.84) 173.90ms\n"
     ]
    },
    {
     "name": "stdout",
     "output_type": "stream",
     "text": [
      "2022-02-22 16:28:08,680 ERROR {/home/fla/anaconda3/envs/nuplan/lib/python3.9/site-packages/bokeh/server/views/ws.py:119}  Refusing websocket connection from Origin 'http://172.21.2.20:5006';                       use --allow-websocket-origin=172.21.2.20:5006 or set BOKEH_ALLOW_WS_ORIGIN=172.21.2.20:5006 to permit this; currently we allow origins {'localhost:5006'}\n",
      "2022-02-22 16:28:08,680 ERROR {/home/fla/anaconda3/envs/nuplan/lib/python3.9/site-packages/bokeh/server/views/ws.py:119}  Refusing websocket connection from Origin 'http://172.21.2.20:5006';                       use --allow-websocket-origin=172.21.2.20:5006 or set BOKEH_ALLOW_WS_ORIGIN=172.21.2.20:5006 to permit this; currently we allow origins {'localhost:5006'}\n",
      "2022-02-22 16:28:08,682 WARNING {/home/fla/anaconda3/envs/nuplan/lib/python3.9/site-packages/tornado/web.py:2239}  403 GET /ws (172.21.6.84) 2.53ms\n",
      "2022-02-22 16:28:08,682 WARNING {/home/fla/anaconda3/envs/nuplan/lib/python3.9/site-packages/tornado/web.py:2239}  403 GET /ws (172.21.6.84) 2.53ms\n"
     ]
    },
    {
     "name": "stderr",
     "output_type": "stream",
     "text": [
      "WARNING:tornado.access:403 GET /ws (172.21.6.84) 2.53ms\n"
     ]
    }
   ],
   "source": [
    "from bokeh.io import show, output_notebook\n",
    "from nuplan.planning.script.run_nuboard import initialize_nuboard\n",
    "\n",
    "# Make sure that the notebook working directory is \"/notebooks\" and that Jupyter was launched at the root of the repo\n",
    "cfg.bokeh.resource_prefix = '/notebooks/nuplan/planning/metrics/board/'  # pass CSS resources to the notebook\n",
    "\n",
    "# Run the nuBoard\n",
    "output_notebook()\n",
    "nuboard = initialize_nuboard(cfg)\n",
    "show(nuboard.main_page)"
   ]
  },
  {
   "cell_type": "markdown",
   "id": "4624979a",
   "metadata": {},
   "source": [
    "## Launch nuBoard (command line - alternative)"
   ]
  },
  {
   "cell_type": "markdown",
   "id": "557156ac",
   "metadata": {},
   "source": [
    "nuBoard can be launched alternatively with:\n",
    "```\n",
    "$ python nuplan/planning/script/run_nuboard.py\n",
    "```\n",
    "\n",
    "Simulation files (.nuboard) can be selected under the configuration tab."
   ]
  }
 ],
 "metadata": {
  "interpreter": {
   "hash": "5aea00fa936a67f14323fa2d54163d7dc1f328c617e433b03a680f73ee2dd426"
  },
  "kernelspec": {
   "display_name": "Python 3 (ipykernel)",
   "language": "python",
   "name": "python3"
  },
  "language_info": {
   "codemirror_mode": {
    "name": "ipython",
    "version": 3
   },
   "file_extension": ".py",
   "mimetype": "text/x-python",
   "name": "python",
   "nbconvert_exporter": "python",
   "pygments_lexer": "ipython3",
   "version": "3.9.7"
  }
 },
 "nbformat": 4,
 "nbformat_minor": 5
}
