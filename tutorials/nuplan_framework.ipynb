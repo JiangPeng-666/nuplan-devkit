{
 "cells": [
  {
   "cell_type": "markdown",
   "id": "fcb4d62d",
   "metadata": {},
   "source": [
    "![](https://www.nuplan.org/static/media/nuPlan_final.3fde7586.png)"
   ]
  },
  {
   "cell_type": "markdown",
   "id": "8d454a26",
   "metadata": {},
   "source": [
    "### Contents\n",
    "\n",
    "1. [Introduction to nuPlan](#introduction)\n",
    "2. [Training an ML planner](#training)\n",
    "3. [Simulating a planner](#simulation)\n",
    "4. [Visualizing metrics and scenarios](#dashboard)"
   ]
  },
  {
   "cell_type": "markdown",
   "id": "a3422a43",
   "metadata": {},
   "source": [
    "# Introduction to nuPlan <a name=\"introduction\"></a>\n"
   ]
  },
  {
   "cell_type": "markdown",
   "id": "2b27eb25",
   "metadata": {},
   "source": [
    "Welcome to nuPlan! This notebook will explore the nuPlan simulation framework, training platform as well as the nuBoard metrics/scenarios visualization dashboard."
   ]
  },
  {
   "cell_type": "markdown",
   "id": "afead152",
   "metadata": {},
   "source": [
    "## What is nuPlan\n",
    "\n",
    "nuPlan is the world’s first closed-loop ML-based planning benchmark for autonomous driving.\n",
    "\n",
    "It provides a high quality dataset with 1500h of human driving data from 4 cities across the US and Asia with widely varying traffic patterns (Boston, Pittsburgh, Las Vegas and Singapore). In addition, it provides a closed-loop simulation framework with reactive agents, a training platform as well as a large set of both general and scenario-specific planning metrics.\n",
    "\n",
    "![](https://www.nuscenes.org/static/media/framework_steps.2d4642df.png)"
   ]
  },
  {
   "cell_type": "markdown",
   "id": "d4ece3a3",
   "metadata": {},
   "source": [
    "## Training & simulation framework\n",
    "\n",
    "The nuPlan training and simulation framework aims to:\n",
    "* create a simulation pipeline to evaluate a planner on large dataset with various scenarios\n",
    "* score planner performance with common and scenario-dependent metrics\n",
    "* compare planners based on measured metrics and provide intuitive visualizations\n",
    "* train planners with the provided framework to allow quick implementation and iteration\n",
    "* support closed-loop simulation and training\n",
    "\n",
    "<br />\n",
    "\n",
    "![](https://www.nuplan.org/static/media/planning_framework.ca3c2969.png)"
   ]
  },
  {
   "cell_type": "markdown",
   "id": "a1d23188",
   "metadata": {},
   "source": [
    "## Scenarios in nuPlan\n",
    "\n",
    "nuPlan aims to capture challenging yet representative scenarios from real-world encounters. This enables the benchmarking of planning systems both in expert imitation (open-loop) and reactive planning (closed-loop) settings.\n",
    "\n",
    "These scenarios includes:\n",
    "* highly interactive scenes with traffic participants (e.g. tailgating, high-velocity overtakes, double parked cars, jaywalking)\n",
    "* various ego behaviors (e.g. vehicle following, yielding, lane merging) and dynamics (e.g. mixed speed profiles, abrupt braking, speed bumps, high jerk maneuvers)\n",
    "* scene layouts of varied complexity (e.g. pudos, traffic/stop controlled intersections, unprotected turns) and temporary zones (e.g. construction areas)\n",
    "\n",
    "The dataset is automatically tagged with scenario labels based on certain primitive attributes.\n",
    "These scenario tags can then be used to extract representative metrics for the planner's evaluation.\n",
    "\n",
    "Example mined scenarios in nuPlan:\n",
    "\n",
    "| | | |\n",
    "| :-: | :-: | :-: |\n",
    "| Unprotected cross turn | Dense vehicle interactions | Jaywalker in front |\n",
    "| ![](https://www.nuscenes.org/static/media/unprotected-cross.51feef7e.webp) | ![](https://www.nuscenes.org/static/media/dense-interactions.16de47ec.webp) | ![](https://www.nuscenes.org/static/media/jaywalker.03083823.webp) |\n",
    "| Lane change | Ego at pickup/dropoff area | Ego following vehicle |\n",
    "| ![](https://www.nuscenes.org/static/media/lane-change.54bfca1c.webp) | ![](https://www.nuscenes.org/static/media/pickup-dropoff.4dd1c418.webp) | ![](https://www.nuscenes.org/static/media/following-vehicle.4cacd559.webp) |"
   ]
  },
  {
   "cell_type": "markdown",
   "id": "652ebd82",
   "metadata": {},
   "source": [
    "## Database\n",
    "\n",
    "Download a database for training/simulation from [here](https://nuplan.org/nuplan#download).\n",
    "\n",
    "| Database | Size | Duration | Num Logs | Cities | Num Scenarios | Sensor Data | Description |\n",
    "| :-- | :-- | :-- | :-- | :-- | :-- | :-- | :-- |\n",
    "| nuplan_v0.1_mini (recommended) | ~5GB | 2.5h | 8 | Las Vegas | 14 | N/A | nuPlan teaser database (mini version) |\n",
    "| nuplan_v0.1 | ~500GB | ~230h | 380 | Las Vegas | 14 | N/A | nuPlan teaser database |\n",
    "\n",
    "The full 1500h dataset with driving data from 4 cities (Boston, Pittsburgh, Las Vegas and Singapore) as well as sensor data will be released in Q1 2022."
   ]
  },
  {
   "cell_type": "markdown",
   "id": "2064bbc1",
   "metadata": {},
   "source": [
    "## Setup\n",
    "\n",
    "To be able to access all resources within this notebook, make sure Jupyter is launched at the root of this repo. The path of the notebook should be `/notebook/<repo_root>`."
   ]
  },
  {
   "cell_type": "code",
   "execution_count": 1,
   "id": "1dcf36e4",
   "metadata": {},
   "outputs": [
    {
     "name": "stderr",
     "output_type": "stream",
     "text": [
      "/tmp/ipykernel_7532/4180358289.py:2: DeprecationWarning: Importing display from IPython.core.display is deprecated since IPython 7.14, please import from IPython display\n",
      "  from IPython.core.display import display, HTML\n"
     ]
    },
    {
     "data": {
      "text/html": [
       "<style>.output_result { max-width:100% !important; }</style>"
      ],
      "text/plain": [
       "<IPython.core.display.HTML object>"
      ]
     },
     "metadata": {},
     "output_type": "display_data"
    },
    {
     "data": {
      "text/html": [
       "<style>.container { width:100% !important; }</style>"
      ],
      "text/plain": [
       "<IPython.core.display.HTML object>"
      ]
     },
     "metadata": {},
     "output_type": "display_data"
    }
   ],
   "source": [
    "# (Optional) Increase notebook width for all embedded cells to display properly\n",
    "from IPython.core.display import display, HTML\n",
    "display(HTML(\"<style>.output_result { max-width:100% !important; }</style>\"))\n",
    "display(HTML(\"<style>.container { width:100% !important; }</style>\"))"
   ]
  },
  {
   "cell_type": "code",
   "execution_count": 2,
   "id": "12e18a2e",
   "metadata": {},
   "outputs": [],
   "source": [
    "# Useful imports\n",
    "import os\n",
    "from pathlib import Path\n",
    "import tempfile\n",
    "\n",
    "import hydra"
   ]
  },
  {
   "cell_type": "markdown",
   "id": "288d8db0",
   "metadata": {},
   "source": [
    "# Training an ML planner <a name=\"training\"></a>"
   ]
  },
  {
   "cell_type": "markdown",
   "id": "15d80acc",
   "metadata": {},
   "source": [
    "## Imitation learning\n",
    "In the following section we will train an ML planning policy with the aim estimate the ego's future trajectory and control the vehicle.\n",
    "\n",
    "The policy is learned through imitation learning, a supervised learning approach in which - in the context of autonomous driving - the behavior of an expert human driver is used as a target signal to supervise the model.\n",
    "\n",
    "## Model features & targets\n",
    "A planning policy consumes a set of episodic observations and encodes them through a deep neural network to regress a future trajectory.\n",
    "\n",
    "The observations can be historic or present ego and agent poses as well as static/dynamic map information across different map layers.<br />\n",
    "These signals can be encoded through various representations, such as raster or vector format for the map signal, each with their pros and cons for each model flavor.\n",
    "\n",
    "Using these input features the model predicts a discretized future trajectory across a fixed time horizon.<br />\n",
    "The trajectory consists of a set of discrete future states (position, heading and velocity) sampled at fixed intervals which express the likelihood of the vehicle being at that state in the future.<br />\n",
    "For example, a predicted trajectory may consist of 10 future poses sampled at intervals of 0.5s across a 5s horizon.\n",
    "\n",
    "## Learning objectives\n",
    "The policy is trained to maximize a set of aggregated objectives such as imitation, collision avoidance, traffic rule violation etc.<br />\n",
    "Imitation is the core training objective which indicates how close the predicted trajectory is to the expert ground truth and penalizes model predictions that deviate in space and time from the demonstration."
   ]
  },
  {
   "cell_type": "markdown",
   "id": "d0800a03",
   "metadata": {},
   "source": [
    "## Training parameters"
   ]
  },
  {
   "cell_type": "markdown",
   "id": "602e5324",
   "metadata": {},
   "source": [
    "The following parameter categories define the training protocol which includes the model, metrics, objectives etc.\n",
    "\n",
    "A working example composition of these parameters can be found in the next section.\n",
    "\n",
    "---\n",
    "\n",
    "### ML models\n",
    "\n",
    "Change the training model with `model=X` where `X` is a config yaml defined in the table below. \n",
    "\n",
    "| Model | Description | Config |\n",
    "| --- | --- | --- |\n",
    "| Raster model (CNN) | Raster-based model that uses a CNN backbone to encode ego, agent and map information as raster layers<br />Any (pretrained) backbone from the TIMM library can be used (e.g. ResNet50, EfficientNetB3) | `raster_model` |\n",
    "| Vector model (LaneGCN) | Vector-based model that uses a series of MLPs to encode ego and agent signals, a lane graph to encode vector-map elements and a fusion network to capture lane & agent intra/inter-interactions through attention layers<br />Implementation of LaneGCN paper (\"Learning Lane Graph Representations for Motion Forecasting\") | `vector_model` |\n",
    "| Simple vector model | Toy vector-based model that consumes ego, agent and lane signals through a series of MLPs | `simple_vector_model` |\n",
    "\n",
    "<br />\n",
    "\n",
    "### Training objectives\n",
    "\n",
    "Change the training objectives with `objective=[X, ...]` where `X` is a config yaml defined in the table below. \n",
    "\n",
    "| Objective | Description | Config |\n",
    "| --- | --- | --- |\n",
    "| Imitation objective | Penalizes the predicted trajectory that deviates from the expert demonstration | `imitation_objective` |\n",
    "\n",
    "<br />\n",
    "\n",
    "### Training metrics\n",
    "\n",
    "Change the training objectives with `training_metric=[X, ...]` where `X` is a config yaml defined in the table below. \n",
    "\n",
    "| Metric | Description | Config |\n",
    "| --- | --- | --- |\n",
    "| Average displacement error | RMSE translation error across full predicted trajectory | `avg_displacement_error` |\n",
    "| Average heading error | RMSE heading error across full predicted trajectory | `avg_heading_error` |\n",
    "| Final displacement error | L2 error of predicted trajectory's final pose translation | `final_displacement_error` |\n",
    "| Final heading error | L2 error of predicted trajectory's final pose heading | `final_heading_error` |"
   ]
  },
  {
   "cell_type": "markdown",
   "id": "3ee66b84",
   "metadata": {},
   "source": [
    "## Prepare the training config"
   ]
  },
  {
   "cell_type": "code",
   "execution_count": 3,
   "id": "05860753",
   "metadata": {},
   "outputs": [
    {
     "name": "stderr",
     "output_type": "stream",
     "text": [
      "/home/fla/anaconda3/envs/nuplan/lib/python3.9/site-packages/hydra/_internal/defaults_list.py:251: UserWarning: In 'default_training': Defaults list is missing `_self_`. See https://hydra.cc/docs/upgrades/1.0_to_1.1/default_composition_order for more information\n",
      "  warnings.warn(msg, UserWarning)\n"
     ]
    }
   ],
   "source": [
    "# Location of path with all training configs\n",
    "CONFIG_PATH = '../nuplan/planning/script/config/training'\n",
    "CONFIG_NAME = 'default_training'\n",
    "\n",
    "# Create a temporary directory to store the cache and experiment artifacts\n",
    "SAVE_DIR = Path('/home/fla/temp') / 'tutorial_nuplan_framework'  # optionally replace with persistent dir\n",
    "EXPERIMENT = 'training_raster_experiment'\n",
    "LOG_DIR = str(SAVE_DIR / EXPERIMENT)\n",
    "\n",
    "# Initialize configuration management system\n",
    "hydra.core.global_hydra.GlobalHydra.instance().clear()\n",
    "hydra.initialize(config_path=CONFIG_PATH)\n",
    "\n",
    "# Compose the configuration\n",
    "cfg = hydra.compose(config_name=CONFIG_NAME, overrides=[\n",
    "    f'group={str(SAVE_DIR)}',\n",
    "    f'cache_dir={str(SAVE_DIR)}/cache',\n",
    "    f'experiment_name={EXPERIMENT}',\n",
    "    'py_func=train',\n",
    "    '+training=training_raster_model',  # raster model that consumes ego, agents and map raster layers and regresses the ego's trajectory\n",
    "    'scenario_builder=nuplan_mini',  # use nuplan mini database\n",
    "    'scenario_builder.nuplan.scenario_filter.limit_scenarios_per_type=500',  # Choose 500 scenarios to train with\n",
    "    'scenario_builder.nuplan.scenario_filter.subsample_ratio=0.01',  # subsample scenarios from 20Hz to 0.2Hz\n",
    "    'lightning.trainer.params.accelerator=ddp_spawn',  # ddp is not allowed in interactive environment, using ddp_spawn instead - this can bottleneck the data pipeline, it is recommended to run training outside the notebook\n",
    "    'lightning.trainer.params.max_epochs=10',\n",
    "    'data_loader.params.batch_size=8',\n",
    "    'data_loader.params.num_workers=8'\n",
    "])\n"
   ]
  },
  {
   "cell_type": "markdown",
   "id": "162273a1",
   "metadata": {},
   "source": [
    "## Launch tensorboard for visualizing training artifacts"
   ]
  },
  {
   "cell_type": "code",
   "execution_count": 10,
   "id": "5acfc262",
   "metadata": {},
   "outputs": [
    {
     "name": "stdout",
     "output_type": "stream",
     "text": [
      "The tensorboard extension is already loaded. To reload it, use:\n",
      "  %reload_ext tensorboard\n"
     ]
    },
    {
     "data": {
      "text/plain": [
       "Reusing TensorBoard on port 6007 (pid 11158), started 0:00:16 ago. (Use '!kill 11158' to kill it.)"
      ]
     },
     "metadata": {},
     "output_type": "display_data"
    },
    {
     "data": {
      "text/html": [
       "\n",
       "      <iframe id=\"tensorboard-frame-d4713d60c8a70639\" width=\"100%\" height=\"800\" frameborder=\"0\">\n",
       "      </iframe>\n",
       "      <script>\n",
       "        (function() {\n",
       "          const frame = document.getElementById(\"tensorboard-frame-d4713d60c8a70639\");\n",
       "          const url = new URL(\"http://localhost\");\n",
       "          const port = 6007;\n",
       "          if (port) {\n",
       "            url.port = port;\n",
       "          }\n",
       "          frame.src = url;\n",
       "        })();\n",
       "      </script>\n",
       "    "
      ],
      "text/plain": [
       "<IPython.core.display.HTML object>"
      ]
     },
     "metadata": {},
     "output_type": "display_data"
    }
   ],
   "source": [
    "%load_ext tensorboard\n",
    "%tensorboard --logdir {LOG_DIR}"
   ]
  },
  {
   "cell_type": "markdown",
   "id": "ff5edf94",
   "metadata": {},
   "source": [
    "## Launch training (within the notebook)"
   ]
  },
  {
   "cell_type": "code",
   "execution_count": 5,
   "id": "62fb9600",
   "metadata": {},
   "outputs": [
    {
     "name": "stderr",
     "output_type": "stream",
     "text": [
      "INFO:nuplan.planning.script.default_path:Setting default NUPLAN_DATA_ROOT: /home/fla/nuplan/dataset\n",
      "INFO:nuplan.planning.script.default_path:Setting default NUPLAN_EXP_ROOT: /home/fla/nuplan/exp\n",
      "Global seed set to 0\n",
      "INFO:nuplan.planning.script.builders.worker_pool_builder:Building WorkerPool...\n",
      "INFO:nuplan.planning.utils.multithreading.worker_ray:Starting ray local!\n",
      "E0224 10:48:23.978921714    7532 fork_posix.cc:70]           Fork support is only compatible with the epoll1 and poll polling strategies\n",
      "E0224 10:48:24.167851791    7532 fork_posix.cc:70]           Fork support is only compatible with the epoll1 and poll polling strategies\n",
      "2022-02-24 10:48:24,788\tINFO services.py:1374 -- View the Ray dashboard at \u001b[1m\u001b[32mhttp://172.21.2.20:8265\u001b[39m\u001b[22m\n",
      "E0224 10:48:24.791417789    7532 fork_posix.cc:70]           Fork support is only compatible with the epoll1 and poll polling strategies\n",
      "E0224 10:48:24.806185753    7532 fork_posix.cc:70]           Fork support is only compatible with the epoll1 and poll polling strategies\n",
      "INFO:nuplan.planning.utils.multithreading.worker_pool:Worker: RayDistributed\n",
      "INFO:nuplan.planning.utils.multithreading.worker_pool:Number of nodes: 1\n",
      "Number of CPUs per node: 12\n",
      "Number of GPUs per node: 1\n",
      "Number of threads across all nodes: 12\n",
      "INFO:nuplan.planning.script.builders.worker_pool_builder:Building WorkerPool...DONE!\n"
     ]
    },
    {
     "name": "stdout",
     "output_type": "stream",
     "text": [
      "2022-02-24 10:48:26,140 INFO {/home/fla/nuplan-devkit/nuplan/planning/script/builders/folder_builder.py:16}  Building experiment folders...\n",
      "2022-02-24 10:48:26,142 INFO {/home/fla/nuplan-devkit/nuplan/planning/script/builders/folder_builder.py:18}  Experimental folder: /home/fla/temp/tutorial_nuplan_framework/training_raster_experiment/2022.02.24.10.48.26\n",
      "2022-02-24 10:48:26,142 INFO {/home/fla/nuplan-devkit/nuplan/planning/script/builders/scenario_building_builder.py:17}  Building AbstractScenarioBuilder...\n",
      "2022-02-24 10:48:26,407 INFO {/home/fla/nuplan-devkit/nuplan/planning/script/builders/scenario_building_builder.py:20}  Building AbstractScenarioBuilder...DONE!\n",
      "2022-02-24 10:48:26,408 INFO {/home/fla/nuplan-devkit/nuplan/planning/training/experiments/training.py:43}  Building training engine...\n",
      "2022-02-24 10:48:26,408 INFO {/home/fla/nuplan-devkit/nuplan/planning/script/builders/model_builder.py:18}  Building NNModule...\n",
      "2022-02-24 10:48:26,731 INFO {/home/fla/anaconda3/envs/nuplan/lib/python3.9/site-packages/timm/models/helpers.py:188}  Loading pretrained weights from url (https://github.com/rwightman/pytorch-image-models/releases/download/v0.1-rsb-weights/resnet50_a1_0-14fe96d1.pth)\n",
      "2022-02-24 10:48:26,925 INFO {/home/fla/anaconda3/envs/nuplan/lib/python3.9/site-packages/timm/models/helpers.py:208}  Converted input conv conv1 pretrained weights from 3 to 4 channel(s)\n",
      "2022-02-24 10:48:26,949 INFO {/home/fla/nuplan-devkit/nuplan/planning/script/builders/model_builder.py:21}  Building NNModule...DONE!\n",
      "2022-02-24 10:48:26,950 INFO {/home/fla/nuplan-devkit/nuplan/planning/script/builders/splitter_builder.py:19}  Building Splitter...\n",
      "2022-02-24 10:48:26,967 INFO {/home/fla/nuplan-devkit/nuplan/planning/script/builders/splitter_builder.py:22}  Building Splitter...DONE!\n",
      "2022-02-24 10:48:26,968 INFO {/home/fla/nuplan-devkit/nuplan/planning/script/builders/scenario_filter_builder.py:19}  Building ScenarioFilter...\n",
      "2022-02-24 10:48:26,968 INFO {/home/fla/nuplan-devkit/nuplan/planning/script/builders/scenario_filter_builder.py:22}  Building ScenarioFilter...DONE!\n",
      "2022-02-24 10:48:26,969 INFO {/home/fla/nuplan-devkit/nuplan/planning/script/builders/training_builder.py:56}  Extracting all scenarios...\n",
      "2022-02-24 10:48:26,969 INFO {/home/fla/nuplan-devkit/nuplan/planning/scenario_builder/nuplan_db/nuplan_scenario_builder.py:121}  Initial scenario filtering...\n",
      "2022-02-24 10:48:30,059 INFO {/home/fla/nuplan-devkit/nuplan/planning/scenario_builder/nuplan_db/nuplan_scenario_builder.py:142}  Initial scenario filtering...DONE\n",
      "2022-02-24 10:48:30,060 INFO {/home/fla/nuplan-devkit/nuplan/planning/scenario_builder/nuplan_db/nuplan_scenario_builder.py:155}  Shuffling scenarios for each scenario type...\n",
      "2022-02-24 10:48:30,125 INFO {/home/fla/nuplan-devkit/nuplan/planning/scenario_builder/nuplan_db/nuplan_scenario_builder.py:158}  Shuffling scenarios for each scenario type...DONE\n",
      "2022-02-24 10:48:30,125 INFO {/home/fla/nuplan-devkit/nuplan/planning/scenario_builder/nuplan_db/nuplan_scenario_builder.py:162}  Limit scenario number by scenario type...\n",
      "2022-02-24 10:48:30,127 INFO {/home/fla/nuplan-devkit/nuplan/planning/scenario_builder/nuplan_db/nuplan_scenario_builder.py:174}  Limit scenario number by scenario type...DONE\n",
      "2022-02-24 10:48:30,127 INFO {/home/fla/nuplan-devkit/nuplan/planning/scenario_builder/nuplan_db/nuplan_scenario_builder.py:184}  Converting scenarios to AbstractScenario...\n",
      "2022-02-24 10:48:30,128 INFO {/home/fla/nuplan-devkit/nuplan/planning/utils/multithreading/worker_pool.py:107}  Submitting 12 tasks!\n"
     ]
    },
    {
     "name": "stderr",
     "output_type": "stream",
     "text": [
      "Ray objects: 100%|██████████| 12/12 [00:02<00:00,  5.77it/s]\n"
     ]
    },
    {
     "name": "stdout",
     "output_type": "stream",
     "text": [
      "2022-02-24 10:48:32,218 INFO {/home/fla/nuplan-devkit/nuplan/planning/scenario_builder/nuplan_db/nuplan_scenario_builder.py:195}  Converting scenarios to AbstractScenario...DONE\n",
      "2022-02-24 10:48:32,218 INFO {/home/fla/nuplan-devkit/nuplan/planning/scenario_builder/nuplan_db/nuplan_scenario_builder.py:199}  Flattening multi-sample scenarios to single-sample scenarios...\n",
      "2022-02-24 10:48:32,219 INFO {/home/fla/nuplan-devkit/nuplan/planning/utils/multithreading/worker_pool.py:107}  Submitting 12 tasks!\n"
     ]
    },
    {
     "name": "stderr",
     "output_type": "stream",
     "text": [
      "Ray objects: 100%|██████████| 12/12 [00:00<00:00, 1660.29it/s]\n"
     ]
    },
    {
     "name": "stdout",
     "output_type": "stream",
     "text": [
      "2022-02-24 10:48:32,235 INFO {/home/fla/nuplan-devkit/nuplan/planning/scenario_builder/nuplan_db/nuplan_scenario_builder.py:201}  Flattening multi-sample scenarios to single-sample scenarios...DONE\n",
      "2022-02-24 10:48:32,235 INFO {/home/fla/nuplan-devkit/nuplan/planning/scenario_builder/nuplan_db/nuplan_scenario_builder.py:226}  Total number of extracted scenarios: 500!\n"
     ]
    },
    {
     "name": "stderr",
     "output_type": "stream",
     "text": [
      "GPU available: True, used: True\n",
      "TPU available: False, using: 0 TPU cores\n",
      "Using native 16bit precision.\n",
      "Global seed set to 0\n",
      "initializing ddp: GLOBAL_RANK: 0, MEMBER: 1/1\n",
      "----------------------------------------------------------------------------------------------------\n",
      "distributed_backend=nccl\n",
      "All DDP processes registered. Starting ddp with 1 processes\n",
      "----------------------------------------------------------------------------------------------------\n",
      "\n"
     ]
    },
    {
     "name": "stdout",
     "output_type": "stream",
     "text": [
      "2022-02-24 10:48:32,472 INFO {/home/fla/nuplan-devkit/nuplan/planning/script/builders/training_builder.py:58}  Extracting all scenarios...DONE\n",
      "2022-02-24 10:48:32,480 INFO {/home/fla/nuplan-devkit/nuplan/planning/script/run_training.py:59}  Starting training...\n",
      "2022-02-24 10:48:32,484 INFO {/home/fla/anaconda3/envs/nuplan/lib/python3.9/site-packages/torch/distributed/distributed_c10d.py:194}  Added key: store_based_barrier_key:1 to store for rank: 0\n",
      "2022-02-24 10:48:32,484 INFO {/home/fla/anaconda3/envs/nuplan/lib/python3.9/site-packages/torch/distributed/distributed_c10d.py:224}  Rank 0: Completed store-based barrier for 1 nodes.\n"
     ]
    },
    {
     "name": "stderr",
     "output_type": "stream",
     "text": [
      "LOCAL_RANK: 0 - CUDA_VISIBLE_DEVICES: [0]\n",
      "\n",
      "  | Name  | Type        | Params\n",
      "--------------------------------------\n",
      "0 | model | RasterModel | 23.6 M\n",
      "--------------------------------------\n",
      "23.6 M    Trainable params\n",
      "0         Non-trainable params\n",
      "23.6 M    Total params\n",
      "94.340    Total estimated model params size (MB)\n"
     ]
    },
    {
     "name": "stdout",
     "output_type": "stream",
     "text": [
      "2022-02-24 10:48:37,332 INFO {/home/fla/nuplan-devkit/nuplan/planning/training/data_loader/datamodule.py:37}  Number of samples in train set: 368\n",
      "2022-02-24 10:48:37,332 INFO {/home/fla/nuplan-devkit/nuplan/planning/training/data_loader/datamodule.py:37}  Number of samples in validation set: 54\n"
     ]
    },
    {
     "name": "stderr",
     "output_type": "stream",
     "text": [
      "/home/fla/anaconda3/envs/nuplan/lib/python3.9/site-packages/pytorch_lightning/trainer/data_loading.py:73: UserWarning: num_workers>0, persistent_workers=False, and accelerator=ddp_spawn may result in data loading bottlenecks. Consider setting persistent_workers=True (this is a limitation of Python .spawn() and PyTorch)\n",
      "  rank_zero_warn(\n",
      "/home/fla/anaconda3/envs/nuplan/lib/python3.9/site-packages/pytorch_lightning/callbacks/lr_monitor.py:97: RuntimeWarning: You are using `LearningRateMonitor` callback with models that have no learning rate schedulers. Please see documentation for `configure_optimizers` method.\n",
      "  rank_zero_warn(\n"
     ]
    },
    {
     "data": {
      "application/vnd.jupyter.widget-view+json": {
       "model_id": "66e9d54fd06d4fa6901de67c858fd89c",
       "version_major": 2,
       "version_minor": 0
      },
      "text/plain": [
       "Training: 0it [00:00, ?it/s]"
      ]
     },
     "metadata": {},
     "output_type": "display_data"
    },
    {
     "name": "stderr",
     "output_type": "stream",
     "text": [
      "E0224 10:48:37.410175448    7532 fork_posix.cc:70]           Fork support is only compatible with the epoll1 and poll polling strategies\n",
      "E0224 10:48:37.452635595    7532 fork_posix.cc:70]           Fork support is only compatible with the epoll1 and poll polling strategies\n",
      "E0224 10:48:37.500332034    7532 fork_posix.cc:70]           Fork support is only compatible with the epoll1 and poll polling strategies\n",
      "E0224 10:48:37.548113732    7532 fork_posix.cc:70]           Fork support is only compatible with the epoll1 and poll polling strategies\n",
      "E0224 10:48:37.598049657    7532 fork_posix.cc:70]           Fork support is only compatible with the epoll1 and poll polling strategies\n",
      "E0224 10:48:37.650831341    7532 fork_posix.cc:70]           Fork support is only compatible with the epoll1 and poll polling strategies\n",
      "E0224 10:48:37.702622068    7532 fork_posix.cc:70]           Fork support is only compatible with the epoll1 and poll polling strategies\n",
      "E0224 10:48:37.755278344    7532 fork_posix.cc:70]           Fork support is only compatible with the epoll1 and poll polling strategies\n",
      "/home/fla/anaconda3/envs/nuplan/lib/python3.9/site-packages/torch/nn/functional.py:718: UserWarning: Named tensors and all their associated APIs are an experimental feature and subject to change. Please do not use them for anything important until they are released as stable. (Triggered internally at  /pytorch/c10/core/TensorImpl.h:1156.)\n",
      "  return torch.max_pool2d(input, kernel_size, stride, padding, dilation, ceil_mode)\n"
     ]
    },
    {
     "name": "stdout",
     "output_type": "stream",
     "text": [
      "2022-02-24 10:48:38,330 INFO {/home/fla/anaconda3/envs/nuplan/lib/python3.9/site-packages/torch/nn/parallel/distributed.py:788}  Reducer buckets have been rebuilt in this iteration.\n"
     ]
    },
    {
     "name": "stderr",
     "output_type": "stream",
     "text": [
      "/home/fla/anaconda3/envs/nuplan/lib/python3.9/site-packages/pytorch_lightning/trainer/callback_hook.py:100: LightningDeprecationWarning: The signature of `Callback.on_train_epoch_end` has changed in v1.3. `outputs` parameter has been removed. Support for the old signature will be removed in v1.5\n",
      "  warning_cache.deprecation(\n"
     ]
    },
    {
     "data": {
      "application/vnd.jupyter.widget-view+json": {
       "model_id": "e61b89d8e9804102876d18cb7d38531b",
       "version_major": 2,
       "version_minor": 0
      },
      "text/plain": [
       "Validating: 0it [00:00, ?it/s]"
      ]
     },
     "metadata": {},
     "output_type": "display_data"
    },
    {
     "name": "stderr",
     "output_type": "stream",
     "text": [
      "E0224 10:48:42.287560889    7532 fork_posix.cc:70]           Fork support is only compatible with the epoll1 and poll polling strategies\n",
      "[W pthreadpool-cpp.cc:90] Warning: Leaking Caffe2 thread-pool after fork. (function pthreadpool)\n",
      "E0224 10:48:42.330876306    7532 fork_posix.cc:70]           Fork support is only compatible with the epoll1 and poll polling strategies\n",
      "[W pthreadpool-cpp.cc:90] Warning: Leaking Caffe2 thread-pool after fork. (function pthreadpool)\n",
      "E0224 10:48:42.374530964    7532 fork_posix.cc:70]           Fork support is only compatible with the epoll1 and poll polling strategies\n",
      "[W pthreadpool-cpp.cc:90] Warning: Leaking Caffe2 thread-pool after fork. (function pthreadpool)\n",
      "E0224 10:48:42.417657500    7532 fork_posix.cc:70]           Fork support is only compatible with the epoll1 and poll polling strategies\n",
      "[W pthreadpool-cpp.cc:90] Warning: Leaking Caffe2 thread-pool after fork. (function pthreadpool)\n",
      "E0224 10:48:42.460696789    7532 fork_posix.cc:70]           Fork support is only compatible with the epoll1 and poll polling strategies\n",
      "[W pthreadpool-cpp.cc:90] Warning: Leaking Caffe2 thread-pool after fork. (function pthreadpool)\n",
      "E0224 10:48:42.503675615    7532 fork_posix.cc:70]           Fork support is only compatible with the epoll1 and poll polling strategies\n",
      "[W pthreadpool-cpp.cc:90] Warning: Leaking Caffe2 thread-pool after fork. (function pthreadpool)\n",
      "E0224 10:48:42.546514607    7532 fork_posix.cc:70]           Fork support is only compatible with the epoll1 and poll polling strategies\n",
      "[W pthreadpool-cpp.cc:90] Warning: Leaking Caffe2 thread-pool after fork. (function pthreadpool)\n",
      "E0224 10:48:42.589548530    7532 fork_posix.cc:70]           Fork support is only compatible with the epoll1 and poll polling strategies\n",
      "[W pthreadpool-cpp.cc:90] Warning: Leaking Caffe2 thread-pool after fork. (function pthreadpool)\n",
      "[W pthreadpool-cpp.cc:90] Warning: Leaking Caffe2 thread-pool after fork. (function pthreadpool)\n",
      "[W pthreadpool-cpp.cc:90] Warning: Leaking Caffe2 thread-pool after fork. (function pthreadpool)\n",
      "E0224 10:48:42.374530964    7532 fork_posix.cc:70]           Fork support is only compatible with the epoll1 and poll polling strategies\n",
      "[W pthreadpool-cpp.cc:90] Warning: Leaking Caffe2 thread-pool after fork. (function pthreadpool)\n",
      "E0224 10:48:44.244664296    7532 fork_posix.cc:70]           Fork support is only compatible with the epoll1 and poll polling strategies\n",
      "[W pthreadpool-cpp.cc:90] Warning: Leaking Caffe2 thread-pool after fork. (function pthreadpool)\n",
      "E0224 10:48:44.287249961    7532 fork_posix.cc:70]           Fork support is only compatible with the epoll1 and poll polling strategies\n",
      "[W pthreadpool-cpp.cc:90] Warning: Leaking Caffe2 thread-pool after fork. (function pthreadpool)\n",
      "E0224 10:48:44.330839165    7532 fork_posix.cc:70]           Fork support is only compatible with the epoll1 and poll polling strategies\n",
      "[W pthreadpool-cpp.cc:90] Warning: Leaking Caffe2 thread-pool after fork. (function pthreadpool)\n",
      "E0224 10:48:44.374836524    7532 fork_posix.cc:70]           Fork support is only compatible with the epoll1 and poll polling strategies\n",
      "[W pthreadpool-cpp.cc:90] Warning: Leaking Caffe2 thread-pool after fork. (function pthreadpool)\n",
      "E0224 10:48:44.418643651    7532 fork_posix.cc:70]           Fork support is only compatible with the epoll1 and poll polling strategies\n",
      "[W pthreadpool-cpp.cc:90] Warning: Leaking Caffe2 thread-pool after fork. (function pthreadpool)\n",
      "E0224 10:48:44.462668294    7532 fork_posix.cc:70]           Fork support is only compatible with the epoll1 and poll polling strategies\n",
      "[W pthreadpool-cpp.cc:90] Warning: Leaking Caffe2 thread-pool after fork. (function pthreadpool)\n",
      "E0224 10:48:44.506933313    7532 fork_posix.cc:70]           Fork support is only compatible with the epoll1 and poll polling strategies\n",
      "[W pthreadpool-cpp.cc:90] Warning: Leaking Caffe2 thread-pool after fork. (function pthreadpool)\n",
      "E0224 10:48:44.550457446    7532 fork_posix.cc:70]           Fork support is only compatible with the epoll1 and poll polling strategies\n",
      "[W pthreadpool-cpp.cc:90] Warning: Leaking Caffe2 thread-pool after fork. (function pthreadpool)\n",
      "E0224 10:48:44.870666463    7532 fork_posix.cc:70]           Fork support is only compatible with the epoll1 and poll polling strategies\n",
      "E0224 10:48:45.039079404    7532 fork_posix.cc:70]           Fork support is only compatible with the epoll1 and poll polling strategies\n",
      "[W pthreadpool-cpp.cc:90] Warning: Leaking Caffe2 thread-pool after fork. (function pthreadpool)\n",
      "[W pthreadpool-cpp.cc:90] Warning: Leaking Caffe2 thread-pool after fork. (function pthreadpool)\n"
     ]
    },
    {
     "data": {
      "application/vnd.jupyter.widget-view+json": {
       "model_id": "9d2a6c560bb84e9a89c5223a96eb5009",
       "version_major": 2,
       "version_minor": 0
      },
      "text/plain": [
       "Validating: 0it [00:00, ?it/s]"
      ]
     },
     "metadata": {},
     "output_type": "display_data"
    },
    {
     "name": "stderr",
     "output_type": "stream",
     "text": [
      "E0224 10:48:48.799297154    7532 fork_posix.cc:70]           Fork support is only compatible with the epoll1 and poll polling strategies\n",
      "[W pthreadpool-cpp.cc:90] Warning: Leaking Caffe2 thread-pool after fork. (function pthreadpool)\n",
      "E0224 10:48:48.850320486    7532 fork_posix.cc:70]           Fork support is only compatible with the epoll1 and poll polling strategies\n",
      "[W pthreadpool-cpp.cc:90] Warning: Leaking Caffe2 thread-pool after fork. (function pthreadpool)\n",
      "E0224 10:48:48.894307738    7532 fork_posix.cc:70]           Fork support is only compatible with the epoll1 and poll polling strategies\n",
      "[W pthreadpool-cpp.cc:90] Warning: Leaking Caffe2 thread-pool after fork. (function pthreadpool)\n",
      "E0224 10:48:48.937340482    7532 fork_posix.cc:70]           Fork support is only compatible with the epoll1 and poll polling strategies\n",
      "[W pthreadpool-cpp.cc:90] Warning: Leaking Caffe2 thread-pool after fork. (function pthreadpool)\n",
      "E0224 10:48:48.980593904    7532 fork_posix.cc:70]           Fork support is only compatible with the epoll1 and poll polling strategies\n",
      "[W pthreadpool-cpp.cc:90] Warning: Leaking Caffe2 thread-pool after fork. (function pthreadpool)\n",
      "E0224 10:48:49.023398423    7532 fork_posix.cc:70]           Fork support is only compatible with the epoll1 and poll polling strategies\n",
      "[W pthreadpool-cpp.cc:90] Warning: Leaking Caffe2 thread-pool after fork. (function pthreadpool)\n",
      "E0224 10:48:49.066393442    7532 fork_posix.cc:70]           Fork support is only compatible with the epoll1 and poll polling strategies\n",
      "[W pthreadpool-cpp.cc:90] Warning: Leaking Caffe2 thread-pool after fork. (function pthreadpool)\n",
      "E0224 10:48:49.110053075    7532 fork_posix.cc:70]           Fork support is only compatible with the epoll1 and poll polling strategies\n",
      "[W pthreadpool-cpp.cc:90] Warning: Leaking Caffe2 thread-pool after fork. (function pthreadpool)\n",
      "[W pthreadpool-cpp.cc:90] Warning: Leaking Caffe2 thread-pool after fork. (function pthreadpool)\n",
      "[W pthreadpool-cpp.cc:90] Warning: Leaking Caffe2 thread-pool after fork. (function pthreadpool)\n",
      "[W pthreadpool-cpp.cc:90] Warning: Leaking Caffe2 thread-pool after fork. (function pthreadpool)\n",
      "E0224 10:48:50.981795906    7532 fork_posix.cc:70]           Fork support is only compatible with the epoll1 and poll polling strategies\n",
      "[W pthreadpool-cpp.cc:90] Warning: Leaking Caffe2 thread-pool after fork. (function pthreadpool)\n",
      "E0224 10:48:51.024462558    7532 fork_posix.cc:70]           Fork support is only compatible with the epoll1 and poll polling strategies\n",
      "[W pthreadpool-cpp.cc:90] Warning: Leaking Caffe2 thread-pool after fork. (function pthreadpool)\n",
      "E0224 10:48:51.067642315    7532 fork_posix.cc:70]           Fork support is only compatible with the epoll1 and poll polling strategies\n",
      "[W pthreadpool-cpp.cc:90] Warning: Leaking Caffe2 thread-pool after fork. (function pthreadpool)\n",
      "E0224 10:48:51.110884123    7532 fork_posix.cc:70]           Fork support is only compatible with the epoll1 and poll polling strategies\n",
      "[W pthreadpool-cpp.cc:90] Warning: Leaking Caffe2 thread-pool after fork. (function pthreadpool)\n",
      "E0224 10:48:51.153525923    7532 fork_posix.cc:70]           Fork support is only compatible with the epoll1 and poll polling strategies\n",
      "[W pthreadpool-cpp.cc:90] Warning: Leaking Caffe2 thread-pool after fork. (function pthreadpool)\n",
      "E0224 10:48:51.196378573    7532 fork_posix.cc:70]           Fork support is only compatible with the epoll1 and poll polling strategies\n",
      "[W pthreadpool-cpp.cc:90] Warning: Leaking Caffe2 thread-pool after fork. (function pthreadpool)\n",
      "E0224 10:48:51.239449072    7532 fork_posix.cc:70]           Fork support is only compatible with the epoll1 and poll polling strategies\n",
      "[W pthreadpool-cpp.cc:90] Warning: Leaking Caffe2 thread-pool after fork. (function pthreadpool)\n",
      "E0224 10:48:51.283085197    7532 fork_posix.cc:70]           Fork support is only compatible with the epoll1 and poll polling strategies\n",
      "[W pthreadpool-cpp.cc:90] Warning: Leaking Caffe2 thread-pool after fork. (function pthreadpool)\n",
      "E0224 10:48:51.848557677    7532 fork_posix.cc:70]           Fork support is only compatible with the epoll1 and poll polling strategies\n",
      "E0224 10:48:52.026528931    7532 fork_posix.cc:70]           Fork support is only compatible with the epoll1 and poll polling strategies\n",
      "[W pthreadpool-cpp.cc:90] Warning: Leaking Caffe2 thread-pool after fork. (function pthreadpool)\n",
      "[W pthreadpool-cpp.cc:90] Warning: Leaking Caffe2 thread-pool after fork. (function pthreadpool)\n"
     ]
    },
    {
     "data": {
      "application/vnd.jupyter.widget-view+json": {
       "model_id": "5948b9e7041c4b29bf7f18cd6feb3ea6",
       "version_major": 2,
       "version_minor": 0
      },
      "text/plain": [
       "Validating: 0it [00:00, ?it/s]"
      ]
     },
     "metadata": {},
     "output_type": "display_data"
    },
    {
     "name": "stderr",
     "output_type": "stream",
     "text": [
      "E0224 10:48:55.557087762    7532 fork_posix.cc:70]           Fork support is only compatible with the epoll1 and poll polling strategies\n",
      "[W pthreadpool-cpp.cc:90] Warning: Leaking Caffe2 thread-pool after fork. (function pthreadpool)\n",
      "E0224 10:48:55.599059537    7532 fork_posix.cc:70]           Fork support is only compatible with the epoll1 and poll polling strategies\n",
      "[W pthreadpool-cpp.cc:90] Warning: Leaking Caffe2 thread-pool after fork. (function pthreadpool)\n",
      "E0224 10:48:55.641439480    7532 fork_posix.cc:70]           Fork support is only compatible with the epoll1 and poll polling strategies\n",
      "[W pthreadpool-cpp.cc:90] Warning: Leaking Caffe2 thread-pool after fork. (function pthreadpool)\n",
      "E0224 10:48:55.685069307    7532 fork_posix.cc:70]           Fork support is only compatible with the epoll1 and poll polling strategies\n",
      "[W pthreadpool-cpp.cc:90] Warning: Leaking Caffe2 thread-pool after fork. (function pthreadpool)\n",
      "E0224 10:48:55.727216835    7532 fork_posix.cc:70]           Fork support is only compatible with the epoll1 and poll polling strategies\n",
      "[W pthreadpool-cpp.cc:90] Warning: Leaking Caffe2 thread-pool after fork. (function pthreadpool)\n",
      "E0224 10:48:55.770065150    7532 fork_posix.cc:70]           Fork support is only compatible with the epoll1 and poll polling strategies\n",
      "[W pthreadpool-cpp.cc:90] Warning: Leaking Caffe2 thread-pool after fork. (function pthreadpool)\n",
      "E0224 10:48:55.812749763    7532 fork_posix.cc:70]           Fork support is only compatible with the epoll1 and poll polling strategies\n",
      "[W pthreadpool-cpp.cc:90] Warning: Leaking Caffe2 thread-pool after fork. (function pthreadpool)\n",
      "E0224 10:48:55.856099008    7532 fork_posix.cc:70]           Fork support is only compatible with the epoll1 and poll polling strategies\n",
      "[W pthreadpool-cpp.cc:90] Warning: Leaking Caffe2 thread-pool after fork. (function pthreadpool)\n",
      "E0224 10:48:55.599059537    7532 fork_posix.cc:70]           Fork support is only compatible with the epoll1 and poll polling strategies\n",
      "[W pthreadpool-cpp.cc:90] Warning: Leaking Caffe2 thread-pool after fork. (function pthreadpool)\n",
      "[W pthreadpool-cpp.cc:90] Warning: Leaking Caffe2 thread-pool after fork. (function pthreadpool)\n",
      "E0224 10:48:57.595815625    7532 fork_posix.cc:70]           Fork support is only compatible with the epoll1 and poll polling strategies\n",
      "[W pthreadpool-cpp.cc:90] Warning: Leaking Caffe2 thread-pool after fork. (function pthreadpool)\n",
      "E0224 10:48:57.639008331    7532 fork_posix.cc:70]           Fork support is only compatible with the epoll1 and poll polling strategies\n",
      "[W pthreadpool-cpp.cc:90] Warning: Leaking Caffe2 thread-pool after fork. (function pthreadpool)\n",
      "E0224 10:48:57.682082079    7532 fork_posix.cc:70]           Fork support is only compatible with the epoll1 and poll polling strategies\n",
      "[W pthreadpool-cpp.cc:90] Warning: Leaking Caffe2 thread-pool after fork. (function pthreadpool)\n",
      "E0224 10:48:57.724258719    7532 fork_posix.cc:70]           Fork support is only compatible with the epoll1 and poll polling strategies\n",
      "[W pthreadpool-cpp.cc:90] Warning: Leaking Caffe2 thread-pool after fork. (function pthreadpool)\n",
      "E0224 10:48:57.766565882    7532 fork_posix.cc:70]           Fork support is only compatible with the epoll1 and poll polling strategies\n",
      "[W pthreadpool-cpp.cc:90] Warning: Leaking Caffe2 thread-pool after fork. (function pthreadpool)\n",
      "E0224 10:48:57.809576276    7532 fork_posix.cc:70]           Fork support is only compatible with the epoll1 and poll polling strategies\n",
      "[W pthreadpool-cpp.cc:90] Warning: Leaking Caffe2 thread-pool after fork. (function pthreadpool)\n",
      "E0224 10:48:57.852844579    7532 fork_posix.cc:70]           Fork support is only compatible with the epoll1 and poll polling strategies\n",
      "[W pthreadpool-cpp.cc:90] Warning: Leaking Caffe2 thread-pool after fork. (function pthreadpool)\n",
      "E0224 10:48:57.896331996    7532 fork_posix.cc:70]           Fork support is only compatible with the epoll1 and poll polling strategies\n",
      "[W pthreadpool-cpp.cc:90] Warning: Leaking Caffe2 thread-pool after fork. (function pthreadpool)\n",
      "E0224 10:48:58.743413766    7532 fork_posix.cc:70]           Fork support is only compatible with the epoll1 and poll polling strategies\n",
      "E0224 10:48:58.903875746    7532 fork_posix.cc:70]           Fork support is only compatible with the epoll1 and poll polling strategies\n",
      "[W pthreadpool-cpp.cc:90] Warning: Leaking Caffe2 thread-pool after fork. (function pthreadpool)\n",
      "[W pthreadpool-cpp.cc:90] Warning: Leaking Caffe2 thread-pool after fork. (function pthreadpool)\n"
     ]
    },
    {
     "data": {
      "application/vnd.jupyter.widget-view+json": {
       "model_id": "9a7a12f4ec5943bca5f063b745cf8065",
       "version_major": 2,
       "version_minor": 0
      },
      "text/plain": [
       "Validating: 0it [00:00, ?it/s]"
      ]
     },
     "metadata": {},
     "output_type": "display_data"
    },
    {
     "name": "stderr",
     "output_type": "stream",
     "text": [
      "E0224 10:49:02.087176134    7532 fork_posix.cc:70]           Fork support is only compatible with the epoll1 and poll polling strategies\n",
      "[W pthreadpool-cpp.cc:90] Warning: Leaking Caffe2 thread-pool after fork. (function pthreadpool)\n",
      "E0224 10:49:02.130142197    7532 fork_posix.cc:70]           Fork support is only compatible with the epoll1 and poll polling strategies\n",
      "[W pthreadpool-cpp.cc:90] Warning: Leaking Caffe2 thread-pool after fork. (function pthreadpool)\n",
      "E0224 10:49:02.172625242    7532 fork_posix.cc:70]           Fork support is only compatible with the epoll1 and poll polling strategies\n",
      "[W pthreadpool-cpp.cc:90] Warning: Leaking Caffe2 thread-pool after fork. (function pthreadpool)\n",
      "E0224 10:49:02.215551456    7532 fork_posix.cc:70]           Fork support is only compatible with the epoll1 and poll polling strategies\n",
      "[W pthreadpool-cpp.cc:90] Warning: Leaking Caffe2 thread-pool after fork. (function pthreadpool)\n",
      "E0224 10:49:02.258167333    7532 fork_posix.cc:70]           Fork support is only compatible with the epoll1 and poll polling strategies\n",
      "[W pthreadpool-cpp.cc:90] Warning: Leaking Caffe2 thread-pool after fork. (function pthreadpool)\n",
      "E0224 10:49:02.301485422    7532 fork_posix.cc:70]           Fork support is only compatible with the epoll1 and poll polling strategies\n",
      "[W pthreadpool-cpp.cc:90] Warning: Leaking Caffe2 thread-pool after fork. (function pthreadpool)\n",
      "E0224 10:49:02.345444855    7532 fork_posix.cc:70]           Fork support is only compatible with the epoll1 and poll polling strategies\n",
      "[W pthreadpool-cpp.cc:90] Warning: Leaking Caffe2 thread-pool after fork. (function pthreadpool)\n",
      "E0224 10:49:02.388260931    7532 fork_posix.cc:70]           Fork support is only compatible with the epoll1 and poll polling strategies\n",
      "[W pthreadpool-cpp.cc:90] Warning: Leaking Caffe2 thread-pool after fork. (function pthreadpool)\n",
      "[W pthreadpool-cpp.cc:90] Warning: Leaking Caffe2 thread-pool after fork. (function pthreadpool)\n",
      "E0224 10:49:02.301485422    7532 fork_posix.cc:70]           Fork support is only compatible with the epoll1 and poll polling strategies\n",
      "[W pthreadpool-cpp.cc:90] Warning: Leaking Caffe2 thread-pool after fork. (function pthreadpool)\n",
      "[W pthreadpool-cpp.cc:90] Warning: Leaking Caffe2 thread-pool after fork. (function pthreadpool)\n",
      "E0224 10:49:04.009432113    7532 fork_posix.cc:70]           Fork support is only compatible with the epoll1 and poll polling strategies\n",
      "[W pthreadpool-cpp.cc:90] Warning: Leaking Caffe2 thread-pool after fork. (function pthreadpool)\n",
      "E0224 10:49:04.051394866    7532 fork_posix.cc:70]           Fork support is only compatible with the epoll1 and poll polling strategies\n",
      "[W pthreadpool-cpp.cc:90] Warning: Leaking Caffe2 thread-pool after fork. (function pthreadpool)\n",
      "E0224 10:49:04.101316632    7532 fork_posix.cc:70]           Fork support is only compatible with the epoll1 and poll polling strategies\n",
      "[W pthreadpool-cpp.cc:90] Warning: Leaking Caffe2 thread-pool after fork. (function pthreadpool)\n",
      "E0224 10:49:04.147873386    7532 fork_posix.cc:70]           Fork support is only compatible with the epoll1 and poll polling strategies\n",
      "[W pthreadpool-cpp.cc:90] Warning: Leaking Caffe2 thread-pool after fork. (function pthreadpool)\n",
      "E0224 10:49:04.192527524    7532 fork_posix.cc:70]           Fork support is only compatible with the epoll1 and poll polling strategies\n",
      "[W pthreadpool-cpp.cc:90] Warning: Leaking Caffe2 thread-pool after fork. (function pthreadpool)\n",
      "E0224 10:49:04.235119911    7532 fork_posix.cc:70]           Fork support is only compatible with the epoll1 and poll polling strategies\n",
      "[W pthreadpool-cpp.cc:90] Warning: Leaking Caffe2 thread-pool after fork. (function pthreadpool)\n",
      "E0224 10:49:04.277022870    7532 fork_posix.cc:70]           Fork support is only compatible with the epoll1 and poll polling strategies\n",
      "[W pthreadpool-cpp.cc:90] Warning: Leaking Caffe2 thread-pool after fork. (function pthreadpool)\n",
      "E0224 10:49:04.319649958    7532 fork_posix.cc:70]           Fork support is only compatible with the epoll1 and poll polling strategies\n",
      "[W pthreadpool-cpp.cc:90] Warning: Leaking Caffe2 thread-pool after fork. (function pthreadpool)\n",
      "E0224 10:49:05.409489224    7532 fork_posix.cc:70]           Fork support is only compatible with the epoll1 and poll polling strategies\n",
      "E0224 10:49:05.580563114    7532 fork_posix.cc:70]           Fork support is only compatible with the epoll1 and poll polling strategies\n",
      "[W pthreadpool-cpp.cc:90] Warning: Leaking Caffe2 thread-pool after fork. (function pthreadpool)\n",
      "E0224 10:49:04.051394866    7532 fork_posix.cc:70]           Fork support is only compatible with the epoll1 and poll polling strategies\n",
      "[W pthreadpool-cpp.cc:90] Warning: Leaking Caffe2 thread-pool after fork. (function pthreadpool)\n",
      "[W pthreadpool-cpp.cc:90] Warning: Leaking Caffe2 thread-pool after fork. (function pthreadpool)\n"
     ]
    },
    {
     "data": {
      "application/vnd.jupyter.widget-view+json": {
       "model_id": "f468297b13af487fb6ac5a03ce8160c2",
       "version_major": 2,
       "version_minor": 0
      },
      "text/plain": [
       "Validating: 0it [00:00, ?it/s]"
      ]
     },
     "metadata": {},
     "output_type": "display_data"
    },
    {
     "name": "stderr",
     "output_type": "stream",
     "text": [
      "E0224 10:49:08.553480019    7532 fork_posix.cc:70]           Fork support is only compatible with the epoll1 and poll polling strategies\n",
      "[W pthreadpool-cpp.cc:90] Warning: Leaking Caffe2 thread-pool after fork. (function pthreadpool)\n",
      "E0224 10:49:08.595289601    7532 fork_posix.cc:70]           Fork support is only compatible with the epoll1 and poll polling strategies\n",
      "[W pthreadpool-cpp.cc:90] Warning: Leaking Caffe2 thread-pool after fork. (function pthreadpool)\n",
      "E0224 10:49:08.637688311    7532 fork_posix.cc:70]           Fork support is only compatible with the epoll1 and poll polling strategies\n",
      "[W pthreadpool-cpp.cc:90] Warning: Leaking Caffe2 thread-pool after fork. (function pthreadpool)\n",
      "E0224 10:49:08.680245006    7532 fork_posix.cc:70]           Fork support is only compatible with the epoll1 and poll polling strategies\n",
      "[W pthreadpool-cpp.cc:90] Warning: Leaking Caffe2 thread-pool after fork. (function pthreadpool)\n",
      "E0224 10:49:08.722513967    7532 fork_posix.cc:70]           Fork support is only compatible with the epoll1 and poll polling strategies\n",
      "[W pthreadpool-cpp.cc:90] Warning: Leaking Caffe2 thread-pool after fork. (function pthreadpool)\n",
      "E0224 10:49:08.765533620    7532 fork_posix.cc:70]           Fork support is only compatible with the epoll1 and poll polling strategies\n",
      "[W pthreadpool-cpp.cc:90] Warning: Leaking Caffe2 thread-pool after fork. (function pthreadpool)\n",
      "E0224 10:49:08.808535803    7532 fork_posix.cc:70]           Fork support is only compatible with the epoll1 and poll polling strategies\n",
      "[W pthreadpool-cpp.cc:90] Warning: Leaking Caffe2 thread-pool after fork. (function pthreadpool)\n",
      "E0224 10:49:08.851613656    7532 fork_posix.cc:70]           Fork support is only compatible with the epoll1 and poll polling strategies\n",
      "[W pthreadpool-cpp.cc:90] Warning: Leaking Caffe2 thread-pool after fork. (function pthreadpool)\n",
      "[W pthreadpool-cpp.cc:90] Warning: Leaking Caffe2 thread-pool after fork. (function pthreadpool)\n",
      "[W pthreadpool-cpp.cc:90] Warning: Leaking Caffe2 thread-pool after fork. (function pthreadpool)\n",
      "E0224 10:49:08.722513967    7532 fork_posix.cc:70]           Fork support is only compatible with the epoll1 and poll polling strategies\n",
      "E0224 10:49:10.490946341    7532 fork_posix.cc:70]           Fork support is only compatible with the epoll1 and poll polling strategies\n",
      "[W pthreadpool-cpp.cc:90] Warning: Leaking Caffe2 thread-pool after fork. (function pthreadpool)\n",
      "E0224 10:49:10.534075086    7532 fork_posix.cc:70]           Fork support is only compatible with the epoll1 and poll polling strategies\n",
      "[W pthreadpool-cpp.cc:90] Warning: Leaking Caffe2 thread-pool after fork. (function pthreadpool)\n",
      "E0224 10:49:10.576914570    7532 fork_posix.cc:70]           Fork support is only compatible with the epoll1 and poll polling strategies\n",
      "[W pthreadpool-cpp.cc:90] Warning: Leaking Caffe2 thread-pool after fork. (function pthreadpool)\n",
      "E0224 10:49:10.620408687    7532 fork_posix.cc:70]           Fork support is only compatible with the epoll1 and poll polling strategies\n",
      "[W pthreadpool-cpp.cc:90] Warning: Leaking Caffe2 thread-pool after fork. (function pthreadpool)\n",
      "E0224 10:49:10.670351014    7532 fork_posix.cc:70]           Fork support is only compatible with the epoll1 and poll polling strategies\n",
      "[W pthreadpool-cpp.cc:90] Warning: Leaking Caffe2 thread-pool after fork. (function pthreadpool)\n",
      "E0224 10:49:10.712934230    7532 fork_posix.cc:70]           Fork support is only compatible with the epoll1 and poll polling strategies\n",
      "[W pthreadpool-cpp.cc:90] Warning: Leaking Caffe2 thread-pool after fork. (function pthreadpool)\n",
      "E0224 10:49:10.756907503    7532 fork_posix.cc:70]           Fork support is only compatible with the epoll1 and poll polling strategies\n",
      "[W pthreadpool-cpp.cc:90] Warning: Leaking Caffe2 thread-pool after fork. (function pthreadpool)\n",
      "E0224 10:49:10.803478595    7532 fork_posix.cc:70]           Fork support is only compatible with the epoll1 and poll polling strategies\n",
      "[W pthreadpool-cpp.cc:90] Warning: Leaking Caffe2 thread-pool after fork. (function pthreadpool)\n",
      "E0224 10:49:12.231673956    7532 fork_posix.cc:70]           Fork support is only compatible with the epoll1 and poll polling strategies\n",
      "E0224 10:49:12.431115604    7532 fork_posix.cc:70]           Fork support is only compatible with the epoll1 and poll polling strategies\n",
      "[W pthreadpool-cpp.cc:90] Warning: Leaking Caffe2 thread-pool after fork. (function pthreadpool)\n",
      "[W pthreadpool-cpp.cc:90] Warning: Leaking Caffe2 thread-pool after fork. (function pthreadpool)\n",
      "[W pthreadpool-cpp.cc:90] Warning: Leaking Caffe2 thread-pool after fork. (function pthreadpool)\n",
      "[W pthreadpool-cpp.cc:90] Warning: Leaking Caffe2 thread-pool after fork. (function pthreadpool)\n",
      "[W pthreadpool-cpp.cc:90] Warning: Leaking Caffe2 thread-pool after fork. (function pthreadpool)\n"
     ]
    },
    {
     "data": {
      "application/vnd.jupyter.widget-view+json": {
       "model_id": "4711072cfd0446b291629bbb0a555006",
       "version_major": 2,
       "version_minor": 0
      },
      "text/plain": [
       "Validating: 0it [00:00, ?it/s]"
      ]
     },
     "metadata": {},
     "output_type": "display_data"
    },
    {
     "name": "stderr",
     "output_type": "stream",
     "text": [
      "E0224 10:49:15.135561028    7532 fork_posix.cc:70]           Fork support is only compatible with the epoll1 and poll polling strategies\n",
      "[W pthreadpool-cpp.cc:90] Warning: Leaking Caffe2 thread-pool after fork. (function pthreadpool)\n",
      "E0224 10:49:15.178353593    7532 fork_posix.cc:70]           Fork support is only compatible with the epoll1 and poll polling strategies\n",
      "[W pthreadpool-cpp.cc:90] Warning: Leaking Caffe2 thread-pool after fork. (function pthreadpool)\n",
      "E0224 10:49:15.221324993    7532 fork_posix.cc:70]           Fork support is only compatible with the epoll1 and poll polling strategies\n",
      "[W pthreadpool-cpp.cc:90] Warning: Leaking Caffe2 thread-pool after fork. (function pthreadpool)\n",
      "E0224 10:49:15.264674687    7532 fork_posix.cc:70]           Fork support is only compatible with the epoll1 and poll polling strategies\n",
      "[W pthreadpool-cpp.cc:90] Warning: Leaking Caffe2 thread-pool after fork. (function pthreadpool)\n",
      "E0224 10:49:15.307563034    7532 fork_posix.cc:70]           Fork support is only compatible with the epoll1 and poll polling strategies\n",
      "[W pthreadpool-cpp.cc:90] Warning: Leaking Caffe2 thread-pool after fork. (function pthreadpool)\n",
      "E0224 10:49:15.351284002    7532 fork_posix.cc:70]           Fork support is only compatible with the epoll1 and poll polling strategies\n",
      "[W pthreadpool-cpp.cc:90] Warning: Leaking Caffe2 thread-pool after fork. (function pthreadpool)\n",
      "E0224 10:49:15.394184548    7532 fork_posix.cc:70]           Fork support is only compatible with the epoll1 and poll polling strategies\n",
      "[W pthreadpool-cpp.cc:90] Warning: Leaking Caffe2 thread-pool after fork. (function pthreadpool)\n",
      "E0224 10:49:15.437514541    7532 fork_posix.cc:70]           Fork support is only compatible with the epoll1 and poll polling strategies\n",
      "[W pthreadpool-cpp.cc:90] Warning: Leaking Caffe2 thread-pool after fork. (function pthreadpool)\n",
      "[W pthreadpool-cpp.cc:90] Warning: Leaking Caffe2 thread-pool after fork. (function pthreadpool)\n",
      "[W pthreadpool-cpp.cc:90] Warning: Leaking Caffe2 thread-pool after fork. (function pthreadpool)\n",
      "E0224 10:49:17.259080818    7532 fork_posix.cc:70]           Fork support is only compatible with the epoll1 and poll polling strategies\n",
      "[W pthreadpool-cpp.cc:90] Warning: Leaking Caffe2 thread-pool after fork. (function pthreadpool)\n",
      "E0224 10:49:17.301616305    7532 fork_posix.cc:70]           Fork support is only compatible with the epoll1 and poll polling strategies\n",
      "[W pthreadpool-cpp.cc:90] Warning: Leaking Caffe2 thread-pool after fork. (function pthreadpool)\n",
      "E0224 10:49:17.344138657    7532 fork_posix.cc:70]           Fork support is only compatible with the epoll1 and poll polling strategies\n",
      "[W pthreadpool-cpp.cc:90] Warning: Leaking Caffe2 thread-pool after fork. (function pthreadpool)\n",
      "E0224 10:49:17.385775234    7532 fork_posix.cc:70]           Fork support is only compatible with the epoll1 and poll polling strategies\n",
      "[W pthreadpool-cpp.cc:90] Warning: Leaking Caffe2 thread-pool after fork. (function pthreadpool)\n",
      "E0224 10:49:17.428103123    7532 fork_posix.cc:70]           Fork support is only compatible with the epoll1 and poll polling strategies\n",
      "[W pthreadpool-cpp.cc:90] Warning: Leaking Caffe2 thread-pool after fork. (function pthreadpool)\n",
      "E0224 10:49:17.469956426    7532 fork_posix.cc:70]           Fork support is only compatible with the epoll1 and poll polling strategies\n",
      "[W pthreadpool-cpp.cc:90] Warning: Leaking Caffe2 thread-pool after fork. (function pthreadpool)\n",
      "E0224 10:49:17.512095111    7532 fork_posix.cc:70]           Fork support is only compatible with the epoll1 and poll polling strategies\n",
      "[W pthreadpool-cpp.cc:90] Warning: Leaking Caffe2 thread-pool after fork. (function pthreadpool)\n",
      "E0224 10:49:17.554184698    7532 fork_posix.cc:70]           Fork support is only compatible with the epoll1 and poll polling strategies\n",
      "[W pthreadpool-cpp.cc:90] Warning: Leaking Caffe2 thread-pool after fork. (function pthreadpool)\n",
      "E0224 10:49:19.229640436    7532 fork_posix.cc:70]           Fork support is only compatible with the epoll1 and poll polling strategies\n",
      "E0224 10:49:19.390864000    7532 fork_posix.cc:70]           Fork support is only compatible with the epoll1 and poll polling strategies\n",
      "[W pthreadpool-cpp.cc:90] Warning: Leaking Caffe2 thread-pool after fork. (function pthreadpool)\n",
      "[W pthreadpool-cpp.cc:90] Warning: Leaking Caffe2 thread-pool after fork. (function pthreadpool)\n",
      "[W pthreadpool-cpp.cc:90] Warning: Leaking Caffe2 thread-pool after fork. (function pthreadpool)\n",
      "E0224 10:49:17.385775234    7532 fork_posix.cc:70]           Fork support is only compatible with the epoll1 and poll polling strategies\n",
      "[W pthreadpool-cpp.cc:90] Warning: Leaking Caffe2 thread-pool after fork. (function pthreadpool)\n"
     ]
    },
    {
     "data": {
      "application/vnd.jupyter.widget-view+json": {
       "model_id": "470cf02327e0431d9634801669ad0de2",
       "version_major": 2,
       "version_minor": 0
      },
      "text/plain": [
       "Validating: 0it [00:00, ?it/s]"
      ]
     },
     "metadata": {},
     "output_type": "display_data"
    },
    {
     "name": "stderr",
     "output_type": "stream",
     "text": [
      "E0224 10:49:21.757291805    7532 fork_posix.cc:70]           Fork support is only compatible with the epoll1 and poll polling strategies\n",
      "[W pthreadpool-cpp.cc:90] Warning: Leaking Caffe2 thread-pool after fork. (function pthreadpool)\n",
      "E0224 10:49:21.799818490    7532 fork_posix.cc:70]           Fork support is only compatible with the epoll1 and poll polling strategies\n",
      "[W pthreadpool-cpp.cc:90] Warning: Leaking Caffe2 thread-pool after fork. (function pthreadpool)\n",
      "E0224 10:49:21.842512759    7532 fork_posix.cc:70]           Fork support is only compatible with the epoll1 and poll polling strategies\n",
      "[W pthreadpool-cpp.cc:90] Warning: Leaking Caffe2 thread-pool after fork. (function pthreadpool)\n",
      "E0224 10:49:21.885264102    7532 fork_posix.cc:70]           Fork support is only compatible with the epoll1 and poll polling strategies\n",
      "[W pthreadpool-cpp.cc:90] Warning: Leaking Caffe2 thread-pool after fork. (function pthreadpool)\n",
      "E0224 10:49:21.928067126    7532 fork_posix.cc:70]           Fork support is only compatible with the epoll1 and poll polling strategies\n",
      "[W pthreadpool-cpp.cc:90] Warning: Leaking Caffe2 thread-pool after fork. (function pthreadpool)\n",
      "E0224 10:49:21.970981930    7532 fork_posix.cc:70]           Fork support is only compatible with the epoll1 and poll polling strategies\n",
      "[W pthreadpool-cpp.cc:90] Warning: Leaking Caffe2 thread-pool after fork. (function pthreadpool)\n",
      "E0224 10:49:22.013721712    7532 fork_posix.cc:70]           Fork support is only compatible with the epoll1 and poll polling strategies\n",
      "[W pthreadpool-cpp.cc:90] Warning: Leaking Caffe2 thread-pool after fork. (function pthreadpool)\n",
      "E0224 10:49:22.057426561    7532 fork_posix.cc:70]           Fork support is only compatible with the epoll1 and poll polling strategies\n",
      "[W pthreadpool-cpp.cc:90] Warning: Leaking Caffe2 thread-pool after fork. (function pthreadpool)\n",
      "[W pthreadpool-cpp.cc:90] Warning: Leaking Caffe2 thread-pool after fork. (function pthreadpool)\n",
      "[W pthreadpool-cpp.cc:90] Warning: Leaking Caffe2 thread-pool after fork. (function pthreadpool)\n",
      "E0224 10:49:23.894327616    7532 fork_posix.cc:70]           Fork support is only compatible with the epoll1 and poll polling strategies\n",
      "[W pthreadpool-cpp.cc:90] Warning: Leaking Caffe2 thread-pool after fork. (function pthreadpool)\n",
      "E0224 10:49:23.937232848    7532 fork_posix.cc:70]           Fork support is only compatible with the epoll1 and poll polling strategies\n",
      "[W pthreadpool-cpp.cc:90] Warning: Leaking Caffe2 thread-pool after fork. (function pthreadpool)\n",
      "E0224 10:49:23.980392612    7532 fork_posix.cc:70]           Fork support is only compatible with the epoll1 and poll polling strategies\n",
      "[W pthreadpool-cpp.cc:90] Warning: Leaking Caffe2 thread-pool after fork. (function pthreadpool)\n",
      "E0224 10:49:24.023387012    7532 fork_posix.cc:70]           Fork support is only compatible with the epoll1 and poll polling strategies\n",
      "[W pthreadpool-cpp.cc:90] Warning: Leaking Caffe2 thread-pool after fork. (function pthreadpool)\n",
      "E0224 10:49:24.066924979    7532 fork_posix.cc:70]           Fork support is only compatible with the epoll1 and poll polling strategies\n",
      "[W pthreadpool-cpp.cc:90] Warning: Leaking Caffe2 thread-pool after fork. (function pthreadpool)\n",
      "E0224 10:49:24.109728304    7532 fork_posix.cc:70]           Fork support is only compatible with the epoll1 and poll polling strategies\n",
      "[W pthreadpool-cpp.cc:90] Warning: Leaking Caffe2 thread-pool after fork. (function pthreadpool)\n",
      "E0224 10:49:24.153062676    7532 fork_posix.cc:70]           Fork support is only compatible with the epoll1 and poll polling strategies\n",
      "[W pthreadpool-cpp.cc:90] Warning: Leaking Caffe2 thread-pool after fork. (function pthreadpool)\n",
      "E0224 10:49:24.195857550    7532 fork_posix.cc:70]           Fork support is only compatible with the epoll1 and poll polling strategies\n",
      "[W pthreadpool-cpp.cc:90] Warning: Leaking Caffe2 thread-pool after fork. (function pthreadpool)\n",
      "E0224 10:49:26.109237180    7532 fork_posix.cc:70]           Fork support is only compatible with the epoll1 and poll polling strategies\n",
      "E0224 10:49:26.269103823    7532 fork_posix.cc:70]           Fork support is only compatible with the epoll1 and poll polling strategies\n",
      "[W pthreadpool-cpp.cc:90] Warning: Leaking Caffe2 thread-pool after fork. (function pthreadpool)\n",
      "[W pthreadpool-cpp.cc:90] Warning: Leaking Caffe2 thread-pool after fork. (function pthreadpool)\n",
      "[W pthreadpool-cpp.cc:90] Warning: Leaking Caffe2 thread-pool after fork. (function pthreadpool)\n",
      "[W pthreadpool-cpp.cc:90] Warning: Leaking Caffe2 thread-pool after fork. (function pthreadpool)\n",
      "[W pthreadpool-cpp.cc:90] Warning: Leaking Caffe2 thread-pool after fork. (function pthreadpool)\n"
     ]
    },
    {
     "data": {
      "application/vnd.jupyter.widget-view+json": {
       "model_id": "b8a002bb5e154b14b93181c3564950e2",
       "version_major": 2,
       "version_minor": 0
      },
      "text/plain": [
       "Validating: 0it [00:00, ?it/s]"
      ]
     },
     "metadata": {},
     "output_type": "display_data"
    },
    {
     "name": "stderr",
     "output_type": "stream",
     "text": [
      "E0224 10:49:28.403662036    7532 fork_posix.cc:70]           Fork support is only compatible with the epoll1 and poll polling strategies\n",
      "[W pthreadpool-cpp.cc:90] Warning: Leaking Caffe2 thread-pool after fork. (function pthreadpool)\n",
      "E0224 10:49:28.447379808    7532 fork_posix.cc:70]           Fork support is only compatible with the epoll1 and poll polling strategies\n",
      "[W pthreadpool-cpp.cc:90] Warning: Leaking Caffe2 thread-pool after fork. (function pthreadpool)\n",
      "E0224 10:49:28.489653896    7532 fork_posix.cc:70]           Fork support is only compatible with the epoll1 and poll polling strategies\n",
      "[W pthreadpool-cpp.cc:90] Warning: Leaking Caffe2 thread-pool after fork. (function pthreadpool)\n",
      "E0224 10:49:28.531206105    7532 fork_posix.cc:70]           Fork support is only compatible with the epoll1 and poll polling strategies\n",
      "[W pthreadpool-cpp.cc:90] Warning: Leaking Caffe2 thread-pool after fork. (function pthreadpool)\n",
      "E0224 10:49:28.573445853    7532 fork_posix.cc:70]           Fork support is only compatible with the epoll1 and poll polling strategies\n",
      "[W pthreadpool-cpp.cc:90] Warning: Leaking Caffe2 thread-pool after fork. (function pthreadpool)\n",
      "E0224 10:49:28.615348081    7532 fork_posix.cc:70]           Fork support is only compatible with the epoll1 and poll polling strategies\n",
      "[W pthreadpool-cpp.cc:90] Warning: Leaking Caffe2 thread-pool after fork. (function pthreadpool)\n",
      "E0224 10:49:28.657476843    7532 fork_posix.cc:70]           Fork support is only compatible with the epoll1 and poll polling strategies\n",
      "[W pthreadpool-cpp.cc:90] Warning: Leaking Caffe2 thread-pool after fork. (function pthreadpool)\n",
      "E0224 10:49:28.700058307    7532 fork_posix.cc:70]           Fork support is only compatible with the epoll1 and poll polling strategies\n",
      "[W pthreadpool-cpp.cc:90] Warning: Leaking Caffe2 thread-pool after fork. (function pthreadpool)\n",
      "[W pthreadpool-cpp.cc:90] Warning: Leaking Caffe2 thread-pool after fork. (function pthreadpool)\n",
      "E0224 10:49:28.657476843    7532 fork_posix.cc:70]           Fork support is only compatible with the epoll1 and poll polling strategies\n",
      "E0224 10:49:30.505818474    7532 fork_posix.cc:70]           Fork support is only compatible with the epoll1 and poll polling strategies\n",
      "[W pthreadpool-cpp.cc:90] Warning: Leaking Caffe2 thread-pool after fork. (function pthreadpool)\n",
      "E0224 10:49:30.549036652    7532 fork_posix.cc:70]           Fork support is only compatible with the epoll1 and poll polling strategies\n",
      "[W pthreadpool-cpp.cc:90] Warning: Leaking Caffe2 thread-pool after fork. (function pthreadpool)\n",
      "E0224 10:49:30.590996388    7532 fork_posix.cc:70]           Fork support is only compatible with the epoll1 and poll polling strategies\n",
      "[W pthreadpool-cpp.cc:90] Warning: Leaking Caffe2 thread-pool after fork. (function pthreadpool)\n",
      "E0224 10:49:30.632502388    7532 fork_posix.cc:70]           Fork support is only compatible with the epoll1 and poll polling strategies\n",
      "[W pthreadpool-cpp.cc:90] Warning: Leaking Caffe2 thread-pool after fork. (function pthreadpool)\n",
      "E0224 10:49:30.674450065    7532 fork_posix.cc:70]           Fork support is only compatible with the epoll1 and poll polling strategies\n",
      "[W pthreadpool-cpp.cc:90] Warning: Leaking Caffe2 thread-pool after fork. (function pthreadpool)\n",
      "E0224 10:49:30.717256558    7532 fork_posix.cc:70]           Fork support is only compatible with the epoll1 and poll polling strategies\n",
      "[W pthreadpool-cpp.cc:90] Warning: Leaking Caffe2 thread-pool after fork. (function pthreadpool)\n",
      "E0224 10:49:30.762178085    7532 fork_posix.cc:70]           Fork support is only compatible with the epoll1 and poll polling strategies\n",
      "[W pthreadpool-cpp.cc:90] Warning: Leaking Caffe2 thread-pool after fork. (function pthreadpool)\n",
      "E0224 10:49:30.805394163    7532 fork_posix.cc:70]           Fork support is only compatible with the epoll1 and poll polling strategies\n",
      "[W pthreadpool-cpp.cc:90] Warning: Leaking Caffe2 thread-pool after fork. (function pthreadpool)\n",
      "E0224 10:49:32.935527541    7532 fork_posix.cc:70]           Fork support is only compatible with the epoll1 and poll polling strategies\n",
      "E0224 10:49:33.094645385    7532 fork_posix.cc:70]           Fork support is only compatible with the epoll1 and poll polling strategies\n"
     ]
    },
    {
     "data": {
      "application/vnd.jupyter.widget-view+json": {
       "model_id": "5cfde1d3029e41b5a6665aa46186e890",
       "version_major": 2,
       "version_minor": 0
      },
      "text/plain": [
       "Validating: 0it [00:00, ?it/s]"
      ]
     },
     "metadata": {},
     "output_type": "display_data"
    },
    {
     "name": "stderr",
     "output_type": "stream",
     "text": [
      "E0224 10:49:34.890443976    7532 fork_posix.cc:70]           Fork support is only compatible with the epoll1 and poll polling strategies\n",
      "[W pthreadpool-cpp.cc:90] Warning: Leaking Caffe2 thread-pool after fork. (function pthreadpool)\n",
      "E0224 10:49:34.934087197    7532 fork_posix.cc:70]           Fork support is only compatible with the epoll1 and poll polling strategies\n",
      "[W pthreadpool-cpp.cc:90] Warning: Leaking Caffe2 thread-pool after fork. (function pthreadpool)\n",
      "E0224 10:49:34.975954303    7532 fork_posix.cc:70]           Fork support is only compatible with the epoll1 and poll polling strategies\n",
      "[W pthreadpool-cpp.cc:90] Warning: Leaking Caffe2 thread-pool after fork. (function pthreadpool)\n",
      "E0224 10:49:35.018943243    7532 fork_posix.cc:70]           Fork support is only compatible with the epoll1 and poll polling strategies\n",
      "[W pthreadpool-cpp.cc:90] Warning: Leaking Caffe2 thread-pool after fork. (function pthreadpool)\n",
      "E0224 10:49:35.061105935    7532 fork_posix.cc:70]           Fork support is only compatible with the epoll1 and poll polling strategies\n",
      "[W pthreadpool-cpp.cc:90] Warning: Leaking Caffe2 thread-pool after fork. (function pthreadpool)\n",
      "E0224 10:49:35.103472263    7532 fork_posix.cc:70]           Fork support is only compatible with the epoll1 and poll polling strategies\n",
      "[W pthreadpool-cpp.cc:90] Warning: Leaking Caffe2 thread-pool after fork. (function pthreadpool)\n",
      "E0224 10:49:35.146550696    7532 fork_posix.cc:70]           Fork support is only compatible with the epoll1 and poll polling strategies\n",
      "[W pthreadpool-cpp.cc:90] Warning: Leaking Caffe2 thread-pool after fork. (function pthreadpool)\n",
      "E0224 10:49:35.188495549    7532 fork_posix.cc:70]           Fork support is only compatible with the epoll1 and poll polling strategies\n",
      "[W pthreadpool-cpp.cc:90] Warning: Leaking Caffe2 thread-pool after fork. (function pthreadpool)\n",
      "[W pthreadpool-cpp.cc:90] Warning: Leaking Caffe2 thread-pool after fork. (function pthreadpool)\n",
      "[W pthreadpool-cpp.cc:90] Warning: Leaking Caffe2 thread-pool after fork. (function pthreadpool)\n",
      "[W pthreadpool-cpp.cc:90] Warning: Leaking Caffe2 thread-pool after fork. (function pthreadpool)\n",
      "E0224 10:49:36.955902992    7532 fork_posix.cc:70]           Fork support is only compatible with the epoll1 and poll polling strategies\n",
      "[W pthreadpool-cpp.cc:90] Warning: Leaking Caffe2 thread-pool after fork. (function pthreadpool)\n",
      "E0224 10:49:36.998255527    7532 fork_posix.cc:70]           Fork support is only compatible with the epoll1 and poll polling strategies\n",
      "[W pthreadpool-cpp.cc:90] Warning: Leaking Caffe2 thread-pool after fork. (function pthreadpool)\n",
      "E0224 10:49:37.040542156    7532 fork_posix.cc:70]           Fork support is only compatible with the epoll1 and poll polling strategies\n",
      "[W pthreadpool-cpp.cc:90] Warning: Leaking Caffe2 thread-pool after fork. (function pthreadpool)\n",
      "E0224 10:49:37.082350415    7532 fork_posix.cc:70]           Fork support is only compatible with the epoll1 and poll polling strategies\n",
      "[W pthreadpool-cpp.cc:90] Warning: Leaking Caffe2 thread-pool after fork. (function pthreadpool)\n",
      "E0224 10:49:37.124867610    7532 fork_posix.cc:70]           Fork support is only compatible with the epoll1 and poll polling strategies\n",
      "[W pthreadpool-cpp.cc:90] Warning: Leaking Caffe2 thread-pool after fork. (function pthreadpool)\n",
      "E0224 10:49:37.167789440    7532 fork_posix.cc:70]           Fork support is only compatible with the epoll1 and poll polling strategies\n",
      "[W pthreadpool-cpp.cc:90] Warning: Leaking Caffe2 thread-pool after fork. (function pthreadpool)\n",
      "E0224 10:49:37.210453688    7532 fork_posix.cc:70]           Fork support is only compatible with the epoll1 and poll polling strategies\n",
      "[W pthreadpool-cpp.cc:90] Warning: Leaking Caffe2 thread-pool after fork. (function pthreadpool)\n",
      "E0224 10:49:37.253122522    7532 fork_posix.cc:70]           Fork support is only compatible with the epoll1 and poll polling strategies\n",
      "[W pthreadpool-cpp.cc:90] Warning: Leaking Caffe2 thread-pool after fork. (function pthreadpool)\n",
      "E0224 10:49:39.618901749    7532 fork_posix.cc:70]           Fork support is only compatible with the epoll1 and poll polling strategies\n",
      "E0224 10:49:39.773636064    7532 fork_posix.cc:70]           Fork support is only compatible with the epoll1 and poll polling strategies\n",
      "[W pthreadpool-cpp.cc:90] Warning: Leaking Caffe2 thread-pool after fork. (function pthreadpool)\n",
      "[W pthreadpool-cpp.cc:90] Warning: Leaking Caffe2 thread-pool after fork. (function pthreadpool)\n",
      "[W pthreadpool-cpp.cc:90] Warning: Leaking Caffe2 thread-pool after fork. (function pthreadpool)\n",
      "[W pthreadpool-cpp.cc:90] Warning: Leaking Caffe2 thread-pool after fork. (function pthreadpool)\n",
      "[W pthreadpool-cpp.cc:90] Warning: Leaking Caffe2 thread-pool after fork. (function pthreadpool)\n",
      "[W pthreadpool-cpp.cc:90] Warning: Leaking Caffe2 thread-pool after fork. (function pthreadpool)\n",
      "[W pthreadpool-cpp.cc:90] Warning: Leaking Caffe2 thread-pool after fork. (function pthreadpool)\n"
     ]
    },
    {
     "data": {
      "application/vnd.jupyter.widget-view+json": {
       "model_id": "8abcafa5afb44330b0d35eca89bac892",
       "version_major": 2,
       "version_minor": 0
      },
      "text/plain": [
       "Validating: 0it [00:00, ?it/s]"
      ]
     },
     "metadata": {},
     "output_type": "display_data"
    },
    {
     "name": "stderr",
     "output_type": "stream",
     "text": [
      "E0224 10:49:41.324659884    7532 fork_posix.cc:70]           Fork support is only compatible with the epoll1 and poll polling strategies\n",
      "[W pthreadpool-cpp.cc:90] Warning: Leaking Caffe2 thread-pool after fork. (function pthreadpool)\n",
      "E0224 10:49:41.368163407    7532 fork_posix.cc:70]           Fork support is only compatible with the epoll1 and poll polling strategies\n",
      "[W pthreadpool-cpp.cc:90] Warning: Leaking Caffe2 thread-pool after fork. (function pthreadpool)\n",
      "E0224 10:49:41.410024859    7532 fork_posix.cc:70]           Fork support is only compatible with the epoll1 and poll polling strategies\n",
      "[W pthreadpool-cpp.cc:90] Warning: Leaking Caffe2 thread-pool after fork. (function pthreadpool)\n",
      "E0224 10:49:41.452399203    7532 fork_posix.cc:70]           Fork support is only compatible with the epoll1 and poll polling strategies\n",
      "[W pthreadpool-cpp.cc:90] Warning: Leaking Caffe2 thread-pool after fork. (function pthreadpool)\n",
      "E0224 10:49:41.494222800    7532 fork_posix.cc:70]           Fork support is only compatible with the epoll1 and poll polling strategies\n",
      "[W pthreadpool-cpp.cc:90] Warning: Leaking Caffe2 thread-pool after fork. (function pthreadpool)\n",
      "E0224 10:49:41.536613610    7532 fork_posix.cc:70]           Fork support is only compatible with the epoll1 and poll polling strategies\n",
      "[W pthreadpool-cpp.cc:90] Warning: Leaking Caffe2 thread-pool after fork. (function pthreadpool)\n",
      "E0224 10:49:41.578887391    7532 fork_posix.cc:70]           Fork support is only compatible with the epoll1 and poll polling strategies\n",
      "[W pthreadpool-cpp.cc:90] Warning: Leaking Caffe2 thread-pool after fork. (function pthreadpool)\n",
      "E0224 10:49:41.621068010    7532 fork_posix.cc:70]           Fork support is only compatible with the epoll1 and poll polling strategies\n",
      "[W pthreadpool-cpp.cc:90] Warning: Leaking Caffe2 thread-pool after fork. (function pthreadpool)\n",
      "[W pthreadpool-cpp.cc:90] Warning: Leaking Caffe2 thread-pool after fork. (function pthreadpool)\n"
     ]
    },
    {
     "data": {
      "text/plain": [
       "<nuplan.planning.training.experiments.training.TrainingEngine object at 0x7f78e1415a00>"
      ]
     },
     "execution_count": 5,
     "metadata": {},
     "output_type": "execute_result"
    }
   ],
   "source": [
    "from nuplan.planning.script.run_training import main as main_train\n",
    "\n",
    "# Run the training loop, optionally inspect training artifacts through tensorboard (above cell)\n",
    "main_train(cfg)"
   ]
  },
  {
   "cell_type": "markdown",
   "id": "cd570621",
   "metadata": {},
   "source": [
    "## Launch training (command line - alternative)"
   ]
  },
  {
   "cell_type": "markdown",
   "id": "d6ad67e5",
   "metadata": {},
   "source": [
    "A training experiment with the above same parameters can be launched alternatively with:\n",
    "```\n",
    "$ python nuplan/planning/script/run_training.py \\\n",
    "    experiment_name=raster_experiment \\\n",
    "    py_func=train \\\n",
    "    +training=training_raster_model \\\n",
    "    scenario_builder=nuplan_mini \\\n",
    "    scenario_builder.nuplan.scenario_filter.limit_scenarios_per_type=500 \\\n",
    "    scenario_builder.nuplan.scenario_filter.subsample_ratio=0.01 \\\n",
    "    lightning.trainer.params.max_epochs=10 \\\n",
    "    data_loader.params.batch_size=8 \\\n",
    "    data_loader.params.num_workers=8\n",
    "```"
   ]
  },
  {
   "cell_type": "markdown",
   "id": "184dc002",
   "metadata": {},
   "source": [
    "# Simulating a planner <a name=\"simulation\"></a>"
   ]
  },
  {
   "cell_type": "markdown",
   "id": "49758620",
   "metadata": {},
   "source": [
    "## Open-loop simulation\n",
    "Open-loop simulation aims to evaluate the policy's capabilities to imitate the expert driver's behavior.<br />\n",
    "This is essentially done through log replay as the policy's predictions do not affect the state of the simulation.\n",
    "\n",
    "As the policy is not in full control of the vehicle, this type of simulation can only provide a high-level performance overview.\n",
    "\n",
    "## Closed-loop simulation\n",
    "Conversely, in closed-loop simulation the policy's actions alter the state of the simulation which tries to closely approximate the real-world system.\n",
    "\n",
    "The simulation's feedback loop enables a more in-depth evaluation of the policy as compounding errors can cause future observations to significantly diverge from the ground truth.<br />\n",
    "This is important in measuring distribution shifts introduced due to lack of variance in training examples through pure imitation learning.\n",
    "\n",
    "Closed-loop simulation is further divided into two categories:\n",
    "* ego closed-loop simulation with agents replayed from log (open-loop, non reactive)\n",
    "* ego closed-loop simulation with agents controlled by a rule-based or learned policy (closed-loop, reactive)\n",
    "\n",
    "## Measuring success\n",
    "Measuring the success of a planning task and comparing various planning policies is a complicated effort that involves defining metrics across different vertical dimensions and scenario categories.<br />\n",
    "These metrics include indicators such as vehicle dynamics, traffic rule violations, expert imitation, navigation success etc.<br />\n",
    "Overall, they aim to capture the policy's ability to control the autonomous vehicle safely yet efficiently without compromising the passenger's comfort."
   ]
  },
  {
   "cell_type": "markdown",
   "id": "04359006",
   "metadata": {},
   "source": [
    "## Simulation parameters"
   ]
  },
  {
   "cell_type": "markdown",
   "id": "ebef8382",
   "metadata": {},
   "source": [
    "### Planners\n",
    "\n",
    "Change the planner model with `planner=X` where `X` is a config yaml defined in the table below. \n",
    "\n",
    "| Planner | Description | Config |\n",
    "| --- | --- | --- |\n",
    "| Simple Planner | Naive planner that only plans a straight path | `simple_planner` |\n",
    "| ML Planner | Learning-based planner trained using the nuPlan training framework (see previous section) | `ml_planner` |"
   ]
  },
  {
   "cell_type": "markdown",
   "id": "db903632",
   "metadata": {},
   "source": [
    "## Prepare the simulation config"
   ]
  },
  {
   "cell_type": "code",
   "execution_count": 21,
   "id": "112d1965",
   "metadata": {},
   "outputs": [
    {
     "name": "stderr",
     "output_type": "stream",
     "text": [
      "/home/fla/anaconda3/envs/nuplan/lib/python3.9/site-packages/hydra/_internal/defaults_list.py:251: UserWarning: In 'default_simulation': Defaults list is missing `_self_`. See https://hydra.cc/docs/upgrades/1.0_to_1.1/default_composition_order for more information\n",
      "  warnings.warn(msg, UserWarning)\n"
     ]
    }
   ],
   "source": [
    "# Location of path with all simulation configs\n",
    "CONFIG_PATH = '../nuplan/planning/script/config/simulation'\n",
    "CONFIG_NAME = 'default_simulation'\n",
    "\n",
    "# Select the planner and simulation challenge\n",
    "PLANNER = 'simple_planner'  # [simple_planner, ml_planner]\n",
    "CHALLENGE = 'challenge_1_open_loop_boxes'  # [challenge_1_open_loop_boxes, challenge_3_closed_loop_nonreactive_agents, challenge_4_closed_loop_reactive_agents]\n",
    "DATASET_PARAMS = [\n",
    "    'scenario_builder=nuplan_mini',  # use nuplan mini database\n",
    "    'scenario_builder/nuplan/scenario_filter=all_scenarios',  # initially select all scenarios in the database\n",
    "    'scenario_builder.nuplan.scenario_filter.scenario_types=[nearby_dense_vehicle_traffic, ego_at_pudo, ego_starts_unprotected_cross_turn, ego_high_curvature]',  # select scenario types\n",
    "    'scenario_builder.nuplan.scenario_filter.limit_scenarios_per_type=10',  # use 10 scenarios per scenario type\n",
    "    'scenario_builder.nuplan.scenario_filter.subsample_ratio=0.05',  # subsample 20s scenario from 20Hz to 1Hz\n",
    "]\n",
    "\n",
    "# Name of the experiment\n",
    "EXPERIMENT = 'simulation_simple_experiment'\n",
    "\n",
    "# Initialize configuration management system\n",
    "hydra.core.global_hydra.GlobalHydra.instance().clear()  # reinitialize hydra if already initialized\n",
    "hydra.initialize(config_path=CONFIG_PATH)\n",
    "\n",
    "# Compose the configuration\n",
    "cfg = hydra.compose(config_name=CONFIG_NAME, overrides=[\n",
    "    f'experiment_name={EXPERIMENT}',\n",
    "    f'group={SAVE_DIR}',\n",
    "    f'planner={PLANNER}',\n",
    "    f'+simulation={CHALLENGE}',\n",
    "    *DATASET_PARAMS,\n",
    "])"
   ]
  },
  {
   "cell_type": "markdown",
   "id": "12e79a0a",
   "metadata": {},
   "source": [
    "## Launch simulation (within the notebook)"
   ]
  },
  {
   "cell_type": "code",
   "execution_count": 31,
   "id": "ba7aab5b",
   "metadata": {},
   "outputs": [
    {
     "name": "stdout",
     "output_type": "stream",
     "text": [
      "[PosixPath('/home/fla/temp/tutorial_nuplan_framework/simulation_simple_experiment/2022.02.24.11.09.08/log.txt'), PosixPath('/home/fla/temp/tutorial_nuplan_framework/simulation_simple_experiment/2022.02.24.11.09.08/nuboard_1645672154.nuboard'), PosixPath('/home/fla/temp/tutorial_nuplan_framework/simulation_simple_experiment/2022.02.24.11.09.08/simulation'), PosixPath('/home/fla/temp/tutorial_nuplan_framework/simulation_simple_experiment/2022.02.24.11.09.08/metrics')]\n",
      "/home/fla/temp/tutorial_nuplan_framework/simulation_simple_experiment/2022.02.24.11.09.08/nuboard_1645672154.nuboard\n"
     ]
    }
   ],
   "source": [
    "from nuplan.planning.script.run_simulation import main as main_simulation\n",
    "\n",
    "# Run the simulation loop (real-time visualization not yet supported, see next section for visualization)\n",
    "# main_simulation(cfg)\n",
    "\n",
    "# Fetch the filesystem location of the simulation results file for visualization in nuBoard (next section)\n",
    "parent_dir = Path(SAVE_DIR) / EXPERIMENT\n",
    "\n",
    "results_dir = (sorted(list(parent_dir.iterdir())))[-1]  # get the child dir\n",
    "print(list(results_dir.iterdir()))\n",
    "nuboard_file_1 = [str(file) for file in results_dir.iterdir() if file.is_file() and file.suffix == '.nuboard'][0]\n",
    "print(nuboard_file_1)"
   ]
  },
  {
   "cell_type": "markdown",
   "id": "8b6c1fb9",
   "metadata": {},
   "source": [
    "## Launch simulation (command line - alternative)"
   ]
  },
  {
   "cell_type": "markdown",
   "id": "cc9b23af",
   "metadata": {},
   "source": [
    "A simulation experiment can be launched alternatively with:\n",
    "```\n",
    "$ python nuplan/planning/script/run_simulation.py \\\n",
    "    +simulation=challenge_1_open_loop_boxes \\\n",
    "    planner=simple_planner \\\n",
    "    scenario_builder=nuplan_mini \\\n",
    "    scenario_builder/nuplan/scenario_filter=all_scenarios \\\n",
    "    scenario_builder.nuplan.scenario_filter.scenario_types=\"[nearby_dense_vehicle_traffic, ego_at_pudo, ego_starts_unprotected_cross_turn, ego_high_curvature]\" \\\n",
    "    scenario_builder.nuplan.scenario_filter.limit_scenarios_per_type=10 \\\n",
    "    scenario_builder.nuplan.scenario_filter.subsample_ratio=0.05\n",
    "```"
   ]
  },
  {
   "cell_type": "markdown",
   "id": "557a181f",
   "metadata": {},
   "source": [
    "## Simulate a trained ML planner for comparison\n",
    "\n",
    "Using the same simulation settings as before, we can simulate a pretrained ML planner and compare the two.\n",
    "\n",
    "In this example you can take the model you trained earlier."
   ]
  },
  {
   "cell_type": "code",
   "execution_count": 16,
   "id": "ba4dc68c",
   "metadata": {
    "pycharm": {
     "name": "#%%\n"
    }
   },
   "outputs": [
    {
     "name": "stdout",
     "output_type": "stream",
     "text": [
      "2022-02-24 11:04:20,779 INFO {/home/fla/nuplan-devkit/nuplan/planning/script/run_simulation.py:126}  Building planners...\n",
      "2022-02-24 11:04:20,779 INFO {/home/fla/nuplan-devkit/nuplan/planning/script/run_simulation.py:126}  Building planners...\n",
      "2022-02-24 11:04:20,780 INFO {/home/fla/nuplan-devkit/nuplan/planning/script/builders/model_builder.py:18}  Building NNModule...\n",
      "2022-02-24 11:04:20,780 INFO {/home/fla/nuplan-devkit/nuplan/planning/script/builders/model_builder.py:18}  Building NNModule...\n",
      "2022-02-24 11:04:21,000 INFO {/home/fla/anaconda3/envs/nuplan/lib/python3.9/site-packages/timm/models/helpers.py:188}  Loading pretrained weights from url (https://github.com/rwightman/pytorch-image-models/releases/download/v0.1-rsb-weights/resnet50_a1_0-14fe96d1.pth)\n",
      "2022-02-24 11:04:21,000 INFO {/home/fla/anaconda3/envs/nuplan/lib/python3.9/site-packages/timm/models/helpers.py:188}  Loading pretrained weights from url (https://github.com/rwightman/pytorch-image-models/releases/download/v0.1-rsb-weights/resnet50_a1_0-14fe96d1.pth)\n",
      "2022-02-24 11:04:21,190 INFO {/home/fla/anaconda3/envs/nuplan/lib/python3.9/site-packages/timm/models/helpers.py:208}  Converted input conv conv1 pretrained weights from 3 to 4 channel(s)\n",
      "2022-02-24 11:04:21,190 INFO {/home/fla/anaconda3/envs/nuplan/lib/python3.9/site-packages/timm/models/helpers.py:208}  Converted input conv conv1 pretrained weights from 3 to 4 channel(s)\n",
      "2022-02-24 11:04:21,217 INFO {/home/fla/nuplan-devkit/nuplan/planning/script/builders/model_builder.py:21}  Building NNModule...DONE!\n",
      "2022-02-24 11:04:21,217 INFO {/home/fla/nuplan-devkit/nuplan/planning/script/builders/model_builder.py:21}  Building NNModule...DONE!\n"
     ]
    },
    {
     "name": "stderr",
     "output_type": "stream",
     "text": [
      "Global seed set to 0\n"
     ]
    },
    {
     "name": "stdout",
     "output_type": "stream",
     "text": [
      "2022-02-24 11:04:21,837 INFO {/home/fla/nuplan-devkit/nuplan/planning/script/run_simulation.py:128}  Building planners...DONE!\n",
      "2022-02-24 11:04:21,837 INFO {/home/fla/nuplan-devkit/nuplan/planning/script/run_simulation.py:128}  Building planners...DONE!\n",
      "2022-02-24 11:04:21,847 INFO {/home/fla/nuplan-devkit/nuplan/planning/script/builders/worker_pool_builder.py:18}  Building WorkerPool...\n",
      "2022-02-24 11:04:21,847 INFO {/home/fla/nuplan-devkit/nuplan/planning/script/builders/worker_pool_builder.py:18}  Building WorkerPool...\n",
      "2022-02-24 11:04:21,848 WARNING {/home/fla/nuplan-devkit/nuplan/planning/utils/multithreading/worker_ray.py:98}  Ray is running, we will shut it down before starting again!\n",
      "2022-02-24 11:04:21,848 WARNING {/home/fla/nuplan-devkit/nuplan/planning/utils/multithreading/worker_ray.py:98}  Ray is running, we will shut it down before starting again!\n",
      "2022-02-24 11:04:23,537 INFO {/home/fla/nuplan-devkit/nuplan/planning/utils/multithreading/worker_ray.py:63}  Starting ray local!\n",
      "2022-02-24 11:04:23,537 INFO {/home/fla/nuplan-devkit/nuplan/planning/utils/multithreading/worker_ray.py:63}  Starting ray local!\n"
     ]
    },
    {
     "name": "stderr",
     "output_type": "stream",
     "text": [
      "E0224 11:04:23.541703956    7532 fork_posix.cc:70]           Fork support is only compatible with the epoll1 and poll polling strategies\n",
      "E0224 11:04:23.660419278    7532 fork_posix.cc:70]           Fork support is only compatible with the epoll1 and poll polling strategies\n",
      "E0224 11:04:23.778319250    7532 fork_posix.cc:70]           Fork support is only compatible with the epoll1 and poll polling strategies\n",
      "E0224 11:04:24.890796398    7532 fork_posix.cc:70]           Fork support is only compatible with the epoll1 and poll polling strategies\n",
      "E0224 11:04:25.014354687    7532 fork_posix.cc:70]           Fork support is only compatible with the epoll1 and poll polling strategies\n",
      "2022-02-24 11:04:25,726\tINFO services.py:1374 -- View the Ray dashboard at \u001b[1m\u001b[32mhttp://172.21.2.20:8265\u001b[39m\u001b[22m\n",
      "E0224 11:04:25.730838096    7532 fork_posix.cc:70]           Fork support is only compatible with the epoll1 and poll polling strategies\n",
      "E0224 11:04:25.835359242    7532 fork_posix.cc:70]           Fork support is only compatible with the epoll1 and poll polling strategies\n"
     ]
    },
    {
     "name": "stdout",
     "output_type": "stream",
     "text": [
      "2022-02-24 11:04:27,127 INFO {/home/fla/nuplan-devkit/nuplan/planning/utils/multithreading/worker_pool.py:95}  Worker: RayDistributed\n",
      "2022-02-24 11:04:27,127 INFO {/home/fla/nuplan-devkit/nuplan/planning/utils/multithreading/worker_pool.py:95}  Worker: RayDistributed\n",
      "2022-02-24 11:04:27,129 INFO {/home/fla/nuplan-devkit/nuplan/planning/utils/multithreading/worker_pool.py:96}  Number of nodes: 1\n",
      "Number of CPUs per node: 12\n",
      "Number of GPUs per node: 1\n",
      "Number of threads across all nodes: 12\n",
      "2022-02-24 11:04:27,129 INFO {/home/fla/nuplan-devkit/nuplan/planning/utils/multithreading/worker_pool.py:96}  Number of nodes: 1\n",
      "Number of CPUs per node: 12\n",
      "Number of GPUs per node: 1\n",
      "Number of threads across all nodes: 12\n",
      "2022-02-24 11:04:27,132 INFO {/home/fla/nuplan-devkit/nuplan/planning/script/builders/worker_pool_builder.py:21}  Building WorkerPool...DONE!\n",
      "2022-02-24 11:04:27,132 INFO {/home/fla/nuplan-devkit/nuplan/planning/script/builders/worker_pool_builder.py:21}  Building WorkerPool...DONE!\n",
      "2022-02-24 11:04:27,135 INFO {/home/fla/nuplan-devkit/nuplan/planning/script/builders/folder_builder.py:28}  Building experiment folders...\n",
      "2022-02-24 11:04:27,135 INFO {/home/fla/nuplan-devkit/nuplan/planning/script/builders/folder_builder.py:28}  Building experiment folders...\n",
      "2022-02-24 11:04:27,138 INFO {/home/fla/nuplan-devkit/nuplan/planning/script/builders/folder_builder.py:30}  \n",
      "\n",
      "\tFolder where all results are stored: /home/fla/temp/tutorial_nuplan_framework/simulation_raster_experiment/2022.02.24.11.04.21\n",
      "\n",
      "2022-02-24 11:04:27,138 INFO {/home/fla/nuplan-devkit/nuplan/planning/script/builders/folder_builder.py:30}  \n",
      "\n",
      "\tFolder where all results are stored: /home/fla/temp/tutorial_nuplan_framework/simulation_raster_experiment/2022.02.24.11.04.21\n",
      "\n",
      "2022-02-24 11:04:27,142 INFO {/home/fla/nuplan-devkit/nuplan/planning/script/builders/folder_builder.py:42}  Building experiment folders...DONE!\n",
      "2022-02-24 11:04:27,142 INFO {/home/fla/nuplan-devkit/nuplan/planning/script/builders/folder_builder.py:42}  Building experiment folders...DONE!\n",
      "2022-02-24 11:04:27,144 INFO {/home/fla/nuplan-devkit/nuplan/planning/script/builders/simulation_callback_builder.py:23}  Building AbstractCallback...\n",
      "2022-02-24 11:04:27,144 INFO {/home/fla/nuplan-devkit/nuplan/planning/script/builders/simulation_callback_builder.py:23}  Building AbstractCallback...\n",
      "2022-02-24 11:04:27,156 INFO {/home/fla/nuplan-devkit/nuplan/planning/script/builders/simulation_callback_builder.py:36}  Building AbstractCallback...DONE!\n",
      "2022-02-24 11:04:27,156 INFO {/home/fla/nuplan-devkit/nuplan/planning/script/builders/simulation_callback_builder.py:36}  Building AbstractCallback...DONE!\n",
      "2022-02-24 11:04:27,158 INFO {/home/fla/nuplan-devkit/nuplan/planning/script/builders/scenario_building_builder.py:17}  Building AbstractScenarioBuilder...\n",
      "2022-02-24 11:04:27,158 INFO {/home/fla/nuplan-devkit/nuplan/planning/script/builders/scenario_building_builder.py:17}  Building AbstractScenarioBuilder...\n",
      "2022-02-24 11:04:27,174 INFO {/home/fla/nuplan-devkit/nuplan/planning/script/builders/scenario_building_builder.py:20}  Building AbstractScenarioBuilder...DONE!\n",
      "2022-02-24 11:04:27,174 INFO {/home/fla/nuplan-devkit/nuplan/planning/script/builders/scenario_building_builder.py:20}  Building AbstractScenarioBuilder...DONE!\n",
      "2022-02-24 11:04:27,174 INFO {/home/fla/nuplan-devkit/nuplan/planning/script/builders/simulation_builder.py:37}  Building simulations...\n",
      "2022-02-24 11:04:27,174 INFO {/home/fla/nuplan-devkit/nuplan/planning/script/builders/simulation_builder.py:37}  Building simulations...\n",
      "2022-02-24 11:04:27,175 INFO {/home/fla/nuplan-devkit/nuplan/planning/script/builders/scenario_filter_builder.py:19}  Building ScenarioFilter...\n",
      "2022-02-24 11:04:27,175 INFO {/home/fla/nuplan-devkit/nuplan/planning/script/builders/scenario_filter_builder.py:19}  Building ScenarioFilter...\n",
      "2022-02-24 11:04:27,179 INFO {/home/fla/nuplan-devkit/nuplan/planning/script/builders/scenario_filter_builder.py:22}  Building ScenarioFilter...DONE!\n",
      "2022-02-24 11:04:27,179 INFO {/home/fla/nuplan-devkit/nuplan/planning/script/builders/scenario_filter_builder.py:22}  Building ScenarioFilter...DONE!\n",
      "2022-02-24 11:04:27,181 INFO {/home/fla/nuplan-devkit/nuplan/planning/script/builders/simulation_builder.py:44}  Extracting scenarios...\n",
      "2022-02-24 11:04:27,181 INFO {/home/fla/nuplan-devkit/nuplan/planning/script/builders/simulation_builder.py:44}  Extracting scenarios...\n",
      "2022-02-24 11:04:27,181 INFO {/home/fla/nuplan-devkit/nuplan/planning/scenario_builder/nuplan_db/nuplan_scenario_builder.py:121}  Initial scenario filtering...\n",
      "2022-02-24 11:04:27,181 INFO {/home/fla/nuplan-devkit/nuplan/planning/scenario_builder/nuplan_db/nuplan_scenario_builder.py:121}  Initial scenario filtering...\n",
      "2022-02-24 11:04:27,205 INFO {/home/fla/nuplan-devkit/nuplan/planning/scenario_builder/nuplan_db/nuplan_scenario_builder.py:142}  Initial scenario filtering...DONE\n",
      "2022-02-24 11:04:27,205 INFO {/home/fla/nuplan-devkit/nuplan/planning/scenario_builder/nuplan_db/nuplan_scenario_builder.py:142}  Initial scenario filtering...DONE\n",
      "2022-02-24 11:04:27,206 INFO {/home/fla/nuplan-devkit/nuplan/planning/scenario_builder/nuplan_db/nuplan_scenario_builder.py:162}  Limit scenario number by scenario type...\n",
      "2022-02-24 11:04:27,206 INFO {/home/fla/nuplan-devkit/nuplan/planning/scenario_builder/nuplan_db/nuplan_scenario_builder.py:162}  Limit scenario number by scenario type...\n",
      "2022-02-24 11:04:27,206 INFO {/home/fla/nuplan-devkit/nuplan/planning/scenario_builder/nuplan_db/nuplan_scenario_builder.py:174}  Limit scenario number by scenario type...DONE\n",
      "2022-02-24 11:04:27,206 INFO {/home/fla/nuplan-devkit/nuplan/planning/scenario_builder/nuplan_db/nuplan_scenario_builder.py:174}  Limit scenario number by scenario type...DONE\n",
      "2022-02-24 11:04:27,206 INFO {/home/fla/nuplan-devkit/nuplan/planning/scenario_builder/nuplan_db/nuplan_scenario_builder.py:184}  Converting scenarios to AbstractScenario...\n",
      "2022-02-24 11:04:27,206 INFO {/home/fla/nuplan-devkit/nuplan/planning/scenario_builder/nuplan_db/nuplan_scenario_builder.py:184}  Converting scenarios to AbstractScenario...\n",
      "2022-02-24 11:04:27,207 INFO {/home/fla/nuplan-devkit/nuplan/planning/utils/multithreading/worker_pool.py:107}  Submitting 12 tasks!\n",
      "2022-02-24 11:04:27,207 INFO {/home/fla/nuplan-devkit/nuplan/planning/utils/multithreading/worker_pool.py:107}  Submitting 12 tasks!\n"
     ]
    },
    {
     "name": "stderr",
     "output_type": "stream",
     "text": [
      "Ray objects: 100%|██████████| 12/12 [00:02<00:00,  5.79it/s]\n"
     ]
    },
    {
     "name": "stdout",
     "output_type": "stream",
     "text": [
      "2022-02-24 11:04:29,291 INFO {/home/fla/nuplan-devkit/nuplan/planning/scenario_builder/nuplan_db/nuplan_scenario_builder.py:195}  Converting scenarios to AbstractScenario...DONE\n",
      "2022-02-24 11:04:29,291 INFO {/home/fla/nuplan-devkit/nuplan/planning/scenario_builder/nuplan_db/nuplan_scenario_builder.py:195}  Converting scenarios to AbstractScenario...DONE\n",
      "2022-02-24 11:04:29,291 INFO {/home/fla/nuplan-devkit/nuplan/planning/scenario_builder/nuplan_db/nuplan_scenario_builder.py:226}  Total number of extracted scenarios: 27!\n",
      "2022-02-24 11:04:29,291 INFO {/home/fla/nuplan-devkit/nuplan/planning/scenario_builder/nuplan_db/nuplan_scenario_builder.py:226}  Total number of extracted scenarios: 27!\n",
      "2022-02-24 11:04:29,291 INFO {/home/fla/nuplan-devkit/nuplan/planning/script/builders/simulation_builder.py:46}  Extracting scenarios...DONE!\n",
      "2022-02-24 11:04:29,291 INFO {/home/fla/nuplan-devkit/nuplan/planning/script/builders/simulation_builder.py:46}  Extracting scenarios...DONE!\n",
      "2022-02-24 11:04:29,292 INFO {/home/fla/nuplan-devkit/nuplan/planning/script/builders/simulation_builder.py:48}  Building metric engines...\n",
      "2022-02-24 11:04:29,292 INFO {/home/fla/nuplan-devkit/nuplan/planning/script/builders/simulation_builder.py:48}  Building metric engines...\n",
      "2022-02-24 11:04:29,323 INFO {/home/fla/nuplan-devkit/nuplan/planning/script/builders/simulation_builder.py:50}  Building metric engines...DONE\n",
      "2022-02-24 11:04:29,323 INFO {/home/fla/nuplan-devkit/nuplan/planning/script/builders/simulation_builder.py:50}  Building metric engines...DONE\n",
      "2022-02-24 11:04:29,324 INFO {/home/fla/nuplan-devkit/nuplan/planning/script/builders/simulation_builder.py:52}  Building simulations from 1 planners and 27 scenarios...\n",
      "2022-02-24 11:04:29,324 INFO {/home/fla/nuplan-devkit/nuplan/planning/script/builders/simulation_builder.py:52}  Building simulations from 1 planners and 27 scenarios...\n",
      "2022-02-24 11:04:29,458 INFO {/home/fla/nuplan-devkit/nuplan/planning/script/builders/simulation_builder.py:85}  Building simulations...DONE!\n",
      "2022-02-24 11:04:29,458 INFO {/home/fla/nuplan-devkit/nuplan/planning/script/builders/simulation_builder.py:85}  Building simulations...DONE!\n",
      "2022-02-24 11:04:29,459 INFO {/home/fla/nuplan-devkit/nuplan/planning/script/run_simulation.py:96}  Running simulation...\n",
      "2022-02-24 11:04:29,459 INFO {/home/fla/nuplan-devkit/nuplan/planning/script/run_simulation.py:96}  Running simulation...\n",
      "2022-02-24 11:04:29,459 INFO {/home/fla/nuplan-devkit/nuplan/planning/simulation/runner.py:68}  Starting 27 simulations using RayDistributed!\n",
      "2022-02-24 11:04:29,459 INFO {/home/fla/nuplan-devkit/nuplan/planning/simulation/runner.py:68}  Starting 27 simulations using RayDistributed!\n",
      "2022-02-24 11:04:29,459 INFO {/home/fla/nuplan-devkit/nuplan/planning/utils/multithreading/worker_pool.py:107}  Submitting 27 tasks!\n",
      "2022-02-24 11:04:29,459 INFO {/home/fla/nuplan-devkit/nuplan/planning/utils/multithreading/worker_pool.py:107}  Submitting 27 tasks!\n"
     ]
    },
    {
     "name": "stderr",
     "output_type": "stream",
     "text": [
      "Ray objects: 100%|██████████| 27/27 [02:12<00:00,  4.91s/it]"
     ]
    },
    {
     "name": "stdout",
     "output_type": "stream",
     "text": [
      "2022-02-24 11:06:45,796 INFO {/home/fla/nuplan-devkit/nuplan/planning/simulation/runner.py:74}  Number of successful simulations: 27\n",
      "2022-02-24 11:06:45,796 INFO {/home/fla/nuplan-devkit/nuplan/planning/simulation/runner.py:74}  Number of successful simulations: 27\n",
      "2022-02-24 11:06:45,796 INFO {/home/fla/nuplan-devkit/nuplan/planning/simulation/runner.py:75}  Number of failed simulations: 0\n",
      "2022-02-24 11:06:45,796 INFO {/home/fla/nuplan-devkit/nuplan/planning/simulation/runner.py:75}  Number of failed simulations: 0\n",
      "2022-02-24 11:06:45,796 INFO {/home/fla/nuplan-devkit/nuplan/planning/script/run_simulation.py:102}  Finished running simulation!\n",
      "2022-02-24 11:06:45,796 INFO {/home/fla/nuplan-devkit/nuplan/planning/script/run_simulation.py:102}  Finished running simulation!\n",
      "2022-02-24 11:06:45,796 INFO {/home/fla/nuplan-devkit/nuplan/planning/script/run_simulation.py:111}  Simulation duration: 00:02:23 [HH:MM:SS]\n",
      "2022-02-24 11:06:45,796 INFO {/home/fla/nuplan-devkit/nuplan/planning/script/run_simulation.py:111}  Simulation duration: 00:02:23 [HH:MM:SS]\n"
     ]
    },
    {
     "name": "stderr",
     "output_type": "stream",
     "text": [
      "\n"
     ]
    }
   ],
   "source": [
    "# Location of path with all simulation configs\n",
    "CONFIG_PATH = '../nuplan/planning/script/config/simulation'\n",
    "CONFIG_NAME = 'default_simulation'\n",
    "\n",
    "# Get the checkpoint of the trained model\n",
    "last_experiment = sorted(os.listdir(LOG_DIR))[-1]\n",
    "train_experiment_dir = sorted(Path(LOG_DIR).iterdir())[-1]\n",
    "checkpoint = sorted((train_experiment_dir / 'checkpoints').iterdir())[-1]\n",
    "\n",
    "MODEL_PATH = str(checkpoint).replace(\"=\", \"\\=\")\n",
    "\n",
    "# Name of the experiment\n",
    "EXPERIMENT = 'simulation_raster_experiment'\n",
    "\n",
    "# Initialize configuration management system\n",
    "hydra.core.global_hydra.GlobalHydra.instance().clear()  # reinitialize hydra if already initialized\n",
    "hydra.initialize(config_path=CONFIG_PATH)\n",
    "\n",
    "# Compose the configuration\n",
    "cfg = hydra.compose(config_name=CONFIG_NAME, overrides=[\n",
    "    f'experiment_name={EXPERIMENT}',\n",
    "    f'group={SAVE_DIR}',\n",
    "    'planner=ml_planner',\n",
    "    'model=raster_model',\n",
    "    'planner.model_config=${model}',  # hydra notation to select model config\n",
    "    f'planner.checkpoint_path={MODEL_PATH}',  # this path can be replaced by the checkpoint of the model trained in the previous section\n",
    "    f'+simulation={CHALLENGE}',\n",
    "    *DATASET_PARAMS,\n",
    "])\n",
    "\n",
    "# Run the simulation loop\n",
    "main_simulation(cfg)\n",
    "\n",
    "# Fetch the filesystem location of the simulation results file for visualization in nuBoard (next section)\n",
    "parent_dir = Path(SAVE_DIR) / EXPERIMENT\n",
    "results_dir = list(parent_dir.iterdir())[-1]  # get the child dir\n",
    "nuboard_file_2 = [str(file) for file in results_dir.iterdir() if file.is_file() and file.suffix == '.nuboard'][0]"
   ]
  },
  {
   "cell_type": "markdown",
   "id": "ae7a31f9",
   "metadata": {},
   "source": [
    "# Visualizing metrics and scenarios <a name=\"dashboard\"></a>"
   ]
  },
  {
   "cell_type": "markdown",
   "id": "fa24ae5b",
   "metadata": {},
   "source": [
    "## nuBoard summary\n",
    "\n",
    "Having trained and simulated planners across various scenarios and driving behaviors, it's time to evaluate them:\n",
    "* quantitatively, through common and scenario dependent metrics\n",
    "* qualitatively, through visualization of scenario progression\n",
    "\n",
    "### nuBoard tabs\n",
    "To achieve that, nuBoard has 3 core evaluation tabs:\n",
    "1. Overview - Scalar metrics summary of common and scenario metrics across the following categories:\n",
    "    * Ego dynamics\n",
    "    * Traffic violations\n",
    "    * Expert imitation\n",
    "    * Planning & navigation\n",
    "    * Scenario performance\n",
    "2. Histograms - Histograms over metric statistics for more a granular peek inside each metric focusing on:\n",
    "    * Metric statistics (e.g. min, max, p90)\n",
    "3. Scenarios - Low-level scenario visualizations:\n",
    "    * Time-series progression of a specific metric across a scenario\n",
    "    * Top-down visualization of the scenario across time for comparing predicted vs. expert trajectories\n",
    "\n",
    "In addition, there is a main configuration tab for selecting different simulation files for comparing planners/experiments.\n",
    "\n",
    "<br />\n",
    "\n",
    "**NOTE**: nuBoard is under heavy developement, overall functionality and aesthetics do not represent the final product!"
   ]
  },
  {
   "cell_type": "markdown",
   "id": "1d8edb17",
   "metadata": {},
   "source": [
    "## Prepare the nuBoard config"
   ]
  },
  {
   "cell_type": "code",
   "execution_count": 32,
   "id": "42434f46",
   "metadata": {},
   "outputs": [
    {
     "name": "stdout",
     "output_type": "stream",
     "text": [
      "/home/fla/temp/tutorial_nuplan_framework/simulation_simple_experiment/2022.02.24.11.09.08/nuboard_1645672154.nuboard /home/fla/temp/tutorial_nuplan_framework/simulation_raster_experiment/2022.02.24.10.50.57/nuboard_1645671062.nuboard\n"
     ]
    },
    {
     "name": "stderr",
     "output_type": "stream",
     "text": [
      "/home/fla/anaconda3/envs/nuplan/lib/python3.9/site-packages/hydra/_internal/defaults_list.py:251: UserWarning: In 'default_nuboard': Defaults list is missing `_self_`. See https://hydra.cc/docs/upgrades/1.0_to_1.1/default_composition_order for more information\n",
      "  warnings.warn(msg, UserWarning)\n"
     ]
    }
   ],
   "source": [
    "# Location of path with all nuBoard configs\n",
    "CONFIG_PATH = '../nuplan/planning/script/config/nuboard'\n",
    "CONFIG_NAME = 'default_nuboard'\n",
    "\n",
    "# Initialize configuration management system\n",
    "hydra.core.global_hydra.GlobalHydra.instance().clear()  # reinitialize hydra if already initialized\n",
    "hydra.initialize(config_path=CONFIG_PATH)\n",
    "\n",
    "# Compose the configuration\n",
    "print(nuboard_file_1, nuboard_file_2)\n",
    "cfg = hydra.compose(config_name=CONFIG_NAME, overrides=[\n",
    "    'scenario_builder=nuplan_mini',  # set the database (same as simulation) used to fetch data for visualization\n",
    "    f'simulation_path={[nuboard_file_1, nuboard_file_2]}',  # nuboard file path(s), if left empty the user can open the file inside nuBoard\n",
    "])"
   ]
  },
  {
   "cell_type": "markdown",
   "id": "3420d0c5",
   "metadata": {},
   "source": [
    "## Launch nuBoard (open in new tab - recommended)"
   ]
  },
  {
   "cell_type": "code",
   "execution_count": 33,
   "id": "f114e9bf",
   "metadata": {
    "scrolled": false
   },
   "outputs": [
    {
     "name": "stdout",
     "output_type": "stream",
     "text": [
      "2022-02-24 11:25:53,851 INFO {/home/fla/nuplan-devkit/nuplan/planning/script/builders/scenario_building_builder.py:17}  Building AbstractScenarioBuilder...\n",
      "2022-02-24 11:25:53,851 INFO {/home/fla/nuplan-devkit/nuplan/planning/script/builders/scenario_building_builder.py:17}  Building AbstractScenarioBuilder...\n",
      "2022-02-24 11:25:53,853 INFO {/home/fla/nuplan-devkit/nuplan/planning/script/builders/scenario_building_builder.py:20}  Building AbstractScenarioBuilder...DONE!\n",
      "2022-02-24 11:25:53,853 INFO {/home/fla/nuplan-devkit/nuplan/planning/script/builders/scenario_building_builder.py:20}  Building AbstractScenarioBuilder...DONE!\n",
      "2022-02-24 11:25:53,854 INFO {/home/fla/nuplan-devkit/nuplan/planning/script/builders/metric_builder.py:15}  Building metric categories...\n",
      "2022-02-24 11:25:53,854 INFO {/home/fla/nuplan-devkit/nuplan/planning/script/builders/metric_builder.py:15}  Building metric categories...\n",
      "2022-02-24 11:25:53,854 INFO {/home/fla/nuplan-devkit/nuplan/planning/script/builders/metric_builder.py:24}  Building metric categories...Done!\n",
      "2022-02-24 11:25:53,854 INFO {/home/fla/nuplan-devkit/nuplan/planning/script/builders/metric_builder.py:24}  Building metric categories...Done!\n",
      "2022-02-24 11:25:53,855 INFO {/home/fla/nuplan-devkit/nuplan/planning/nuboard/nuboard.py:69}  Opening Bokeh application on http://localhost:5007/\n",
      "2022-02-24 11:25:53,855 INFO {/home/fla/nuplan-devkit/nuplan/planning/nuboard/nuboard.py:69}  Opening Bokeh application on http://localhost:5007/\n",
      "2022-02-24 11:25:53,855 INFO {/home/fla/anaconda3/envs/nuplan/lib/python3.9/site-packages/bokeh/server/server.py:403}  Starting Bokeh server version 2.4.2 (running on Tornado 6.1)\n",
      "2022-02-24 11:25:53,855 INFO {/home/fla/anaconda3/envs/nuplan/lib/python3.9/site-packages/bokeh/server/server.py:403}  Starting Bokeh server version 2.4.2 (running on Tornado 6.1)\n",
      "2022-02-24 11:25:53,856 INFO {/home/fla/anaconda3/envs/nuplan/lib/python3.9/site-packages/bokeh/server/tornado.py:360}  User authentication hooks NOT provided (default user enabled)\n",
      "2022-02-24 11:25:53,856 INFO {/home/fla/anaconda3/envs/nuplan/lib/python3.9/site-packages/bokeh/server/tornado.py:360}  User authentication hooks NOT provided (default user enabled)\n"
     ]
    },
    {
     "ename": "RuntimeError",
     "evalue": "This event loop is already running",
     "output_type": "error",
     "traceback": [
      "\u001b[0;31m---------------------------------------------------------------------------\u001b[0m",
      "\u001b[0;31mRuntimeError\u001b[0m                              Traceback (most recent call last)",
      "Input \u001b[0;32mIn [33]\u001b[0m, in \u001b[0;36m<module>\u001b[0;34m\u001b[0m\n\u001b[1;32m      1\u001b[0m \u001b[38;5;28;01mfrom\u001b[39;00m \u001b[38;5;21;01mnuplan\u001b[39;00m\u001b[38;5;21;01m.\u001b[39;00m\u001b[38;5;21;01mplanning\u001b[39;00m\u001b[38;5;21;01m.\u001b[39;00m\u001b[38;5;21;01mscript\u001b[39;00m\u001b[38;5;21;01m.\u001b[39;00m\u001b[38;5;21;01mrun_nuboard\u001b[39;00m \u001b[38;5;28;01mimport\u001b[39;00m main \u001b[38;5;28;01mas\u001b[39;00m main_nuboard\n\u001b[1;32m      3\u001b[0m \u001b[38;5;66;03m# Run nuBoard\u001b[39;00m\n\u001b[0;32m----> 4\u001b[0m \u001b[43mmain_nuboard\u001b[49m\u001b[43m(\u001b[49m\u001b[43mcfg\u001b[49m\u001b[43m)\u001b[49m\n",
      "File \u001b[0;32m~/anaconda3/envs/nuplan/lib/python3.9/site-packages/hydra/main.py:43\u001b[0m, in \u001b[0;36mmain.<locals>.main_decorator.<locals>.decorated_main\u001b[0;34m(cfg_passthrough)\u001b[0m\n\u001b[1;32m     40\u001b[0m \u001b[38;5;129m@functools\u001b[39m\u001b[38;5;241m.\u001b[39mwraps(task_function)\n\u001b[1;32m     41\u001b[0m \u001b[38;5;28;01mdef\u001b[39;00m \u001b[38;5;21mdecorated_main\u001b[39m(cfg_passthrough: Optional[DictConfig] \u001b[38;5;241m=\u001b[39m \u001b[38;5;28;01mNone\u001b[39;00m) \u001b[38;5;241m-\u001b[39m\u001b[38;5;241m>\u001b[39m Any:\n\u001b[1;32m     42\u001b[0m     \u001b[38;5;28;01mif\u001b[39;00m cfg_passthrough \u001b[38;5;129;01mis\u001b[39;00m \u001b[38;5;129;01mnot\u001b[39;00m \u001b[38;5;28;01mNone\u001b[39;00m:\n\u001b[0;32m---> 43\u001b[0m         \u001b[38;5;28;01mreturn\u001b[39;00m \u001b[43mtask_function\u001b[49m\u001b[43m(\u001b[49m\u001b[43mcfg_passthrough\u001b[49m\u001b[43m)\u001b[49m\n\u001b[1;32m     44\u001b[0m     \u001b[38;5;28;01melse\u001b[39;00m:\n\u001b[1;32m     45\u001b[0m         args \u001b[38;5;241m=\u001b[39m get_args_parser()\n",
      "File \u001b[0;32m~/nuplan-devkit/nuplan/planning/script/run_nuboard.py:64\u001b[0m, in \u001b[0;36mmain\u001b[0;34m(cfg)\u001b[0m\n\u001b[1;32m     59\u001b[0m \u001b[38;5;124;03m\"\"\"\u001b[39;00m\n\u001b[1;32m     60\u001b[0m \u001b[38;5;124;03mExecute all available challenges simultaneously on the same scenario.\u001b[39;00m\n\u001b[1;32m     61\u001b[0m \u001b[38;5;124;03m:param cfg: DictConfig. Configuration that is used to run the experiment.\u001b[39;00m\n\u001b[1;32m     62\u001b[0m \u001b[38;5;124;03m\"\"\"\u001b[39;00m\n\u001b[1;32m     63\u001b[0m nuboard \u001b[38;5;241m=\u001b[39m initialize_nuboard(cfg)\n\u001b[0;32m---> 64\u001b[0m \u001b[43mnuboard\u001b[49m\u001b[38;5;241;43m.\u001b[39;49m\u001b[43mrun\u001b[49m\u001b[43m(\u001b[49m\u001b[43m)\u001b[49m\n",
      "File \u001b[0;32m~/nuplan-devkit/nuplan/planning/nuboard/nuboard.py:89\u001b[0m, in \u001b[0;36mNuBoard.run\u001b[0;34m(self)\u001b[0m\n\u001b[1;32m     86\u001b[0m server\u001b[38;5;241m.\u001b[39mstart()\n\u001b[1;32m     88\u001b[0m io_loop\u001b[38;5;241m.\u001b[39madd_callback(server\u001b[38;5;241m.\u001b[39mshow, \u001b[38;5;124m\"\u001b[39m\u001b[38;5;124m/\u001b[39m\u001b[38;5;124m\"\u001b[39m)\n\u001b[0;32m---> 89\u001b[0m \u001b[43mio_loop\u001b[49m\u001b[38;5;241;43m.\u001b[39;49m\u001b[43mstart\u001b[49m\u001b[43m(\u001b[49m\u001b[43m)\u001b[49m\n",
      "File \u001b[0;32m~/anaconda3/envs/nuplan/lib/python3.9/site-packages/tornado/platform/asyncio.py:199\u001b[0m, in \u001b[0;36mBaseAsyncIOLoop.start\u001b[0;34m(self)\u001b[0m\n\u001b[1;32m    197\u001b[0m     \u001b[38;5;28mself\u001b[39m\u001b[38;5;241m.\u001b[39m_setup_logging()\n\u001b[1;32m    198\u001b[0m     asyncio\u001b[38;5;241m.\u001b[39mset_event_loop(\u001b[38;5;28mself\u001b[39m\u001b[38;5;241m.\u001b[39masyncio_loop)\n\u001b[0;32m--> 199\u001b[0m     \u001b[38;5;28;43mself\u001b[39;49m\u001b[38;5;241;43m.\u001b[39;49m\u001b[43masyncio_loop\u001b[49m\u001b[38;5;241;43m.\u001b[39;49m\u001b[43mrun_forever\u001b[49m\u001b[43m(\u001b[49m\u001b[43m)\u001b[49m\n\u001b[1;32m    200\u001b[0m \u001b[38;5;28;01mfinally\u001b[39;00m:\n\u001b[1;32m    201\u001b[0m     asyncio\u001b[38;5;241m.\u001b[39mset_event_loop(old_loop)\n",
      "File \u001b[0;32m~/anaconda3/envs/nuplan/lib/python3.9/asyncio/base_events.py:586\u001b[0m, in \u001b[0;36mBaseEventLoop.run_forever\u001b[0;34m(self)\u001b[0m\n\u001b[1;32m    584\u001b[0m \u001b[38;5;124;03m\"\"\"Run until stop() is called.\"\"\"\u001b[39;00m\n\u001b[1;32m    585\u001b[0m \u001b[38;5;28mself\u001b[39m\u001b[38;5;241m.\u001b[39m_check_closed()\n\u001b[0;32m--> 586\u001b[0m \u001b[38;5;28;43mself\u001b[39;49m\u001b[38;5;241;43m.\u001b[39;49m\u001b[43m_check_running\u001b[49m\u001b[43m(\u001b[49m\u001b[43m)\u001b[49m\n\u001b[1;32m    587\u001b[0m \u001b[38;5;28mself\u001b[39m\u001b[38;5;241m.\u001b[39m_set_coroutine_origin_tracking(\u001b[38;5;28mself\u001b[39m\u001b[38;5;241m.\u001b[39m_debug)\n\u001b[1;32m    588\u001b[0m \u001b[38;5;28mself\u001b[39m\u001b[38;5;241m.\u001b[39m_thread_id \u001b[38;5;241m=\u001b[39m threading\u001b[38;5;241m.\u001b[39mget_ident()\n",
      "File \u001b[0;32m~/anaconda3/envs/nuplan/lib/python3.9/asyncio/base_events.py:578\u001b[0m, in \u001b[0;36mBaseEventLoop._check_running\u001b[0;34m(self)\u001b[0m\n\u001b[1;32m    576\u001b[0m \u001b[38;5;28;01mdef\u001b[39;00m \u001b[38;5;21m_check_running\u001b[39m(\u001b[38;5;28mself\u001b[39m):\n\u001b[1;32m    577\u001b[0m     \u001b[38;5;28;01mif\u001b[39;00m \u001b[38;5;28mself\u001b[39m\u001b[38;5;241m.\u001b[39mis_running():\n\u001b[0;32m--> 578\u001b[0m         \u001b[38;5;28;01mraise\u001b[39;00m \u001b[38;5;167;01mRuntimeError\u001b[39;00m(\u001b[38;5;124m'\u001b[39m\u001b[38;5;124mThis event loop is already running\u001b[39m\u001b[38;5;124m'\u001b[39m)\n\u001b[1;32m    579\u001b[0m     \u001b[38;5;28;01mif\u001b[39;00m events\u001b[38;5;241m.\u001b[39m_get_running_loop() \u001b[38;5;129;01mis\u001b[39;00m \u001b[38;5;129;01mnot\u001b[39;00m \u001b[38;5;28;01mNone\u001b[39;00m:\n\u001b[1;32m    580\u001b[0m         \u001b[38;5;28;01mraise\u001b[39;00m \u001b[38;5;167;01mRuntimeError\u001b[39;00m(\n\u001b[1;32m    581\u001b[0m             \u001b[38;5;124m'\u001b[39m\u001b[38;5;124mCannot run the event loop while another loop is running\u001b[39m\u001b[38;5;124m'\u001b[39m)\n",
      "\u001b[0;31mRuntimeError\u001b[0m: This event loop is already running"
     ]
    },
    {
     "name": "stderr",
     "output_type": "stream",
     "text": [
      "E0224 11:25:54.258639776    7532 fork_posix.cc:70]           Fork support is only compatible with the epoll1 and poll polling strategies\n"
     ]
    },
    {
     "name": "stdout",
     "output_type": "stream",
     "text": [
      "2022-02-24 11:25:54,895 INFO {/home/fla/anaconda3/envs/nuplan/lib/python3.9/site-packages/tornado/web.py:2239}  200 GET / (127.0.0.1) 92.26ms\n",
      "2022-02-24 11:25:54,895 INFO {/home/fla/anaconda3/envs/nuplan/lib/python3.9/site-packages/tornado/web.py:2239}  200 GET / (127.0.0.1) 92.26ms\n",
      "2022-02-24 11:25:54,965 INFO {/home/fla/anaconda3/envs/nuplan/lib/python3.9/site-packages/tornado/web.py:2239}  200 GET /static/js/bokeh.min.js?v=b3e0592a1e90448fa40dcddd5cd5217dcd6b3c7dd368020f6a8e4be4fdd1adbdeb2824eb75ab4f5120c80dc7684f8ff2aa2f8b00d6f393108c96d2f6f2cf0297 (127.0.0.1) 10.62ms\n",
      "2022-02-24 11:25:54,965 INFO {/home/fla/anaconda3/envs/nuplan/lib/python3.9/site-packages/tornado/web.py:2239}  200 GET /static/js/bokeh.min.js?v=b3e0592a1e90448fa40dcddd5cd5217dcd6b3c7dd368020f6a8e4be4fdd1adbdeb2824eb75ab4f5120c80dc7684f8ff2aa2f8b00d6f393108c96d2f6f2cf0297 (127.0.0.1) 10.62ms\n",
      "2022-02-24 11:25:54,971 INFO {/home/fla/anaconda3/envs/nuplan/lib/python3.9/site-packages/tornado/web.py:2239}  200 GET /static/js/bokeh-gl.min.js?v=863c26b3d7cbcf2a0dbf119589404b3ca66734754cd0af1d6e6ca17679ae711126917f171667194a6f04765eba06d9eb2d7d1f2ba7ef8fee420b9244557386f8 (127.0.0.1) 3.59ms\n",
      "2022-02-24 11:25:54,971 INFO {/home/fla/anaconda3/envs/nuplan/lib/python3.9/site-packages/tornado/web.py:2239}  200 GET /static/js/bokeh-gl.min.js?v=863c26b3d7cbcf2a0dbf119589404b3ca66734754cd0af1d6e6ca17679ae711126917f171667194a6f04765eba06d9eb2d7d1f2ba7ef8fee420b9244557386f8 (127.0.0.1) 3.59ms\n",
      "2022-02-24 11:25:54,978 INFO {/home/fla/anaconda3/envs/nuplan/lib/python3.9/site-packages/tornado/web.py:2239}  200 GET /static/js/bokeh-widgets.min.js?v=0ede1975746c96e47b24a08c83a45a9282b6524986185f620debadba5132e16c43f941626151d70d779dde7ff63ef84830eb4b277291752aea5176a795b00cec (127.0.0.1) 4.46ms\n",
      "2022-02-24 11:25:54,978 INFO {/home/fla/anaconda3/envs/nuplan/lib/python3.9/site-packages/tornado/web.py:2239}  200 GET /static/js/bokeh-widgets.min.js?v=0ede1975746c96e47b24a08c83a45a9282b6524986185f620debadba5132e16c43f941626151d70d779dde7ff63ef84830eb4b277291752aea5176a795b00cec (127.0.0.1) 4.46ms\n",
      "2022-02-24 11:25:54,984 INFO {/home/fla/anaconda3/envs/nuplan/lib/python3.9/site-packages/tornado/web.py:2239}  200 GET /static/js/bokeh-tables.min.js?v=e075943aa7fac687b27889393d32dde4c6dd9fc8ca7eeb3864ce96011372ea45d3807d8a2d15b322b051170360eda59a5cd9384219c4b150b271b864df4b07d3 (127.0.0.1) 2.88ms\n",
      "2022-02-24 11:25:54,984 INFO {/home/fla/anaconda3/envs/nuplan/lib/python3.9/site-packages/tornado/web.py:2239}  200 GET /static/js/bokeh-tables.min.js?v=e075943aa7fac687b27889393d32dde4c6dd9fc8ca7eeb3864ce96011372ea45d3807d8a2d15b322b051170360eda59a5cd9384219c4b150b271b864df4b07d3 (127.0.0.1) 2.88ms\n",
      "2022-02-24 11:25:54,988 INFO {/home/fla/anaconda3/envs/nuplan/lib/python3.9/site-packages/tornado/web.py:2239}  200 GET /static/js/bokeh-mathjax.min.js?v=9f66f62859aa420d9e3dcf269f16f897179bd90f9d87c8c67998bd9c73476478b7bccdcedb53b7b0c73c1fb16cfd3c2e2f2391996955d04d6d8d64c3d2957060 (127.0.0.1) 6.38ms\n",
      "2022-02-24 11:25:54,988 INFO {/home/fla/anaconda3/envs/nuplan/lib/python3.9/site-packages/tornado/web.py:2239}  200 GET /static/js/bokeh-mathjax.min.js?v=9f66f62859aa420d9e3dcf269f16f897179bd90f9d87c8c67998bd9c73476478b7bccdcedb53b7b0c73c1fb16cfd3c2e2f2391996955d04d6d8d64c3d2957060 (127.0.0.1) 6.38ms\n"
     ]
    },
    {
     "name": "stderr",
     "output_type": "stream",
     "text": [
      "INFO:tornado.access:200 GET / (127.0.0.1) 92.26ms\n",
      "INFO:tornado.access:200 GET /static/js/bokeh.min.js?v=b3e0592a1e90448fa40dcddd5cd5217dcd6b3c7dd368020f6a8e4be4fdd1adbdeb2824eb75ab4f5120c80dc7684f8ff2aa2f8b00d6f393108c96d2f6f2cf0297 (127.0.0.1) 10.62ms\n",
      "INFO:tornado.access:200 GET /static/js/bokeh-gl.min.js?v=863c26b3d7cbcf2a0dbf119589404b3ca66734754cd0af1d6e6ca17679ae711126917f171667194a6f04765eba06d9eb2d7d1f2ba7ef8fee420b9244557386f8 (127.0.0.1) 3.59ms\n",
      "INFO:tornado.access:200 GET /static/js/bokeh-widgets.min.js?v=0ede1975746c96e47b24a08c83a45a9282b6524986185f620debadba5132e16c43f941626151d70d779dde7ff63ef84830eb4b277291752aea5176a795b00cec (127.0.0.1) 4.46ms\n",
      "INFO:tornado.access:200 GET /static/js/bokeh-tables.min.js?v=e075943aa7fac687b27889393d32dde4c6dd9fc8ca7eeb3864ce96011372ea45d3807d8a2d15b322b051170360eda59a5cd9384219c4b150b271b864df4b07d3 (127.0.0.1) 2.88ms\n",
      "INFO:tornado.access:200 GET /static/js/bokeh-mathjax.min.js?v=9f66f62859aa420d9e3dcf269f16f897179bd90f9d87c8c67998bd9c73476478b7bccdcedb53b7b0c73c1fb16cfd3c2e2f2391996955d04d6d8d64c3d2957060 (127.0.0.1) 6.38ms\n"
     ]
    },
    {
     "name": "stdout",
     "output_type": "stream",
     "text": [
      "2022-02-24 11:25:55,244 WARNING {/home/fla/anaconda3/envs/nuplan/lib/python3.9/site-packages/tornado/web.py:2239}  404 GET /favicon.ico (127.0.0.1) 1.29ms\n",
      "2022-02-24 11:25:55,244 WARNING {/home/fla/anaconda3/envs/nuplan/lib/python3.9/site-packages/tornado/web.py:2239}  404 GET /favicon.ico (127.0.0.1) 1.29ms\n",
      "2022-02-24 11:25:55,250 INFO {/home/fla/anaconda3/envs/nuplan/lib/python3.9/site-packages/tornado/web.py:2239}  101 GET /ws (127.0.0.1) 1.98ms\n",
      "2022-02-24 11:25:55,250 INFO {/home/fla/anaconda3/envs/nuplan/lib/python3.9/site-packages/tornado/web.py:2239}  101 GET /ws (127.0.0.1) 1.98ms\n",
      "2022-02-24 11:25:55,251 INFO {/home/fla/anaconda3/envs/nuplan/lib/python3.9/site-packages/bokeh/server/views/ws.py:132}  WebSocket connection opened\n",
      "2022-02-24 11:25:55,251 INFO {/home/fla/anaconda3/envs/nuplan/lib/python3.9/site-packages/bokeh/server/views/ws.py:132}  WebSocket connection opened\n",
      "2022-02-24 11:25:55,255 INFO {/home/fla/anaconda3/envs/nuplan/lib/python3.9/site-packages/bokeh/server/views/ws.py:213}  ServerConnection created\n",
      "2022-02-24 11:25:55,255 INFO {/home/fla/anaconda3/envs/nuplan/lib/python3.9/site-packages/bokeh/server/views/ws.py:213}  ServerConnection created\n",
      "2022-02-24 11:25:55,443 INFO {/home/fla/anaconda3/envs/nuplan/lib/python3.9/site-packages/tornado/web.py:2239}  304 GET /resource/style.css (127.0.0.1) 2.07ms\n",
      "2022-02-24 11:25:55,443 INFO {/home/fla/anaconda3/envs/nuplan/lib/python3.9/site-packages/tornado/web.py:2239}  304 GET /resource/style.css (127.0.0.1) 2.07ms\n"
     ]
    },
    {
     "name": "stderr",
     "output_type": "stream",
     "text": [
      "WARNING:tornado.access:404 GET /favicon.ico (127.0.0.1) 1.29ms\n",
      "INFO:tornado.access:101 GET /ws (127.0.0.1) 1.98ms\n",
      "INFO:tornado.access:304 GET /resource/style.css (127.0.0.1) 2.07ms\n"
     ]
    },
    {
     "name": "stdout",
     "output_type": "stream",
     "text": [
      "2022-02-24 11:25:55,454 INFO {/home/fla/anaconda3/envs/nuplan/lib/python3.9/site-packages/tornado/web.py:2239}  304 GET /resource/motional_logo.png (127.0.0.1) 2.43ms\n",
      "2022-02-24 11:25:55,454 INFO {/home/fla/anaconda3/envs/nuplan/lib/python3.9/site-packages/tornado/web.py:2239}  304 GET /resource/motional_logo.png (127.0.0.1) 2.43ms\n"
     ]
    },
    {
     "name": "stderr",
     "output_type": "stream",
     "text": [
      "INFO:tornado.access:304 GET /resource/motional_logo.png (127.0.0.1) 2.43ms\n"
     ]
    },
    {
     "name": "stdout",
     "output_type": "stream",
     "text": [
      "2022-02-24 11:32:38,308 INFO {/home/fla/anaconda3/envs/nuplan/lib/python3.9/site-packages/tornado/web.py:2239}  200 GET / (127.0.0.1) 70.39ms\n",
      "2022-02-24 11:32:38,308 INFO {/home/fla/anaconda3/envs/nuplan/lib/python3.9/site-packages/tornado/web.py:2239}  200 GET / (127.0.0.1) 70.39ms\n",
      "2022-02-24 11:32:38,347 INFO {/home/fla/anaconda3/envs/nuplan/lib/python3.9/site-packages/bokeh/server/views/ws.py:306}  WebSocket connection closed: code=1001, reason=None\n",
      "2022-02-24 11:32:38,347 INFO {/home/fla/anaconda3/envs/nuplan/lib/python3.9/site-packages/bokeh/server/views/ws.py:306}  WebSocket connection closed: code=1001, reason=None\n"
     ]
    },
    {
     "name": "stderr",
     "output_type": "stream",
     "text": [
      "INFO:tornado.access:200 GET / (127.0.0.1) 70.39ms\n"
     ]
    },
    {
     "name": "stdout",
     "output_type": "stream",
     "text": [
      "2022-02-24 11:32:38,714 INFO {/home/fla/anaconda3/envs/nuplan/lib/python3.9/site-packages/tornado/web.py:2239}  101 GET /ws (127.0.0.1) 0.43ms\n",
      "2022-02-24 11:32:38,714 INFO {/home/fla/anaconda3/envs/nuplan/lib/python3.9/site-packages/tornado/web.py:2239}  101 GET /ws (127.0.0.1) 0.43ms\n",
      "2022-02-24 11:32:38,715 INFO {/home/fla/anaconda3/envs/nuplan/lib/python3.9/site-packages/bokeh/server/views/ws.py:132}  WebSocket connection opened\n",
      "2022-02-24 11:32:38,715 INFO {/home/fla/anaconda3/envs/nuplan/lib/python3.9/site-packages/bokeh/server/views/ws.py:132}  WebSocket connection opened\n",
      "2022-02-24 11:32:38,715 INFO {/home/fla/anaconda3/envs/nuplan/lib/python3.9/site-packages/bokeh/server/views/ws.py:213}  ServerConnection created\n",
      "2022-02-24 11:32:38,715 INFO {/home/fla/anaconda3/envs/nuplan/lib/python3.9/site-packages/bokeh/server/views/ws.py:213}  ServerConnection created\n"
     ]
    },
    {
     "name": "stderr",
     "output_type": "stream",
     "text": [
      "INFO:tornado.access:101 GET /ws (127.0.0.1) 0.43ms\n"
     ]
    },
    {
     "name": "stdout",
     "output_type": "stream",
     "text": [
      "2022-02-24 11:32:51,507 INFO {/home/fla/anaconda3/envs/nuplan/lib/python3.9/site-packages/bokeh/server/views/ws.py:306}  WebSocket connection closed: code=1001, reason=None\n",
      "2022-02-24 11:32:51,507 INFO {/home/fla/anaconda3/envs/nuplan/lib/python3.9/site-packages/bokeh/server/views/ws.py:306}  WebSocket connection closed: code=1001, reason=None\n"
     ]
    }
   ],
   "source": [
    "from nuplan.planning.script.run_nuboard import main as main_nuboard\n",
    "\n",
    "# Run nuBoard\n",
    "main_nuboard(cfg)"
   ]
  },
  {
   "cell_type": "markdown",
   "id": "177cd444",
   "metadata": {},
   "source": [
    "## Launch nuBoard (embedded within the notebook - alternative)"
   ]
  },
  {
   "cell_type": "code",
   "execution_count": 12,
   "id": "cd4b6454",
   "metadata": {},
   "outputs": [
    {
     "ename": "ConfigAttributeError",
     "evalue": "Key 'bokeh' is not in struct\n    full_key: bokeh\n    object_type=dict",
     "output_type": "error",
     "traceback": [
      "\u001b[0;31m---------------------------------------------------------------------------\u001b[0m",
      "\u001b[0;31mConfigAttributeError\u001b[0m                      Traceback (most recent call last)",
      "Input \u001b[0;32mIn [12]\u001b[0m, in \u001b[0;36m<module>\u001b[0;34m\u001b[0m\n\u001b[1;32m      2\u001b[0m \u001b[38;5;28;01mfrom\u001b[39;00m \u001b[38;5;21;01mnuplan\u001b[39;00m\u001b[38;5;21;01m.\u001b[39;00m\u001b[38;5;21;01mplanning\u001b[39;00m\u001b[38;5;21;01m.\u001b[39;00m\u001b[38;5;21;01mscript\u001b[39;00m\u001b[38;5;21;01m.\u001b[39;00m\u001b[38;5;21;01mrun_nuboard\u001b[39;00m \u001b[38;5;28;01mimport\u001b[39;00m initialize_nuboard\n\u001b[1;32m      4\u001b[0m \u001b[38;5;66;03m# Make sure that the notebook working directory is \"/notebooks\" and that Jupyter was launched at the root of the repo\u001b[39;00m\n\u001b[0;32m----> 5\u001b[0m \u001b[43mcfg\u001b[49m\u001b[38;5;241;43m.\u001b[39;49m\u001b[43mbokeh\u001b[49m\u001b[38;5;241m.\u001b[39mresource_prefix \u001b[38;5;241m=\u001b[39m \u001b[38;5;124m'\u001b[39m\u001b[38;5;124m/notebooks/nuplan/planning/metrics/board/\u001b[39m\u001b[38;5;124m'\u001b[39m  \u001b[38;5;66;03m# pass CSS resources to the notebook\u001b[39;00m\n\u001b[1;32m      7\u001b[0m \u001b[38;5;66;03m# Run the nuBoard\u001b[39;00m\n\u001b[1;32m      8\u001b[0m output_notebook()\n",
      "File \u001b[0;32m~/anaconda3/envs/nuplan/lib/python3.9/site-packages/omegaconf/dictconfig.py:357\u001b[0m, in \u001b[0;36mDictConfig.__getattr__\u001b[0;34m(self, key)\u001b[0m\n\u001b[1;32m    353\u001b[0m     \u001b[38;5;28mself\u001b[39m\u001b[38;5;241m.\u001b[39m_format_and_raise(\n\u001b[1;32m    354\u001b[0m         key\u001b[38;5;241m=\u001b[39mkey, value\u001b[38;5;241m=\u001b[39m\u001b[38;5;28;01mNone\u001b[39;00m, cause\u001b[38;5;241m=\u001b[39me, type_override\u001b[38;5;241m=\u001b[39mConfigAttributeError\n\u001b[1;32m    355\u001b[0m     )\n\u001b[1;32m    356\u001b[0m \u001b[38;5;28;01mexcept\u001b[39;00m \u001b[38;5;167;01mException\u001b[39;00m \u001b[38;5;28;01mas\u001b[39;00m e:\n\u001b[0;32m--> 357\u001b[0m     \u001b[38;5;28;43mself\u001b[39;49m\u001b[38;5;241;43m.\u001b[39;49m\u001b[43m_format_and_raise\u001b[49m\u001b[43m(\u001b[49m\u001b[43mkey\u001b[49m\u001b[38;5;241;43m=\u001b[39;49m\u001b[43mkey\u001b[49m\u001b[43m,\u001b[49m\u001b[43m \u001b[49m\u001b[43mvalue\u001b[49m\u001b[38;5;241;43m=\u001b[39;49m\u001b[38;5;28;43;01mNone\u001b[39;49;00m\u001b[43m,\u001b[49m\u001b[43m \u001b[49m\u001b[43mcause\u001b[49m\u001b[38;5;241;43m=\u001b[39;49m\u001b[43me\u001b[49m\u001b[43m)\u001b[49m\n",
      "File \u001b[0;32m~/anaconda3/envs/nuplan/lib/python3.9/site-packages/omegaconf/base.py:190\u001b[0m, in \u001b[0;36mNode._format_and_raise\u001b[0;34m(self, key, value, cause, type_override)\u001b[0m\n\u001b[1;32m    187\u001b[0m \u001b[38;5;28;01mdef\u001b[39;00m \u001b[38;5;21m_format_and_raise\u001b[39m(\n\u001b[1;32m    188\u001b[0m     \u001b[38;5;28mself\u001b[39m, key: Any, value: Any, cause: \u001b[38;5;167;01mException\u001b[39;00m, type_override: Any \u001b[38;5;241m=\u001b[39m \u001b[38;5;28;01mNone\u001b[39;00m\n\u001b[1;32m    189\u001b[0m ) \u001b[38;5;241m-\u001b[39m\u001b[38;5;241m>\u001b[39m \u001b[38;5;28;01mNone\u001b[39;00m:\n\u001b[0;32m--> 190\u001b[0m     \u001b[43mformat_and_raise\u001b[49m\u001b[43m(\u001b[49m\n\u001b[1;32m    191\u001b[0m \u001b[43m        \u001b[49m\u001b[43mnode\u001b[49m\u001b[38;5;241;43m=\u001b[39;49m\u001b[38;5;28;43mself\u001b[39;49m\u001b[43m,\u001b[49m\n\u001b[1;32m    192\u001b[0m \u001b[43m        \u001b[49m\u001b[43mkey\u001b[49m\u001b[38;5;241;43m=\u001b[39;49m\u001b[43mkey\u001b[49m\u001b[43m,\u001b[49m\n\u001b[1;32m    193\u001b[0m \u001b[43m        \u001b[49m\u001b[43mvalue\u001b[49m\u001b[38;5;241;43m=\u001b[39;49m\u001b[43mvalue\u001b[49m\u001b[43m,\u001b[49m\n\u001b[1;32m    194\u001b[0m \u001b[43m        \u001b[49m\u001b[43mmsg\u001b[49m\u001b[38;5;241;43m=\u001b[39;49m\u001b[38;5;28;43mstr\u001b[39;49m\u001b[43m(\u001b[49m\u001b[43mcause\u001b[49m\u001b[43m)\u001b[49m\u001b[43m,\u001b[49m\n\u001b[1;32m    195\u001b[0m \u001b[43m        \u001b[49m\u001b[43mcause\u001b[49m\u001b[38;5;241;43m=\u001b[39;49m\u001b[43mcause\u001b[49m\u001b[43m,\u001b[49m\n\u001b[1;32m    196\u001b[0m \u001b[43m        \u001b[49m\u001b[43mtype_override\u001b[49m\u001b[38;5;241;43m=\u001b[39;49m\u001b[43mtype_override\u001b[49m\u001b[43m,\u001b[49m\n\u001b[1;32m    197\u001b[0m \u001b[43m    \u001b[49m\u001b[43m)\u001b[49m\n\u001b[1;32m    198\u001b[0m     \u001b[38;5;28;01massert\u001b[39;00m \u001b[38;5;28;01mFalse\u001b[39;00m\n",
      "File \u001b[0;32m~/anaconda3/envs/nuplan/lib/python3.9/site-packages/omegaconf/_utils.py:741\u001b[0m, in \u001b[0;36mformat_and_raise\u001b[0;34m(node, key, value, msg, cause, type_override)\u001b[0m\n\u001b[1;32m    739\u001b[0m         ex \u001b[38;5;241m=\u001b[39m type_override(\u001b[38;5;28mstr\u001b[39m(cause))\n\u001b[1;32m    740\u001b[0m         ex\u001b[38;5;241m.\u001b[39m\u001b[38;5;18m__dict__\u001b[39m \u001b[38;5;241m=\u001b[39m copy\u001b[38;5;241m.\u001b[39mdeepcopy(cause\u001b[38;5;241m.\u001b[39m\u001b[38;5;18m__dict__\u001b[39m)\n\u001b[0;32m--> 741\u001b[0m     \u001b[43m_raise\u001b[49m\u001b[43m(\u001b[49m\u001b[43mex\u001b[49m\u001b[43m,\u001b[49m\u001b[43m \u001b[49m\u001b[43mcause\u001b[49m\u001b[43m)\u001b[49m\n\u001b[1;32m    743\u001b[0m object_type: Optional[Type[Any]]\n\u001b[1;32m    744\u001b[0m object_type_str: Optional[\u001b[38;5;28mstr\u001b[39m] \u001b[38;5;241m=\u001b[39m \u001b[38;5;28;01mNone\u001b[39;00m\n",
      "File \u001b[0;32m~/anaconda3/envs/nuplan/lib/python3.9/site-packages/omegaconf/_utils.py:719\u001b[0m, in \u001b[0;36m_raise\u001b[0;34m(ex, cause)\u001b[0m\n\u001b[1;32m    717\u001b[0m \u001b[38;5;28;01melse\u001b[39;00m:\n\u001b[1;32m    718\u001b[0m     ex\u001b[38;5;241m.\u001b[39m__cause__ \u001b[38;5;241m=\u001b[39m \u001b[38;5;28;01mNone\u001b[39;00m\n\u001b[0;32m--> 719\u001b[0m \u001b[38;5;28;01mraise\u001b[39;00m ex\u001b[38;5;241m.\u001b[39mwith_traceback(sys\u001b[38;5;241m.\u001b[39mexc_info()[\u001b[38;5;241m2\u001b[39m])\n",
      "File \u001b[0;32m~/anaconda3/envs/nuplan/lib/python3.9/site-packages/omegaconf/dictconfig.py:351\u001b[0m, in \u001b[0;36mDictConfig.__getattr__\u001b[0;34m(self, key)\u001b[0m\n\u001b[1;32m    348\u001b[0m     \u001b[38;5;28;01mraise\u001b[39;00m \u001b[38;5;167;01mAttributeError\u001b[39;00m()\n\u001b[1;32m    350\u001b[0m \u001b[38;5;28;01mtry\u001b[39;00m:\n\u001b[0;32m--> 351\u001b[0m     \u001b[38;5;28;01mreturn\u001b[39;00m \u001b[38;5;28;43mself\u001b[39;49m\u001b[38;5;241;43m.\u001b[39;49m\u001b[43m_get_impl\u001b[49m\u001b[43m(\u001b[49m\u001b[43mkey\u001b[49m\u001b[38;5;241;43m=\u001b[39;49m\u001b[43mkey\u001b[49m\u001b[43m,\u001b[49m\u001b[43m \u001b[49m\u001b[43mdefault_value\u001b[49m\u001b[38;5;241;43m=\u001b[39;49m\u001b[43m_DEFAULT_MARKER_\u001b[49m\u001b[43m)\u001b[49m\n\u001b[1;32m    352\u001b[0m \u001b[38;5;28;01mexcept\u001b[39;00m ConfigKeyError \u001b[38;5;28;01mas\u001b[39;00m e:\n\u001b[1;32m    353\u001b[0m     \u001b[38;5;28mself\u001b[39m\u001b[38;5;241m.\u001b[39m_format_and_raise(\n\u001b[1;32m    354\u001b[0m         key\u001b[38;5;241m=\u001b[39mkey, value\u001b[38;5;241m=\u001b[39m\u001b[38;5;28;01mNone\u001b[39;00m, cause\u001b[38;5;241m=\u001b[39me, type_override\u001b[38;5;241m=\u001b[39mConfigAttributeError\n\u001b[1;32m    355\u001b[0m     )\n",
      "File \u001b[0;32m~/anaconda3/envs/nuplan/lib/python3.9/site-packages/omegaconf/dictconfig.py:438\u001b[0m, in \u001b[0;36mDictConfig._get_impl\u001b[0;34m(self, key, default_value)\u001b[0m\n\u001b[1;32m    436\u001b[0m \u001b[38;5;28;01mdef\u001b[39;00m \u001b[38;5;21m_get_impl\u001b[39m(\u001b[38;5;28mself\u001b[39m, key: DictKeyType, default_value: Any) \u001b[38;5;241m-\u001b[39m\u001b[38;5;241m>\u001b[39m Any:\n\u001b[1;32m    437\u001b[0m     \u001b[38;5;28;01mtry\u001b[39;00m:\n\u001b[0;32m--> 438\u001b[0m         node \u001b[38;5;241m=\u001b[39m \u001b[38;5;28;43mself\u001b[39;49m\u001b[38;5;241;43m.\u001b[39;49m\u001b[43m_get_node\u001b[49m\u001b[43m(\u001b[49m\u001b[43mkey\u001b[49m\u001b[38;5;241;43m=\u001b[39;49m\u001b[43mkey\u001b[49m\u001b[43m,\u001b[49m\u001b[43m \u001b[49m\u001b[43mthrow_on_missing_key\u001b[49m\u001b[38;5;241;43m=\u001b[39;49m\u001b[38;5;28;43;01mTrue\u001b[39;49;00m\u001b[43m)\u001b[49m\n\u001b[1;32m    439\u001b[0m     \u001b[38;5;28;01mexcept\u001b[39;00m (ConfigAttributeError, ConfigKeyError):\n\u001b[1;32m    440\u001b[0m         \u001b[38;5;28;01mif\u001b[39;00m default_value \u001b[38;5;129;01mis\u001b[39;00m \u001b[38;5;129;01mnot\u001b[39;00m _DEFAULT_MARKER_:\n",
      "File \u001b[0;32m~/anaconda3/envs/nuplan/lib/python3.9/site-packages/omegaconf/dictconfig.py:465\u001b[0m, in \u001b[0;36mDictConfig._get_node\u001b[0;34m(self, key, validate_access, throw_on_missing_value, throw_on_missing_key)\u001b[0m\n\u001b[1;32m    462\u001b[0m         \u001b[38;5;28;01mreturn\u001b[39;00m \u001b[38;5;28;01mNone\u001b[39;00m\n\u001b[1;32m    464\u001b[0m \u001b[38;5;28;01mif\u001b[39;00m validate_access:\n\u001b[0;32m--> 465\u001b[0m     \u001b[38;5;28;43mself\u001b[39;49m\u001b[38;5;241;43m.\u001b[39;49m\u001b[43m_validate_get\u001b[49m\u001b[43m(\u001b[49m\u001b[43mkey\u001b[49m\u001b[43m)\u001b[49m\n\u001b[1;32m    467\u001b[0m value: Optional[Node] \u001b[38;5;241m=\u001b[39m \u001b[38;5;28mself\u001b[39m\u001b[38;5;241m.\u001b[39m\u001b[38;5;18m__dict__\u001b[39m[\u001b[38;5;124m\"\u001b[39m\u001b[38;5;124m_content\u001b[39m\u001b[38;5;124m\"\u001b[39m]\u001b[38;5;241m.\u001b[39mget(key)\n\u001b[1;32m    468\u001b[0m \u001b[38;5;28;01mif\u001b[39;00m value \u001b[38;5;129;01mis\u001b[39;00m \u001b[38;5;28;01mNone\u001b[39;00m:\n",
      "File \u001b[0;32m~/anaconda3/envs/nuplan/lib/python3.9/site-packages/omegaconf/dictconfig.py:166\u001b[0m, in \u001b[0;36mDictConfig._validate_get\u001b[0;34m(self, key, value)\u001b[0m\n\u001b[1;32m    164\u001b[0m \u001b[38;5;28;01melse\u001b[39;00m:\n\u001b[1;32m    165\u001b[0m     msg \u001b[38;5;241m=\u001b[39m \u001b[38;5;124mf\u001b[39m\u001b[38;5;124m\"\u001b[39m\u001b[38;5;124mKey \u001b[39m\u001b[38;5;124m'\u001b[39m\u001b[38;5;132;01m{\u001b[39;00mkey\u001b[38;5;132;01m}\u001b[39;00m\u001b[38;5;124m'\u001b[39m\u001b[38;5;124m is not in struct\u001b[39m\u001b[38;5;124m\"\u001b[39m\n\u001b[0;32m--> 166\u001b[0m \u001b[38;5;28;43mself\u001b[39;49m\u001b[38;5;241;43m.\u001b[39;49m\u001b[43m_format_and_raise\u001b[49m\u001b[43m(\u001b[49m\n\u001b[1;32m    167\u001b[0m \u001b[43m    \u001b[49m\u001b[43mkey\u001b[49m\u001b[38;5;241;43m=\u001b[39;49m\u001b[43mkey\u001b[49m\u001b[43m,\u001b[49m\u001b[43m \u001b[49m\u001b[43mvalue\u001b[49m\u001b[38;5;241;43m=\u001b[39;49m\u001b[43mvalue\u001b[49m\u001b[43m,\u001b[49m\u001b[43m \u001b[49m\u001b[43mcause\u001b[49m\u001b[38;5;241;43m=\u001b[39;49m\u001b[43mConfigAttributeError\u001b[49m\u001b[43m(\u001b[49m\u001b[43mmsg\u001b[49m\u001b[43m)\u001b[49m\n\u001b[1;32m    168\u001b[0m \u001b[43m\u001b[49m\u001b[43m)\u001b[49m\n",
      "File \u001b[0;32m~/anaconda3/envs/nuplan/lib/python3.9/site-packages/omegaconf/base.py:190\u001b[0m, in \u001b[0;36mNode._format_and_raise\u001b[0;34m(self, key, value, cause, type_override)\u001b[0m\n\u001b[1;32m    187\u001b[0m \u001b[38;5;28;01mdef\u001b[39;00m \u001b[38;5;21m_format_and_raise\u001b[39m(\n\u001b[1;32m    188\u001b[0m     \u001b[38;5;28mself\u001b[39m, key: Any, value: Any, cause: \u001b[38;5;167;01mException\u001b[39;00m, type_override: Any \u001b[38;5;241m=\u001b[39m \u001b[38;5;28;01mNone\u001b[39;00m\n\u001b[1;32m    189\u001b[0m ) \u001b[38;5;241m-\u001b[39m\u001b[38;5;241m>\u001b[39m \u001b[38;5;28;01mNone\u001b[39;00m:\n\u001b[0;32m--> 190\u001b[0m     \u001b[43mformat_and_raise\u001b[49m\u001b[43m(\u001b[49m\n\u001b[1;32m    191\u001b[0m \u001b[43m        \u001b[49m\u001b[43mnode\u001b[49m\u001b[38;5;241;43m=\u001b[39;49m\u001b[38;5;28;43mself\u001b[39;49m\u001b[43m,\u001b[49m\n\u001b[1;32m    192\u001b[0m \u001b[43m        \u001b[49m\u001b[43mkey\u001b[49m\u001b[38;5;241;43m=\u001b[39;49m\u001b[43mkey\u001b[49m\u001b[43m,\u001b[49m\n\u001b[1;32m    193\u001b[0m \u001b[43m        \u001b[49m\u001b[43mvalue\u001b[49m\u001b[38;5;241;43m=\u001b[39;49m\u001b[43mvalue\u001b[49m\u001b[43m,\u001b[49m\n\u001b[1;32m    194\u001b[0m \u001b[43m        \u001b[49m\u001b[43mmsg\u001b[49m\u001b[38;5;241;43m=\u001b[39;49m\u001b[38;5;28;43mstr\u001b[39;49m\u001b[43m(\u001b[49m\u001b[43mcause\u001b[49m\u001b[43m)\u001b[49m\u001b[43m,\u001b[49m\n\u001b[1;32m    195\u001b[0m \u001b[43m        \u001b[49m\u001b[43mcause\u001b[49m\u001b[38;5;241;43m=\u001b[39;49m\u001b[43mcause\u001b[49m\u001b[43m,\u001b[49m\n\u001b[1;32m    196\u001b[0m \u001b[43m        \u001b[49m\u001b[43mtype_override\u001b[49m\u001b[38;5;241;43m=\u001b[39;49m\u001b[43mtype_override\u001b[49m\u001b[43m,\u001b[49m\n\u001b[1;32m    197\u001b[0m \u001b[43m    \u001b[49m\u001b[43m)\u001b[49m\n\u001b[1;32m    198\u001b[0m     \u001b[38;5;28;01massert\u001b[39;00m \u001b[38;5;28;01mFalse\u001b[39;00m\n",
      "File \u001b[0;32m~/anaconda3/envs/nuplan/lib/python3.9/site-packages/omegaconf/_utils.py:821\u001b[0m, in \u001b[0;36mformat_and_raise\u001b[0;34m(node, key, value, msg, cause, type_override)\u001b[0m\n\u001b[1;32m    818\u001b[0m     ex\u001b[38;5;241m.\u001b[39mref_type \u001b[38;5;241m=\u001b[39m ref_type\n\u001b[1;32m    819\u001b[0m     ex\u001b[38;5;241m.\u001b[39mref_type_str \u001b[38;5;241m=\u001b[39m ref_type_str\n\u001b[0;32m--> 821\u001b[0m \u001b[43m_raise\u001b[49m\u001b[43m(\u001b[49m\u001b[43mex\u001b[49m\u001b[43m,\u001b[49m\u001b[43m \u001b[49m\u001b[43mcause\u001b[49m\u001b[43m)\u001b[49m\n",
      "File \u001b[0;32m~/anaconda3/envs/nuplan/lib/python3.9/site-packages/omegaconf/_utils.py:719\u001b[0m, in \u001b[0;36m_raise\u001b[0;34m(ex, cause)\u001b[0m\n\u001b[1;32m    717\u001b[0m \u001b[38;5;28;01melse\u001b[39;00m:\n\u001b[1;32m    718\u001b[0m     ex\u001b[38;5;241m.\u001b[39m__cause__ \u001b[38;5;241m=\u001b[39m \u001b[38;5;28;01mNone\u001b[39;00m\n\u001b[0;32m--> 719\u001b[0m \u001b[38;5;28;01mraise\u001b[39;00m ex\u001b[38;5;241m.\u001b[39mwith_traceback(sys\u001b[38;5;241m.\u001b[39mexc_info()[\u001b[38;5;241m2\u001b[39m])\n",
      "\u001b[0;31mConfigAttributeError\u001b[0m: Key 'bokeh' is not in struct\n    full_key: bokeh\n    object_type=dict"
     ]
    },
    {
     "name": "stdout",
     "output_type": "stream",
     "text": [
      "2022-02-22 16:28:08,456 INFO {/home/fla/anaconda3/envs/nuplan/lib/python3.9/site-packages/tornado/web.py:2239}  200 GET / (172.21.6.84) 173.90ms\n",
      "2022-02-22 16:28:08,456 INFO {/home/fla/anaconda3/envs/nuplan/lib/python3.9/site-packages/tornado/web.py:2239}  200 GET / (172.21.6.84) 173.90ms\n"
     ]
    },
    {
     "name": "stderr",
     "output_type": "stream",
     "text": [
      "INFO:tornado.access:200 GET / (172.21.6.84) 173.90ms\n"
     ]
    },
    {
     "name": "stdout",
     "output_type": "stream",
     "text": [
      "2022-02-22 16:28:08,680 ERROR {/home/fla/anaconda3/envs/nuplan/lib/python3.9/site-packages/bokeh/server/views/ws.py:119}  Refusing websocket connection from Origin 'http://172.21.2.20:5006';                       use --allow-websocket-origin=172.21.2.20:5006 or set BOKEH_ALLOW_WS_ORIGIN=172.21.2.20:5006 to permit this; currently we allow origins {'localhost:5006'}\n",
      "2022-02-22 16:28:08,680 ERROR {/home/fla/anaconda3/envs/nuplan/lib/python3.9/site-packages/bokeh/server/views/ws.py:119}  Refusing websocket connection from Origin 'http://172.21.2.20:5006';                       use --allow-websocket-origin=172.21.2.20:5006 or set BOKEH_ALLOW_WS_ORIGIN=172.21.2.20:5006 to permit this; currently we allow origins {'localhost:5006'}\n",
      "2022-02-22 16:28:08,682 WARNING {/home/fla/anaconda3/envs/nuplan/lib/python3.9/site-packages/tornado/web.py:2239}  403 GET /ws (172.21.6.84) 2.53ms\n",
      "2022-02-22 16:28:08,682 WARNING {/home/fla/anaconda3/envs/nuplan/lib/python3.9/site-packages/tornado/web.py:2239}  403 GET /ws (172.21.6.84) 2.53ms\n"
     ]
    },
    {
     "name": "stderr",
     "output_type": "stream",
     "text": [
      "WARNING:tornado.access:403 GET /ws (172.21.6.84) 2.53ms\n"
     ]
    }
   ],
   "source": [
    "from bokeh.io import show, output_notebook\n",
    "from nuplan.planning.script.run_nuboard import initialize_nuboard\n",
    "\n",
    "# Make sure that the notebook working directory is \"/notebooks\" and that Jupyter was launched at the root of the repo\n",
    "cfg.bokeh.resource_prefix = '/notebooks/nuplan/planning/metrics/board/'  # pass CSS resources to the notebook\n",
    "\n",
    "# Run the nuBoard\n",
    "output_notebook()\n",
    "nuboard = initialize_nuboard(cfg)\n",
    "show(nuboard.main_page)"
   ]
  },
  {
   "cell_type": "markdown",
   "id": "4624979a",
   "metadata": {},
   "source": [
    "## Launch nuBoard (command line - alternative)"
   ]
  },
  {
   "cell_type": "markdown",
   "id": "557156ac",
   "metadata": {},
   "source": [
    "nuBoard can be launched alternatively with:\n",
    "```\n",
    "$ python nuplan/planning/script/run_nuboard.py\n",
    "```\n",
    "\n",
    "Simulation files (.nuboard) can be selected under the configuration tab."
   ]
  }
 ],
 "metadata": {
  "interpreter": {
   "hash": "5aea00fa936a67f14323fa2d54163d7dc1f328c617e433b03a680f73ee2dd426"
  },
  "kernelspec": {
   "display_name": "Python 3 (ipykernel)",
   "language": "python",
   "name": "python3"
  },
  "language_info": {
   "codemirror_mode": {
    "name": "ipython",
    "version": 3
   },
   "file_extension": ".py",
   "mimetype": "text/x-python",
   "name": "python",
   "nbconvert_exporter": "python",
   "pygments_lexer": "ipython3",
   "version": "3.9.7"
  }
 },
 "nbformat": 4,
 "nbformat_minor": 5
}
